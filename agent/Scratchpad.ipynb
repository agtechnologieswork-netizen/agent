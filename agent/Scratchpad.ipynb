{
 "cells": [
  {
   "cell_type": "code",
   "execution_count": 1,
   "metadata": {},
   "outputs": [],
   "source": [
    "import re\n",
    "import jinja2\n",
    "from anthropic import AnthropicBedrock\n",
    "from core import stages"
   ]
  },
  {
   "cell_type": "code",
   "execution_count": 2,
   "metadata": {},
   "outputs": [],
   "source": [
    "client = AnthropicBedrock(aws_profile=\"dev\", aws_region=\"us-west-2\")"
   ]
  },
  {
   "cell_type": "code",
   "execution_count": 3,
   "metadata": {},
   "outputs": [],
   "source": [
    "environment = jinja2.Environment()"
   ]
  },
  {
   "cell_type": "code",
   "execution_count": 4,
   "metadata": {},
   "outputs": [],
   "source": [
    "tsp_tpl = environment.from_string(stages.typespec.PROMPT)\n",
    "dzl_tpl = environment.from_string(stages.drizzle.PROMPT)\n",
    "rtr_tpl = environment.from_string(stages.router.PROMPT)\n",
    "hdl_tpl = environment.from_string(stages.handlers.PROMPT)\n",
    "pre_tpl = environment.from_string(stages.processors.PROMPT_PRE)"
   ]
  },
  {
   "cell_type": "code",
   "execution_count": 5,
   "metadata": {},
   "outputs": [],
   "source": [
    "application_description = \"\"\"\n",
    "Bot that tracks my exercise routine in the gym, tracks progress and suggests new routines\n",
    "for specific list of available equipment and time constraints.\n",
    "\"\"\".strip()"
   ]
  },
  {
   "cell_type": "code",
   "execution_count": 6,
   "metadata": {},
   "outputs": [],
   "source": [
    "prompt = tsp_tpl.render(\n",
    "    application_description=application_description,\n",
    ")\n",
    "\n",
    "tsp_response = client.messages.create(\n",
    "    model=\"anthropic.claude-3-5-sonnet-20241022-v2:0\",\n",
    "    max_tokens=8192,\n",
    "    messages=[{\"role\": \"user\", \"content\": prompt}]\n",
    ")\n",
    "typespec = stages.typespec.parse_output(tsp_response.content[0].text)"
   ]
  },
  {
   "cell_type": "code",
   "execution_count": 7,
   "metadata": {},
   "outputs": [
    {
     "data": {
      "text/plain": [
       "{'reasoning': 'For a gym tracking bot, users will likely send messages like:\\n\"I did 3 sets of bench press with 135lbs today\" or \\n\"What\\'s a good 30-minute workout for chest using dumbbells?\"\\nKey elements to track:\\n- Exercises with sets, reps, and weights\\n- Available equipment for workout planning\\n- Time duration for workouts\\n- Progress tracking over time\\n- Workout categories (muscle groups)\\n\\nMain functions needed:\\n- Record completed exercises\\n- Get workout suggestions based on constraints\\n- Track progress for specific exercises\\n- View exercise history\\n\\nThe LLM can parse natural language into structured data:\\n\"I did 3 sets of bench press with 135lbs\" -> \\nrecordExercise({name: \"bench press\", sets: 3, weight: 135, ...})',\n",
       " 'typespec_definitions': 'model Exercise {\\n  name: string;\\n  muscleGroup: string;\\n  sets: int32;\\n  reps: int32;\\n  weight?: float32;\\n  equipment: string;\\n  date: Date;\\n}\\n\\nmodel WorkoutConstraints {\\n  duration: int32; // in minutes\\n  equipment: string[];\\n  targetMuscles: string[];\\n  difficulty: \"beginner\" | \"intermediate\" | \"advanced\";\\n}\\n\\nmodel WorkoutPlan {\\n  exercises: Exercise[];\\n  totalDuration: int32;\\n  difficulty: string;\\n  caloriesBurn: int32;\\n}\\n\\ninterface GymTracker {\\n  @llm_func(2)\\n  recordExercise(exercise: Exercise): void;\\n\\n  @llm_func(3)\\n  suggestWorkout(constraints: WorkoutConstraints): WorkoutPlan;\\n\\n  @llm_func(1)\\n  getProgress(exerciseName: string, startDate: Date, endDate: Date): Exercise[];\\n\\n  @llm_func(1)\\n  listWorkoutHistory(date: Date): Exercise[];\\n}',\n",
       " 'llm_functions': ['recordExercise',\n",
       "  'suggestWorkout',\n",
       "  'getProgress',\n",
       "  'listWorkoutHistory']}"
      ]
     },
     "execution_count": 7,
     "metadata": {},
     "output_type": "execute_result"
    }
   ],
   "source": [
    "typespec"
   ]
  },
  {
   "cell_type": "code",
   "execution_count": 8,
   "metadata": {},
   "outputs": [
    {
     "name": "stdout",
     "output_type": "stream",
     "text": [
      "For a gym tracking bot, users will likely send messages like:\n",
      "\"I did 3 sets of bench press with 135lbs today\" or \n",
      "\"What's a good 30-minute workout for chest using dumbbells?\"\n",
      "Key elements to track:\n",
      "- Exercises with sets, reps, and weights\n",
      "- Available equipment for workout planning\n",
      "- Time duration for workouts\n",
      "- Progress tracking over time\n",
      "- Workout categories (muscle groups)\n",
      "\n",
      "Main functions needed:\n",
      "- Record completed exercises\n",
      "- Get workout suggestions based on constraints\n",
      "- Track progress for specific exercises\n",
      "- View exercise history\n",
      "\n",
      "The LLM can parse natural language into structured data:\n",
      "\"I did 3 sets of bench press with 135lbs\" -> \n",
      "recordExercise({name: \"bench press\", sets: 3, weight: 135, ...})\n"
     ]
    }
   ],
   "source": [
    "print(typespec[\"reasoning\"])"
   ]
  },
  {
   "cell_type": "code",
   "execution_count": 9,
   "metadata": {},
   "outputs": [
    {
     "name": "stdout",
     "output_type": "stream",
     "text": [
      "model Exercise {\n",
      "  name: string;\n",
      "  muscleGroup: string;\n",
      "  sets: int32;\n",
      "  reps: int32;\n",
      "  weight?: float32;\n",
      "  equipment: string;\n",
      "  date: Date;\n",
      "}\n",
      "\n",
      "model WorkoutConstraints {\n",
      "  duration: int32; // in minutes\n",
      "  equipment: string[];\n",
      "  targetMuscles: string[];\n",
      "  difficulty: \"beginner\" | \"intermediate\" | \"advanced\";\n",
      "}\n",
      "\n",
      "model WorkoutPlan {\n",
      "  exercises: Exercise[];\n",
      "  totalDuration: int32;\n",
      "  difficulty: string;\n",
      "  caloriesBurn: int32;\n",
      "}\n",
      "\n",
      "interface GymTracker {\n",
      "  @llm_func(2)\n",
      "  recordExercise(exercise: Exercise): void;\n",
      "\n",
      "  @llm_func(3)\n",
      "  suggestWorkout(constraints: WorkoutConstraints): WorkoutPlan;\n",
      "\n",
      "  @llm_func(1)\n",
      "  getProgress(exerciseName: string, startDate: Date, endDate: Date): Exercise[];\n",
      "\n",
      "  @llm_func(1)\n",
      "  listWorkoutHistory(date: Date): Exercise[];\n",
      "}\n"
     ]
    }
   ],
   "source": [
    "print(typespec[\"typespec_definitions\"])"
   ]
  },
  {
   "cell_type": "code",
   "execution_count": 10,
   "metadata": {},
   "outputs": [],
   "source": [
    "prompt = dzl_tpl.render(\n",
    "    typespec_definitions=typespec[\"typespec_definitions\"],\n",
    ")\n",
    "\n",
    "dzl_response = client.messages.create(\n",
    "    model=\"anthropic.claude-3-5-sonnet-20241022-v2:0\",\n",
    "    max_tokens=8192,\n",
    "    messages=[{\"role\": \"user\", \"content\": prompt}]\n",
    ")\n",
    "drizzle = stages.drizzle.parse_output(dzl_response.content[0].text)"
   ]
  },
  {
   "cell_type": "code",
   "execution_count": 11,
   "metadata": {},
   "outputs": [
    {
     "name": "stdout",
     "output_type": "stream",
     "text": [
      "import { integer, serial, text, timestamp, real, pgTable, pgEnum } from \"drizzle-orm/pg-core\";\n",
      "\n",
      "// Enums\n",
      "export const difficultyEnum = pgEnum(\"difficulty\", [\"beginner\", \"intermediate\", \"advanced\"]);\n",
      "\n",
      "// Equipment table\n",
      "export const equipmentTable = pgTable(\"equipment\", {\n",
      "  id: serial(\"id\").primaryKey(),\n",
      "  name: text(\"name\").unique().notNull()\n",
      "});\n",
      "\n",
      "// Muscle groups table\n",
      "export const muscleGroupsTable = pgTable(\"muscle_groups\", {\n",
      "  id: serial(\"id\").primaryKey(),\n",
      "  name: text(\"name\").unique().notNull()\n",
      "});\n",
      "\n",
      "// Exercises table\n",
      "export const exercisesTable = pgTable(\"exercises\", {\n",
      "  id: serial(\"id\").primaryKey(),\n",
      "  name: text(\"name\").notNull(),\n",
      "  muscleGroupId: integer(\"muscle_group_id\").references(() => muscleGroupsTable.id),\n",
      "  sets: integer(\"sets\").notNull(),\n",
      "  reps: integer(\"reps\").notNull(),\n",
      "  weight: real(\"weight\"),\n",
      "  equipmentId: integer(\"equipment_id\").references(() => equipmentTable.id),\n",
      "  date: timestamp(\"date\").notNull(),\n",
      "  createdAt: timestamp(\"created_at\").defaultNow()\n",
      "});\n",
      "\n",
      "// Workout constraints table\n",
      "export const workoutConstraintsTable = pgTable(\"workout_constraints\", {\n",
      "  id: serial(\"id\").primaryKey(),\n",
      "  duration: integer(\"duration\").notNull(),\n",
      "  difficulty: difficultyEnum(\"difficulty\").notNull(),\n",
      "  createdAt: timestamp(\"created_at\").defaultNow()\n",
      "});\n",
      "\n",
      "// Workout constraints equipment junction table\n",
      "export const constraintsEquipmentTable = pgTable(\"constraints_equipment\", {\n",
      "  constraintId: integer(\"constraint_id\").references(() => workoutConstraintsTable.id),\n",
      "  equipmentId: integer(\"equipment_id\").references(() => equipmentTable.id)\n",
      "});\n",
      "\n",
      "// Workout constraints muscle groups junction table\n",
      "export const constraintsMuscleGroupsTable = pgTable(\"constraints_muscle_groups\", {\n",
      "  constraintId: integer(\"constraint_id\").references(() => workoutConstraintsTable.id),\n",
      "  muscleGroupId: integer(\"muscle_group_id\").references(() => muscleGroupsTable.id)\n",
      "});\n",
      "\n",
      "// Workout plans table\n",
      "export const workoutPlansTable = pgTable(\"workout_plans\", {\n",
      "  id: serial(\"id\").primaryKey(),\n",
      "  totalDuration: integer(\"total_duration\").notNull(),\n",
      "  difficulty: difficultyEnum(\"difficulty\").notNull(),\n",
      "  caloriesBurn: integer(\"calories_burn\").notNull(),\n",
      "  createdAt: timestamp(\"created_at\").defaultNow()\n",
      "});\n",
      "\n",
      "// Workout plans exercises junction table\n",
      "export const workoutPlanExercisesTable = pgTable(\"workout_plan_exercises\", {\n",
      "  planId: integer(\"plan_id\").references(() => workoutPlansTable.id),\n",
      "  exerciseId: integer(\"exercise_id\").references(() => exercisesTable.id)\n",
      "});\n"
     ]
    }
   ],
   "source": [
    "print(drizzle[\"drizzle_schema\"])"
   ]
  },
  {
   "cell_type": "code",
   "execution_count": 12,
   "metadata": {},
   "outputs": [],
   "source": [
    "pre_processors = {}\n",
    "for function_name in typespec[\"llm_functions\"]:\n",
    "    prompt = pre_tpl.render(\n",
    "        function_name=function_name,\n",
    "        typespec_definitions=typespec[\"typespec_definitions\"],\n",
    "    )\n",
    "\n",
    "    pre_response = client.messages.create(\n",
    "        model=\"anthropic.claude-3-5-sonnet-20241022-v2:0\",\n",
    "        max_tokens=8192,\n",
    "        messages=[{\"role\": \"user\", \"content\": prompt}]\n",
    "    )\n",
    "    pre_processor = stages.processors.parse_output(pre_response.content[0].text)\n",
    "    pre_processors[function_name] = pre_processor"
   ]
  },
  {
   "cell_type": "code",
   "execution_count": 13,
   "metadata": {},
   "outputs": [
    {
     "name": "stdout",
     "output_type": "stream",
     "text": [
      "<instructions>\n",
      "The listWorkoutHistory function requires a single Date parameter and returns an array of Exercise records for that specific date. The date should be interpreted from natural language inputs and defaulted to current date if not specified. Time component of the date can be ignored. The function returns all exercises recorded for the given date.\n",
      "</instructions>\n",
      "\n",
      "<examples>\n",
      "    <example>\n",
      "        <input>Show me my workouts from yesterday</input>\n",
      "        <output>{\n",
      "    \"date\": \"2024-01-16\"  // Assuming today is 2024-01-17\n",
      "}</output>\n",
      "    </example>\n",
      "\n",
      "    <example>\n",
      "        <input>What exercises did I do on January 10th?</input>\n",
      "        <output>{\n",
      "    \"date\": \"2024-01-10\"\n",
      "}</output>\n",
      "    </example>\n",
      "\n",
      "    <example>\n",
      "        <input>Show today's workout history</input>\n",
      "        <output>{\n",
      "    \"date\": \"2024-01-17\"  // Assuming today is 2024-01-17\n",
      "}</output>\n",
      "    </example>\n",
      "\n",
      "    <example>\n",
      "        <input>Get my exercises from last Monday</input>\n",
      "        <output>{\n",
      "    \"date\": \"2024-01-15\"  // Assuming today is 2024-01-17 and referring to the most recent Monday\n",
      "}</output>\n",
      "    </example>\n",
      "\n",
      "    <example>\n",
      "        <input>What did I do in the gym?</input>\n",
      "        <output>{\n",
      "    \"date\": \"2024-01-17\"  // Defaults to current date when no date is specified\n",
      "}</output>\n",
      "    </example>\n",
      "</examples>\n"
     ]
    }
   ],
   "source": [
    "print(pre_response.content[0].text)"
   ]
  },
  {
   "cell_type": "code",
   "execution_count": 14,
   "metadata": {},
   "outputs": [
    {
     "data": {
      "text/plain": [
       "{'recordExercise': {'instructions': 'For the recordExercise function:\\n1. Exercise name should be extracted from common exercise terminology\\n2. If weight is not specified, it should be omitted from the output\\n3. If date is not specified, use current date\\n4. Equipment should be inferred from exercise type if not specified\\n5. If sets/reps are not specified, default to 1 set\\n6. Muscle group should be inferred from exercise name if not specified',\n",
       "  'examples': [('bench press 3x10 with 225 lbs',\n",
       "    '{\\n    \"name\": \"bench press\",\\n    \"muscleGroup\": \"chest\",\\n    \"sets\": 3,\\n    \"reps\": 10,\\n    \"weight\": 225,\\n    \"equipment\": \"barbell\",\\n    \"date\": \"2024-01-20T12:00:00Z\"\\n}'),\n",
       "   ('did 15 pushups this morning',\n",
       "    '{\\n    \"name\": \"pushup\",\\n    \"muscleGroup\": \"chest\",\\n    \"sets\": 1,\\n    \"reps\": 15,\\n    \"equipment\": \"bodyweight\",\\n    \"date\": \"2024-01-20T08:00:00Z\"\\n}'),\n",
       "   ('lat pulldown 4 sets of 12 reps at 60kg',\n",
       "    '{\\n    \"name\": \"lat pulldown\",\\n    \"muscleGroup\": \"back\",\\n    \"sets\": 4,\\n    \"reps\": 12,\\n    \"weight\": 60,\\n    \"equipment\": \"cable machine\",\\n    \"date\": \"2024-01-20T12:00:00Z\"\\n}'),\n",
       "   ('squats 5x5 program with 315 pounds yesterday',\n",
       "    '{\\n    \"name\": \"squat\",\\n    \"muscleGroup\": \"legs\",\\n    \"sets\": 5,\\n    \"reps\": 5,\\n    \"weight\": 315,\\n    \"equipment\": \"barbell\",\\n    \"date\": \"2024-01-19T12:00:00Z\"\\n}'),\n",
       "   ('just finished 3 sets of dumbbell curls',\n",
       "    '{\\n    \"name\": \"dumbbell curl\",\\n    \"muscleGroup\": \"biceps\",\\n    \"sets\": 3,\\n    \"reps\": 1,\\n    \"equipment\": \"dumbbells\",\\n    \"date\": \"2024-01-20T12:00:00Z\"\\n}')]},\n",
       " 'suggestWorkout': {'instructions': 'The suggestWorkout function expects a WorkoutConstraints object with:\\n- duration: Integer value in minutes (default to 60 if not specified)\\n- equipment: Array of available equipment (default to [\"bodyweight\"] if not specified)\\n- targetMuscles: Array of muscle groups to target (infer from context or default to [\"full body\"])\\n- difficulty: Must be one of \"beginner\", \"intermediate\", or \"advanced\" (default to \"beginner\" if not specified)\\n\\nConvert natural language inputs into structured constraints, being lenient with variations in terminology.',\n",
       "  'examples': [('I want a 30-minute home workout with no equipment',\n",
       "    '{\\n            \"duration\": 30,\\n            \"equipment\": [\"bodyweight\"],\\n            \"targetMuscles\": [\"full body\"],\\n            \"difficulty\": \"beginner\"\\n        }'),\n",
       "   ('Give me an advanced chest and triceps workout at the gym with dumbbells and barbells for 45 minutes',\n",
       "    '{\\n            \"duration\": 45,\\n            \"equipment\": [\"dumbbells\", \"barbell\"],\\n            \"targetMuscles\": [\"chest\", \"triceps\"],\\n            \"difficulty\": \"advanced\"\\n        }'),\n",
       "   ('Intermediate leg day with machines, 90 minutes',\n",
       "    '{\\n            \"duration\": 90,\\n            \"equipment\": [\"leg press\", \"leg extension\", \"leg curl machine\"],\\n            \"targetMuscles\": [\"quadriceps\", \"hamstrings\", \"calves\"],\\n            \"difficulty\": \"intermediate\"\\n        }'),\n",
       "   ('Quick upper body workout with resistance bands',\n",
       "    '{\\n            \"duration\": 60,\\n            \"equipment\": [\"resistance bands\"],\\n            \"targetMuscles\": [\"chest\", \"back\", \"shoulders\", \"arms\"],\\n            \"difficulty\": \"beginner\"\\n        }')]},\n",
       " 'getProgress': {'instructions': 'The getProgress function requires three arguments:\\n1. exerciseName: A string representing the specific exercise to track\\n2. startDate: A Date marking the beginning of the tracking period\\n3. endDate: A Date marking the end of the tracking period\\n\\nRules for handling input:\\n- Exercise names should be normalized to standard forms (e.g., \"bench press\" or \"bench-press\")\\n- Dates should be parsed from natural language or standardized to ISO format\\n- Start date defaults to 30 days ago if not specified\\n- End date defaults to current date if not specified\\n- Date ranges must be valid (startDate must be before endDate)',\n",
       "  'examples': [('Show me bench press progress from January to March',\n",
       "    '{\\n            \"exerciseName\": \"bench press\",\\n            \"startDate\": \"2024-01-01T00:00:00Z\",\\n            \"endDate\": \"2024-03-31T23:59:59Z\"\\n        }'),\n",
       "   ('How am I doing with squats this month?',\n",
       "    '{\\n            \"exerciseName\": \"squats\",\\n            \"startDate\": \"2024-02-01T00:00:00Z\",\\n            \"endDate\": \"2024-02-29T23:59:59Z\"\\n        }'),\n",
       "   ('deadlift progress last 2 weeks',\n",
       "    '{\\n            \"exerciseName\": \"deadlift\",\\n            \"startDate\": \"2024-02-15T00:00:00Z\",\\n            \"endDate\": \"2024-02-29T23:59:59Z\"\\n        }'),\n",
       "   ('Track my pull-ups since December',\n",
       "    '{\\n            \"exerciseName\": \"pull-ups\",\\n            \"startDate\": \"2023-12-01T00:00:00Z\",\\n            \"endDate\": \"2024-02-29T23:59:59Z\"\\n        }'),\n",
       "   (\"How's my shoulder press improving?\",\n",
       "    '{\\n            \"exerciseName\": \"shoulder press\",\\n            \"startDate\": \"2024-01-30T00:00:00Z\",\\n            \"endDate\": \"2024-02-29T23:59:59Z\"\\n        }')]},\n",
       " 'listWorkoutHistory': {'instructions': 'The listWorkoutHistory function requires a single Date parameter and returns an array of Exercise records for that specific date. The date should be interpreted from natural language inputs and defaulted to current date if not specified. Time component of the date can be ignored. The function returns all exercises recorded for the given date.',\n",
       "  'examples': [('Show me my workouts from yesterday',\n",
       "    '{\\n    \"date\": \"2024-01-16\"  // Assuming today is 2024-01-17\\n}'),\n",
       "   ('What exercises did I do on January 10th?',\n",
       "    '{\\n    \"date\": \"2024-01-10\"\\n}'),\n",
       "   (\"Show today's workout history\",\n",
       "    '{\\n    \"date\": \"2024-01-17\"  // Assuming today is 2024-01-17\\n}'),\n",
       "   ('Get my exercises from last Monday',\n",
       "    '{\\n    \"date\": \"2024-01-15\"  // Assuming today is 2024-01-17 and referring to the most recent Monday\\n}'),\n",
       "   ('What did I do in the gym?',\n",
       "    '{\\n    \"date\": \"2024-01-17\"  // Defaults to current date when no date is specified\\n}')]}}"
      ]
     },
     "execution_count": 14,
     "metadata": {},
     "output_type": "execute_result"
    }
   ],
   "source": [
    "pre_processors"
   ]
  },
  {
   "cell_type": "code",
   "execution_count": 15,
   "metadata": {},
   "outputs": [],
   "source": [
    "handlers = {}\n",
    "for function_name in typespec[\"llm_functions\"]:\n",
    "    prompt = hdl_tpl.render(\n",
    "        function_name=function_name,\n",
    "        typespec_definitions=typespec[\"typespec_definitions\"],\n",
    "        drizzle_schema=drizzle[\"drizzle_schema\"],\n",
    "    )\n",
    "\n",
    "    hdl_response = client.messages.create(\n",
    "        model=\"anthropic.claude-3-5-sonnet-20241022-v2:0\",\n",
    "        max_tokens=8192,\n",
    "        messages=[{\"role\": \"user\", \"content\": prompt}]\n",
    "    )\n",
    "    handlers[function_name] = stages.handlers.parse_output(hdl_response.content[0].text)"
   ]
  },
  {
   "cell_type": "code",
   "execution_count": 16,
   "metadata": {},
   "outputs": [
    {
     "data": {
      "text/plain": [
       "{'recordExercise': {'handler': 'import { db } from \"../db\";\\nimport { \\n    exercisesTable, \\n    equipmentTable, \\n    muscleGroupsTable \\n} from \\'../db/schema/application\\';\\nimport { eq } from \\'drizzle-orm\\';\\n\\nconst handle = async (exercise: {\\n    name: string;\\n    muscleGroup: string;\\n    sets: number;\\n    reps: number;\\n    weight?: number;\\n    equipment: string;\\n    date: Date;\\n}): Promise<void> => {\\n    // Get or create equipment\\n    let equipmentRecord = await db.query.equipmentTable.findFirst({\\n        where: eq(equipmentTable.name, exercise.equipment)\\n    });\\n\\n    if (!equipmentRecord) {\\n        const [newEquipment] = await db.insert(equipmentTable)\\n            .values({ name: exercise.equipment })\\n            .returning();\\n        equipmentRecord = newEquipment;\\n    }\\n\\n    // Get or create muscle group\\n    let muscleGroupRecord = await db.query.muscleGroupsTable.findFirst({\\n        where: eq(muscleGroupsTable.name, exercise.muscleGroup)\\n    });\\n\\n    if (!muscleGroupRecord) {\\n        const [newMuscleGroup] = await db.insert(muscleGroupsTable)\\n            .values({ name: exercise.muscleGroup })\\n            .returning();\\n        muscleGroupRecord = newMuscleGroup;\\n    }\\n\\n    // Record the exercise\\n    await db.insert(exercisesTable).values({\\n        name: exercise.name,\\n        muscleGroupId: muscleGroupRecord.id,\\n        sets: exercise.sets,\\n        reps: exercise.reps,\\n        weight: exercise.weight,\\n        equipmentId: equipmentRecord.id,\\n        date: exercise.date\\n    });\\n};'},\n",
       " 'suggestWorkout': {'handler': 'import { db } from \"../db\";\\nimport { \\n    workoutPlansTable, \\n    workoutPlanExercisesTable, \\n    exercisesTable, \\n    equipmentTable, \\n    muscleGroupsTable,\\n    constraintsEquipmentTable,\\n    constraintsMuscleGroupsTable,\\n    workoutConstraintsTable\\n} from \\'../db/schema/application\\';\\nimport { eq, and, in as dbIn } from \\'drizzle-orm\\';\\n\\nconst handle = async (constraints: WorkoutConstraints): Promise<WorkoutPlan> => {\\n    // 1. Insert workout constraints\\n    const [constraintRecord] = await db\\n        .insert(workoutConstraintsTable)\\n        .values({\\n            duration: constraints.duration,\\n            difficulty: constraints.difficulty,\\n        })\\n        .returning();\\n\\n    // 2. Get equipment IDs\\n    const equipment = await db\\n        .select({ id: equipmentTable.id })\\n        .from(equipmentTable)\\n        .where(dbIn(equipmentTable.name, constraints.equipment));\\n\\n    // 3. Get muscle group IDs\\n    const muscleGroups = await db\\n        .select({ id: muscleGroupsTable.id })\\n        .from(muscleGroupsTable)\\n        .where(dbIn(muscleGroupsTable.name, constraints.targetMuscles));\\n\\n    // 4. Insert equipment constraints\\n    await db.insert(constraintsEquipmentTable)\\n        .values(equipment.map(e => ({\\n            constraintId: constraintRecord.id,\\n            equipmentId: e.id\\n        })));\\n\\n    // 5. Insert muscle group constraints\\n    await db.insert(constraintsMuscleGroupsTable)\\n        .values(muscleGroups.map(m => ({\\n            constraintId: constraintRecord.id,\\n            muscleGroupId: m.id\\n        })));\\n\\n    // 6. Create workout plan\\n    const [workoutPlan] = await db\\n        .insert(workoutPlansTable)\\n        .values({\\n            totalDuration: constraints.duration,\\n            difficulty: constraints.difficulty,\\n            caloriesBurn: Math.floor(constraints.duration * 7), // Approximate calories burned per minute\\n        })\\n        .returning();\\n\\n    // 7. Get suitable exercises\\n    const exercises = await db\\n        .select({\\n            name: exercisesTable.name,\\n            muscleGroup: muscleGroupsTable.name,\\n            sets: exercisesTable.sets,\\n            reps: exercisesTable.reps,\\n            weight: exercisesTable.weight,\\n            equipment: equipmentTable.name,\\n            date: exercisesTable.date,\\n        })\\n        .from(exercisesTable)\\n        .innerJoin(equipmentTable, eq(exercisesTable.equipmentId, equipmentTable.id))\\n        .innerJoin(muscleGroupsTable, eq(exercisesTable.muscleGroupId, muscleGroupsTable.id))\\n        .where(\\n            and(\\n                dbIn(equipmentTable.name, constraints.equipment),\\n                dbIn(muscleGroupsTable.name, constraints.targetMuscles)\\n            )\\n        )\\n        .limit(Math.floor(constraints.duration / 10)); // Approximately 10 minutes per exercise\\n\\n    return {\\n        exercises,\\n        totalDuration: workoutPlan.totalDuration,\\n        difficulty: workoutPlan.difficulty,\\n        caloriesBurn: workoutPlan.caloriesBurn,\\n    };\\n};'},\n",
       " 'getProgress': {'handler': 'import { db } from \"../db\";\\nimport { exercisesTable } from \\'../db/schema/application\\';\\nimport { eq, and, between } from \\'drizzle-orm\\';\\nimport { Exercise } from \\'../types\\';\\n\\nconst handle = async (exerciseName: string, startDate: Date, endDate: Date): Promise<Exercise[]> => {\\n    const exercises = await db\\n        .select({\\n            name: exercisesTable.name,\\n            muscleGroupId: exercisesTable.muscleGroupId,\\n            sets: exercisesTable.sets,\\n            reps: exercisesTable.reps,\\n            weight: exercisesTable.weight,\\n            equipmentId: exercisesTable.equipmentId,\\n            date: exercisesTable.date,\\n        })\\n        .from(exercisesTable)\\n        .where(\\n            and(\\n                eq(exercisesTable.name, exerciseName),\\n                between(exercisesTable.date, startDate, endDate)\\n            )\\n        )\\n        .orderBy(exercisesTable.date);\\n\\n    return exercises.map(exercise => ({\\n        name: exercise.name,\\n        muscleGroup: exercise.muscleGroupId.toString(), // Note: In a real implementation, you\\'d want to join with muscleGroupsTable to get the actual name\\n        sets: exercise.sets,\\n        reps: exercise.reps,\\n        weight: exercise.weight || undefined,\\n        equipment: exercise.equipmentId.toString(), // Note: In a real implementation, you\\'d want to join with equipmentTable to get the actual name\\n        date: exercise.date\\n    }));\\n};'},\n",
       " 'listWorkoutHistory': {'handler': 'import { eq } from \"drizzle-orm\";\\nimport { db } from \"../db\";\\nimport { \\n    exercisesTable,\\n    equipmentTable,\\n    muscleGroupsTable\\n} from \\'../db/schema/application\\';\\n\\nconst handle = async (date: Date): Promise<Array<{\\n    name: string;\\n    muscleGroup: string;\\n    sets: number;\\n    reps: number;\\n    weight: number | null;\\n    equipment: string;\\n    date: Date;\\n}>> => {\\n    // Get all exercises for the specified date\\n    // Join with equipment and muscle groups tables to get their names\\n    const exercises = await db\\n        .select({\\n            name: exercisesTable.name,\\n            muscleGroup: muscleGroupsTable.name,\\n            sets: exercisesTable.sets,\\n            reps: exercisesTable.reps,\\n            weight: exercisesTable.weight,\\n            equipment: equipmentTable.name,\\n            date: exercisesTable.date,\\n        })\\n        .from(exercisesTable)\\n        .leftJoin(equipmentTable, eq(exercisesTable.equipmentId, equipmentTable.id))\\n        .leftJoin(muscleGroupsTable, eq(exercisesTable.muscleGroupId, muscleGroupsTable.id))\\n        .where(eq(\\n            // Compare only the date part, ignoring time\\n            sql`DATE(${exercisesTable.date})`,\\n            sql`DATE(${date})`\\n        ));\\n\\n    return exercises;\\n};'}}"
      ]
     },
     "execution_count": 16,
     "metadata": {},
     "output_type": "execute_result"
    }
   ],
   "source": [
    "handlers"
   ]
  },
  {
   "cell_type": "code",
   "execution_count": 20,
   "metadata": {},
   "outputs": [],
   "source": [
    "with open(\"core/handler.tpl\", \"r\") as f:\n",
    "    handler_ts_tpl = environment.from_string(f.read())"
   ]
  },
  {
   "cell_type": "code",
   "execution_count": 21,
   "metadata": {},
   "outputs": [],
   "source": [
    "hdl_key = \"recordExercise\"\n",
    "params = {\n",
    "    \"handler\": handlers[hdl_key][\"handler\"],\n",
    "    \"instructions\": pre_processors[hdl_key][\"instructions\"],\n",
    "    \"examples\": pre_processors[hdl_key][\"examples\"],\n",
    "}\n",
    "file_content = handler_ts_tpl.render(**params)"
   ]
  },
  {
   "cell_type": "code",
   "execution_count": 22,
   "metadata": {},
   "outputs": [
    {
     "name": "stdout",
     "output_type": "stream",
     "text": [
      "import { GenericHandler, Message } from \"../common/handler\";\n",
      "import { client } from \"../common/llm\";\n",
      "import { db } from \"../db\";\n",
      "import { \n",
      "    exercisesTable, \n",
      "    equipmentTable, \n",
      "    muscleGroupsTable \n",
      "} from '../db/schema/application';\n",
      "import { eq } from 'drizzle-orm';\n",
      "\n",
      "const handle = async (exercise: {\n",
      "    name: string;\n",
      "    muscleGroup: string;\n",
      "    sets: number;\n",
      "    reps: number;\n",
      "    weight?: number;\n",
      "    equipment: string;\n",
      "    date: Date;\n",
      "}): Promise<void> => {\n",
      "    // Get or create equipment\n",
      "    let equipmentRecord = await db.query.equipmentTable.findFirst({\n",
      "        where: eq(equipmentTable.name, exercise.equipment)\n",
      "    });\n",
      "\n",
      "    if (!equipmentRecord) {\n",
      "        const [newEquipment] = await db.insert(equipmentTable)\n",
      "            .values({ name: exercise.equipment })\n",
      "            .returning();\n",
      "        equipmentRecord = newEquipment;\n",
      "    }\n",
      "\n",
      "    // Get or create muscle group\n",
      "    let muscleGroupRecord = await db.query.muscleGroupsTable.findFirst({\n",
      "        where: eq(muscleGroupsTable.name, exercise.muscleGroup)\n",
      "    });\n",
      "\n",
      "    if (!muscleGroupRecord) {\n",
      "        const [newMuscleGroup] = await db.insert(muscleGroupsTable)\n",
      "            .values({ name: exercise.muscleGroup })\n",
      "            .returning();\n",
      "        muscleGroupRecord = newMuscleGroup;\n",
      "    }\n",
      "\n",
      "    // Record the exercise\n",
      "    await db.insert(exercisesTable).values({\n",
      "        name: exercise.name,\n",
      "        muscleGroupId: muscleGroupRecord.id,\n",
      "        sets: exercise.sets,\n",
      "        reps: exercise.reps,\n",
      "        weight: exercise.weight,\n",
      "        equipmentId: equipmentRecord.id,\n",
      "        date: exercise.date\n",
      "    });\n",
      "};\n",
      "\n",
      "\n",
      "const preProcessorPrompt = `\n",
      "Examine conversation between user and assistant and extract structured arguments for a function.\n",
      "\n",
      "<instructions>\n",
      "For the recordExercise function:\n",
      "1. Exercise name should be extracted from common exercise terminology\n",
      "2. If weight is not specified, it should be omitted from the output\n",
      "3. If date is not specified, use current date\n",
      "4. Equipment should be inferred from exercise type if not specified\n",
      "5. If sets/reps are not specified, default to 1 set\n",
      "6. Muscle group should be inferred from exercise name if not specified\n",
      "</instructions>\n",
      "\n",
      "Examples:\n",
      "\n",
      "\n",
      "Input:\n",
      "bench press 3x10 with 225 lbs\n",
      "Output:\n",
      "{\n",
      "    \"name\": \"bench press\",\n",
      "    \"muscleGroup\": \"chest\",\n",
      "    \"sets\": 3,\n",
      "    \"reps\": 10,\n",
      "    \"weight\": 225,\n",
      "    \"equipment\": \"barbell\",\n",
      "    \"date\": \"2024-01-20T12:00:00Z\"\n",
      "}\n",
      "\n",
      "Input:\n",
      "did 15 pushups this morning\n",
      "Output:\n",
      "{\n",
      "    \"name\": \"pushup\",\n",
      "    \"muscleGroup\": \"chest\",\n",
      "    \"sets\": 1,\n",
      "    \"reps\": 15,\n",
      "    \"equipment\": \"bodyweight\",\n",
      "    \"date\": \"2024-01-20T08:00:00Z\"\n",
      "}\n",
      "\n",
      "Input:\n",
      "lat pulldown 4 sets of 12 reps at 60kg\n",
      "Output:\n",
      "{\n",
      "    \"name\": \"lat pulldown\",\n",
      "    \"muscleGroup\": \"back\",\n",
      "    \"sets\": 4,\n",
      "    \"reps\": 12,\n",
      "    \"weight\": 60,\n",
      "    \"equipment\": \"cable machine\",\n",
      "    \"date\": \"2024-01-20T12:00:00Z\"\n",
      "}\n",
      "\n",
      "Input:\n",
      "squats 5x5 program with 315 pounds yesterday\n",
      "Output:\n",
      "{\n",
      "    \"name\": \"squat\",\n",
      "    \"muscleGroup\": \"legs\",\n",
      "    \"sets\": 5,\n",
      "    \"reps\": 5,\n",
      "    \"weight\": 315,\n",
      "    \"equipment\": \"barbell\",\n",
      "    \"date\": \"2024-01-19T12:00:00Z\"\n",
      "}\n",
      "\n",
      "Input:\n",
      "just finished 3 sets of dumbbell curls\n",
      "Output:\n",
      "{\n",
      "    \"name\": \"dumbbell curl\",\n",
      "    \"muscleGroup\": \"biceps\",\n",
      "    \"sets\": 3,\n",
      "    \"reps\": 1,\n",
      "    \"equipment\": \"dumbbells\",\n",
      "    \"date\": \"2024-01-20T12:00:00Z\"\n",
      "}\n",
      "\n",
      "\n",
      "Conversation:\n",
      "{% for message in messages %}\n",
      "<role name=\"{{message.role}}\">{{message.content}}</role>\n",
      "{% endfor %}\n",
      "`;\n",
      "\n",
      "const preProcessor = async (input: Message[]): Promise<[string]> => {\n",
      "    const response = await client.messages.create({\n",
      "        model: 'anthropic.claude-3-5-sonnet-20241022-v2:0',\n",
      "        max_tokens: 2048,\n",
      "        messages: input.map(({ role, content }) => ({ role, content }))\n",
      "    });\n",
      "    switch (response.content[0].type) {\n",
      "        case \"text\":\n",
      "            return [response.content[0].text];\n",
      "        default:\n",
      "            throw new Error(\"Unexpected response type\");\n",
      "    }\n",
      "};\n"
     ]
    }
   ],
   "source": [
    "print(file_content)"
   ]
  },
  {
   "cell_type": "code",
   "execution_count": 14,
   "metadata": {},
   "outputs": [
    {
     "name": "stdout",
     "output_type": "stream",
     "text": [
      "import { db } from \"../db\";\n",
      "import { \n",
      "  equipmentTable, \n",
      "  workoutRoutinesTable, \n",
      "  exercisesTable,\n",
      "  routineExercisesTable,\n",
      "  routineEquipmentTable,\n",
      "  targetMusclesTable,\n",
      "  routineTargetMusclesTable\n",
      "} from '../db/schema/application';\n",
      "import { eq, inArray } from 'drizzle-orm';\n",
      "\n",
      "const handle = async (constraints: WorkoutConstraints): Promise<WorkoutRoutine> => {\n",
      "  // Get equipment IDs based on provided constraints\n",
      "  const equipmentIds = await db\n",
      "    .select({ id: equipmentTable.id })\n",
      "    .from(equipmentTable)\n",
      "    .where(inArray(equipmentTable.name, constraints.equipment.map(e => e.name)))\n",
      "    .execute();\n",
      "\n",
      "  // Get muscle IDs based on provided target muscles\n",
      "  const muscleIds = await db\n",
      "    .select({ id: targetMusclesTable.id })\n",
      "    .from(targetMusclesTable)\n",
      "    .where(inArray(targetMusclesTable.name, constraints.targetMuscles))\n",
      "    .execute();\n",
      "\n",
      "  // Find suitable workout routines that match the constraints\n",
      "  const routines = await db\n",
      "    .select()\n",
      "    .from(workoutRoutinesTable)\n",
      "    .where(eq(workoutRoutinesTable.duration, constraints.duration))\n",
      "    .execute();\n",
      "\n",
      "  // For each routine, check if it matches equipment and muscle requirements\n",
      "  for (const routine of routines) {\n",
      "    // Get routine equipment\n",
      "    const routineEquipment = await db\n",
      "      .select({\n",
      "        name: equipmentTable.name,\n",
      "        type: equipmentTable.type\n",
      "      })\n",
      "      .from(routineEquipmentTable)\n",
      "      .innerJoin(equipmentTable, eq(routineEquipmentTable.equipmentId, equipmentTable.id))\n",
      "      .where(eq(routineEquipmentTable.routineId, routine.id))\n",
      "      .execute();\n",
      "\n",
      "    // Get routine target muscles\n",
      "    const routineMuscles = await db\n",
      "      .select({\n",
      "        name: targetMusclesTable.name\n",
      "      })\n",
      "      .from(routineTargetMusclesTable)\n",
      "      .innerJoin(targetMusclesTable, eq(routineTargetMusclesTable.muscleId, targetMusclesTable.id))\n",
      "      .where(eq(routineTargetMusclesTable.routineId, routine.id))\n",
      "      .execute();\n",
      "\n",
      "    // Get routine exercises\n",
      "    const exercises = await db\n",
      "      .select()\n",
      "      .from(routineExercisesTable)\n",
      "      .innerJoin(exercisesTable, eq(routineExercisesTable.exerciseId, exercisesTable.id))\n",
      "      .where(eq(routineExercisesTable.routineId, routine.id))\n",
      "      .execute();\n",
      "\n",
      "    // If we found a matching routine, return it\n",
      "    if (routineEquipment.length >= constraints.equipment.length &&\n",
      "        routineMuscles.some(m => constraints.targetMuscles.includes(m.name))) {\n",
      "      return {\n",
      "        exercises: exercises.map(e => ({\n",
      "          name: e.name,\n",
      "          sets: e.sets,\n",
      "          reps: e.reps,\n",
      "          weight: e.weight,\n",
      "          notes: e.notes,\n",
      "          date: e.date\n",
      "        })),\n",
      "        duration: routine.duration,\n",
      "        difficulty: routine.difficulty,\n",
      "        targetMuscles: routineMuscles.map(m => m.name),\n",
      "        requiredEquipment: routineEquipment\n",
      "      };\n",
      "    }\n",
      "  }\n",
      "\n",
      "  throw new Error(\"No suitable workout routine found for given constraints\");\n",
      "};\n"
     ]
    }
   ],
   "source": [
    "print(handlers[\"suggestWorkout\"][\"handler\"])"
   ]
  },
  {
   "cell_type": "code",
   "execution_count": null,
   "metadata": {},
   "outputs": [],
   "source": [
    "ts_defs = stages.typespec.parse_output(stages.typespec.PROMPT)"
   ]
  },
  {
   "cell_type": "code",
   "execution_count": 6,
   "metadata": {},
   "outputs": [
    {
     "data": {
      "text/plain": [
       "{'typespec_definitions': 'model Dish {\\n    name: String\\n    ingredients: Ingredient[]\\n}\\n\\nmodel Ingredient {\\n    name: String\\n    calories: Int\\n}\\n\\ninterface DietBot {\\n    @llm_func(\"pre\", 1)\\n    recordDish(dish: Dish): void;\\n    @llm_func(\"wrap\", 1)\\n    listDishes(from: Date, to: Date): Dish[];\\n}',\n",
       " 'llm_functions': ['recordDish', 'listDishes']}"
      ]
     },
     "execution_count": 6,
     "metadata": {},
     "output_type": "execute_result"
    }
   ],
   "source": [
    "ts_defs"
   ]
  },
  {
   "cell_type": "code",
   "execution_count": 4,
   "metadata": {},
   "outputs": [],
   "source": [
    "func_names = stages.typespec.extract_llm_func_names(stages.typespec.PROMPT)"
   ]
  },
  {
   "cell_type": "code",
   "execution_count": 5,
   "metadata": {},
   "outputs": [
    {
     "data": {
      "text/plain": [
       "['recordDish', 'listDishes']"
      ]
     },
     "execution_count": 5,
     "metadata": {},
     "output_type": "execute_result"
    }
   ],
   "source": [
    "func_names"
   ]
  },
  {
   "cell_type": "markdown",
   "metadata": {},
   "source": [
    "# Project Generation"
   ]
  },
  {
   "cell_type": "code",
   "execution_count": 1,
   "metadata": {},
   "outputs": [],
   "source": [
    "from shutil import copytree, ignore_patterns"
   ]
  },
  {
   "cell_type": "code",
   "execution_count": 4,
   "metadata": {},
   "outputs": [],
   "source": [
    "def setup_project(workdir: str):\n",
    "    copytree('templates', workdir, ignore=ignore_patterns('*.pyc', '__pycache__', 'node_modules'))"
   ]
  },
  {
   "cell_type": "code",
   "execution_count": 5,
   "metadata": {},
   "outputs": [],
   "source": [
    "setup_project('test')"
   ]
  },
  {
   "cell_type": "code",
   "execution_count": 6,
   "metadata": {},
   "outputs": [],
   "source": [
    "from core.stages import router"
   ]
  },
  {
   "cell_type": "code",
   "execution_count": 7,
   "metadata": {},
   "outputs": [],
   "source": [
    "funcs = router.parse_output(router.PROMPT)"
   ]
  },
  {
   "cell_type": "code",
   "execution_count": 8,
   "metadata": {},
   "outputs": [
    {
     "data": {
      "text/plain": [
       "{'functions': [{'name': 'recordDish',\n",
       "   'description': '\\nLog user\\'s dish. Examples:\\n- \"I ate a burger.\"\\n- \"I had a salad for lunch.\"\\n- \"Chili con carne\"\\n'},\n",
       "  {'name': 'listDishes',\n",
       "   'description': '\\nList user\\'s dishes. Examples:\\n- \"What did I eat yesterday?\"\\n- \"Show me my meals for last week.\"\\n'}]}"
      ]
     },
     "execution_count": 8,
     "metadata": {},
     "output_type": "execute_result"
    }
   ],
   "source": [
    "funcs"
   ]
  },
  {
   "cell_type": "code",
   "execution_count": null,
   "metadata": {},
   "outputs": [],
   "source": []
  },
  {
   "cell_type": "code",
   "execution_count": null,
   "metadata": {},
   "outputs": [],
   "source": []
  },
  {
   "cell_type": "code",
   "execution_count": null,
   "metadata": {},
   "outputs": [],
   "source": []
  },
  {
   "cell_type": "code",
   "execution_count": null,
   "metadata": {},
   "outputs": [],
   "source": [
    "prompt = exp_tpl.render(application_description=application_description)\n",
    "\n",
    "exp_response = client.messages.create(\n",
    "    model=\"anthropic.claude-3-5-sonnet-20241022-v2:0\",\n",
    "    max_tokens=8192,\n",
    "    messages=[{\"role\": \"user\", \"content\": prompt}]\n",
    ")\n",
    "expansion = stages.expansion.parse_output(exp_response.content[0].text)"
   ]
  },
  {
   "cell_type": "code",
   "execution_count": null,
   "metadata": {},
   "outputs": [
    {
     "name": "stdout",
     "output_type": "stream",
     "text": [
      "<types>\n",
      "        <type>exercise\n",
      "            - name\n",
      "            - equipment_required\n",
      "            - sets\n",
      "            - reps\n",
      "            - weight</type>\n",
      "        <type>equipment\n",
      "            - name\n",
      "            - type</type>\n",
      "        <type>workout_session\n",
      "            - date\n",
      "            - duration\n",
      "            - exercises_performed</type>\n",
      "        <type>routine\n",
      "            - exercises\n",
      "            - duration\n",
      "            - equipment_needed</type>\n",
      "    </types>\n",
      "    <operations>\n",
      "        <operation>record_workout_session\n",
      "            - date\n",
      "            - exercises with sets/reps/weights</operation>\n",
      "        <operation>track_progress\n",
      "            - exercise\n",
      "            - time period</operation>\n",
      "        <operation>list_available_equipment</operation>\n",
      "        <operation>generate_routine\n",
      "            - available equipment\n",
      "            - time constraint\n",
      "            - fitness level</operation>\n",
      "        <operation>view_history\n",
      "            - time period</operation>\n",
      "    </operations>\n"
     ]
    }
   ],
   "source": [
    "print(expansion[\"application_specification\"])"
   ]
  }
 ],
 "metadata": {
  "kernelspec": {
   "display_name": ".venv",
   "language": "python",
   "name": "python3"
  },
  "language_info": {
   "codemirror_mode": {
    "name": "ipython",
    "version": 3
   },
   "file_extension": ".py",
   "mimetype": "text/x-python",
   "name": "python",
   "nbconvert_exporter": "python",
   "pygments_lexer": "ipython3",
   "version": "3.12.8"
  }
 },
 "nbformat": 4,
 "nbformat_minor": 2
}

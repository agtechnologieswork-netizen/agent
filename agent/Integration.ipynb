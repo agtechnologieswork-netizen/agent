{
 "cells": [
  {
   "cell_type": "code",
   "execution_count": 1,
   "metadata": {},
   "outputs": [],
   "source": [
    "from compiler.core import Compiler, CompileResult"
   ]
  },
  {
   "cell_type": "code",
   "execution_count": 2,
   "metadata": {},
   "outputs": [],
   "source": [
    "from typing import Callable, Generic, Optional, TypeVar\n",
    "import concurrent.futures"
   ]
  },
  {
   "cell_type": "code",
   "execution_count": 3,
   "metadata": {},
   "outputs": [],
   "source": [
    "class Node[T]:\n",
    "    data: T\n",
    "    score: float\n",
    "    parent: Optional[\"Node[T]\"]\n",
    "    children: list[\"Node[T]\"]\n",
    "    depth: int\n",
    "\n",
    "    def __init__(self, data: T, score, parent: Optional[\"Node[T]\"] = None):\n",
    "        self.data = data\n",
    "        self.score = score\n",
    "        self.parent = parent\n",
    "        self.children = []\n",
    "        self.depth = parent.depth + 1 if parent else 0\n",
    "\n",
    "    @property\n",
    "    def is_terminal(self) -> bool:\n",
    "        return not self.children\n",
    "    \n",
    "    def get_trajectory(self) -> list[\"Node[T]\"]:\n",
    "        trajectory = []\n",
    "        node = self\n",
    "        while node:\n",
    "            trajectory.append(node)\n",
    "            node = node.parent\n",
    "        return trajectory[::-1]\n",
    "    \n",
    "    def best_solution(self) -> \"Node[T]\":\n",
    "        all_nodes = [self] + self._get_all_children()\n",
    "        return max(all_nodes, key=lambda x: int(x.is_terminal) * x.score)\n",
    "    \n",
    "    def _get_all_children(self) -> list[\"Node[T]\"]:\n",
    "        all_nodes, stack = [], [self]\n",
    "        while stack:\n",
    "            node = stack.pop()\n",
    "            all_nodes.extend(node.children)\n",
    "            stack.extend(node.children)\n",
    "        return all_nodes"
   ]
  },
  {
   "cell_type": "code",
   "execution_count": 4,
   "metadata": {},
   "outputs": [],
   "source": [
    "import re\n",
    "import os\n",
    "import jinja2\n",
    "from anthropic import AnthropicBedrock\n",
    "from core import stages\n",
    "import json\n",
    "import requests\n",
    "import subprocess\n",
    "from shutil import copytree, ignore_patterns"
   ]
  },
  {
   "cell_type": "code",
   "execution_count": 5,
   "metadata": {},
   "outputs": [],
   "source": [
    "class CompilerService:\n",
    "    def __init__(self, address: str | None = None):\n",
    "        self.address = address\n",
    "        if address is None:\n",
    "            self.compiler = Compiler(\"botbuild/tsp_compiler\", \"botbuild/app_schema\")\n",
    "    \n",
    "    def compile_typespec(self, schema: str) -> CompileResult:\n",
    "        if self.address:\n",
    "            response = requests.post(\n",
    "                f\"{self.address}/compile/typespec\",\n",
    "                json={\"payload\": schema},\n",
    "            )\n",
    "            response.raise_for_status()\n",
    "            return CompileResult(**response.json())\n",
    "        else:\n",
    "            return self.compiler.compile_typespec(schema)\n",
    "        \n",
    "    def compile_drizzle(self, schema: str) -> CompileResult:\n",
    "        if self.address:\n",
    "            response = requests.post(\n",
    "                f\"{self.address}/compile/drizzle\",\n",
    "                json={\"payload\": schema},\n",
    "            )\n",
    "            response.raise_for_status()\n",
    "            return CompileResult(**response.json())\n",
    "        else:\n",
    "            return self.compiler.compile_drizzle(schema)"
   ]
  },
  {
   "cell_type": "code",
   "execution_count": 6,
   "metadata": {},
   "outputs": [],
   "source": [
    "from typing import TypedDict"
   ]
  },
  {
   "cell_type": "code",
   "execution_count": 7,
   "metadata": {},
   "outputs": [],
   "source": [
    "LLM_MODEL = \"anthropic.claude-3-5-sonnet-20241022-v2:0\""
   ]
  },
  {
   "cell_type": "code",
   "execution_count": 8,
   "metadata": {},
   "outputs": [],
   "source": [
    "class TypespecData(TypedDict):\n",
    "    message: dict\n",
    "    output: stages.typespec.TypespecOutput\n",
    "    feedback: CompileResult"
   ]
  },
  {
   "cell_type": "code",
   "execution_count": 9,
   "metadata": {},
   "outputs": [],
   "source": [
    "def run_typespec(messages: list[dict], client: AnthropicBedrock, compiler: CompilerService) -> TypespecData:\n",
    "    response = client.messages.create(\n",
    "        model=LLM_MODEL,\n",
    "        max_tokens=8192,\n",
    "        messages=messages,\n",
    "    )\n",
    "    output = stages.typespec.parse_output(response.content[0].text)\n",
    "    schema = \"\\n\".join(['import \"./helpers.js\";', output[\"typespec_definitions\"]])\n",
    "    feedback = compiler.compile_typespec(schema)\n",
    "    return {\n",
    "        \"message\": {\"role\": \"assistant\", \"content\": response.content[0].text},\n",
    "        \"output\": output,\n",
    "        \"feedback\": feedback,\n",
    "    }\n",
    "\n",
    "\n",
    "def bfs_typespec(\n",
    "    init_message: dict,\n",
    "    root: Node[TypespecData],\n",
    "    client: AnthropicBedrock,\n",
    "    compiler: CompilerService,\n",
    "    max_depth: int = 3,\n",
    "    branch_factor: int = 3,\n",
    "    max_workers: int = 5,\n",
    ") -> Node[TypespecData]:\n",
    "    while True:\n",
    "        if root.best_solution().score == 1:\n",
    "            break\n",
    "        \n",
    "        candidates: list[Node[TypespecData]] = []\n",
    "        for node in [root] + root._get_all_children():\n",
    "            if (\n",
    "                node.is_terminal\n",
    "                and node.depth < max_depth\n",
    "                and node.data[\"feedback\"][\"exit_code\"] != 0\n",
    "            ):\n",
    "                candidates.append(node)\n",
    "        #candidates = [root] + root._get_all_children()\n",
    "        #candidates = [node for node in candidates if node.is_terminal and node.depth < max_depth]\n",
    "        if not candidates:\n",
    "            break\n",
    "        # expand each terminal node with branch_factor with concurrent thread pool\n",
    "        with concurrent.futures.ThreadPoolExecutor(max_workers=max_workers) as executor:\n",
    "            future_to_node: dict[concurrent.futures.Future, Node[TypespecData]] = {}\n",
    "            for node in candidates:\n",
    "                messages = [init_message]\n",
    "                for n in node.get_trajectory():\n",
    "                    messages.append(n.data[\"message\"])\n",
    "                    messages.append({\"role\": \"user\", \"content\": n.data[\"feedback\"][\"stdout\"]})\n",
    "                for _ in range(branch_factor):\n",
    "                    future_to_node[executor.submit(run_typespec, messages, client, compiler)] = node\n",
    "            for future in concurrent.futures.as_completed(future_to_node):\n",
    "                node = future_to_node[future]\n",
    "                result = future.result()\n",
    "                score = 1 if result[\"feedback\"][\"exit_code\"] == 0 else 0\n",
    "                child = Node(result, score, parent=node)\n",
    "                node.children.append(child)\n",
    "    return root.best_solution()"
   ]
  },
  {
   "cell_type": "code",
   "execution_count": 10,
   "metadata": {},
   "outputs": [],
   "source": [
    "from search import SearchPolicy"
   ]
  },
  {
   "cell_type": "code",
   "execution_count": 11,
   "metadata": {},
   "outputs": [],
   "source": [
    "compiler = CompilerService()\n",
    "client = AnthropicBedrock(aws_profile=\"dev\", aws_region=\"us-west-2\")"
   ]
  },
  {
   "cell_type": "code",
   "execution_count": 12,
   "metadata": {},
   "outputs": [],
   "source": [
    "policy = SearchPolicy(client, compiler)"
   ]
  },
  {
   "cell_type": "code",
   "execution_count": 13,
   "metadata": {},
   "outputs": [],
   "source": [
    "jinja_env = jinja2.Environment()\n",
    "typespec_tpl = jinja_env.from_string(stages.typespec.PROMPT)\n",
    "drizzle_tpl = jinja_env.from_string(stages.drizzle.PROMPT)"
   ]
  },
  {
   "cell_type": "code",
   "execution_count": 14,
   "metadata": {},
   "outputs": [],
   "source": [
    "typespec_prompt_params = {\"application_description\": \"Bot that records my gym excercises and suggests workout routines.\"}\n",
    "prompt_typespec = typespec_tpl.render(**typespec_prompt_params)\n",
    "init_typespec = {\"role\": \"user\", \"content\": prompt_typespec}"
   ]
  },
  {
   "cell_type": "code",
   "execution_count": 16,
   "metadata": {},
   "outputs": [],
   "source": [
    "data_typespec = policy.run_typespec([init_typespec], client, compiler, policy._model)\n",
    "root_typespec = Node(data_typespec, data_typespec[\"feedback\"][\"exit_code\"] == 0)"
   ]
  },
  {
   "cell_type": "code",
   "execution_count": 17,
   "metadata": {},
   "outputs": [],
   "source": [
    "best_typespec = policy.bfs_typespec(init_typespec, root_typespec, max_depth=3, branch_factor=3, max_workers=5)"
   ]
  },
  {
   "cell_type": "code",
   "execution_count": 18,
   "metadata": {},
   "outputs": [],
   "source": [
    "drizzle_prompt_params = {\"typespec_definitions\": best_typespec.data[\"output\"][\"typespec_definitions\"]}\n",
    "prompt_drizzle = drizzle_tpl.render(**drizzle_prompt_params)\n",
    "init_drizzle = {\"role\": \"user\", \"content\": prompt_drizzle}"
   ]
  },
  {
   "cell_type": "code",
   "execution_count": 19,
   "metadata": {},
   "outputs": [],
   "source": [
    "data_drizzle = policy.run_drizzle([init_drizzle], client, compiler, policy._model)\n",
    "root_drizzle = Node(data_drizzle, not data_drizzle[\"feedback\"][\"stderr\"])"
   ]
  },
  {
   "cell_type": "code",
   "execution_count": 24,
   "metadata": {},
   "outputs": [
    {
     "data": {
      "text/plain": [
       "1"
      ]
     },
     "execution_count": 24,
     "metadata": {},
     "output_type": "execute_result"
    }
   ],
   "source": [
    "int(not data_drizzle[\"feedback\"][\"stderr\"])"
   ]
  },
  {
   "cell_type": "code",
   "execution_count": 20,
   "metadata": {},
   "outputs": [],
   "source": [
    "best_drizzle = policy.bfs_drizzle(init_drizzle, root_drizzle, max_depth=3, branch_factor=3, max_workers=5)"
   ]
  },
  {
   "cell_type": "code",
   "execution_count": 21,
   "metadata": {},
   "outputs": [
    {
     "data": {
      "text/plain": [
       "{'message': {'role': 'assistant',\n",
       "  'content': '<reasoning>\\nLooking at the TypeSpec models and interface, we need to design a schema that can:\\n1. Store exercises with their common and specific attributes (strength vs cardio)\\n2. Store workout routines and their relationship with exercises\\n3. Track workout history\\n4. Handle arrays (muscle groups, equipment) in PostgreSQL\\n5. Use appropriate data types for duration and timestamps\\n</reasoning>\\n\\n<drizzle>\\nimport { serial, text, integer, real, timestamp, pgTable, pgEnum } from \"drizzle-orm/pg-core\";\\n\\n// Enums\\nexport const exerciseTypeEnum = pgEnum(\"exercise_type\", [\"strength\", \"cardio\"]);\\nexport const intensityEnum = pgEnum(\"intensity_level\", [\"low\", \"medium\", \"high\"]);\\nexport const difficultyEnum = pgEnum(\"difficulty_level\", [\"beginner\", \"intermediate\", \"advanced\"]);\\nexport const weightUnitEnum = pgEnum(\"weight_unit\", [\"lbs\", \"kg\"]);\\nexport const distanceUnitEnum = pgEnum(\"distance_unit\", [\"km\", \"miles\", \"m\"]);\\n\\n// Base exercise table\\nexport const exercisesTable = pgTable(\"exercises\", {\\n  id: serial(\"id\").primaryKey(),\\n  name: text(\"name\").notNull(),\\n  type: exerciseTypeEnum(\"type\").notNull(),\\n  muscle_groups: text(\"muscle_groups\").array().notNull(),\\n  intensity: intensityEnum(\"intensity\").notNull(),\\n  equipment: text(\"equipment\").array().notNull(),\\n});\\n\\n// Strength-specific details\\nexport const strengthDetailsTable = pgTable(\"strength_details\", {\\n  exercise_id: integer(\"exercise_id\")\\n    .references(() => exercisesTable.id)\\n    .primaryKey(),\\n  sets: integer(\"sets\").notNull(),\\n  reps: integer(\"reps\").notNull(),\\n  weight: real(\"weight\").notNull(),\\n  weight_unit: weightUnitEnum(\"weight_unit\").notNull(),\\n});\\n\\n// Cardio-specific details\\nexport const cardioDetailsTable = pgTable(\"cardio_details\", {\\n  exercise_id: integer(\"exercise_id\")\\n    .references(() => exercisesTable.id)\\n    .primaryKey(),\\n  duration_minutes: integer(\"duration_minutes\").notNull(),\\n  distance: real(\"distance\").notNull(),\\n  distance_unit: distanceUnitEnum(\"distance_unit\").notNull(),\\n});\\n\\n// Workout routines\\nexport const workoutRoutinesTable = pgTable(\"workout_routines\", {\\n  id: serial(\"id\").primaryKey(),\\n  name: text(\"name\").notNull(),\\n  target_muscles: text(\"target_muscles\").array().notNull(),\\n  estimated_duration_minutes: integer(\"estimated_duration_minutes\").notNull(),\\n  difficulty_level: difficultyEnum(\"difficulty_level\").notNull(),\\n});\\n\\n// Junction table for workout routines and exercises\\nexport const routineExercisesTable = pgTable(\"routine_exercises\", {\\n  routine_id: integer(\"routine_id\")\\n    .references(() => workoutRoutinesTable.id)\\n    .notNull(),\\n  exercise_id: integer(\"exercise_id\")\\n    .references(() => exercisesTable.id)\\n    .notNull(),\\n  order: integer(\"order\").notNull(),\\n});\\n\\n// Workout history\\nexport const workoutHistoryTable = pgTable(\"workout_history\", {\\n  id: serial(\"id\").primaryKey(),\\n  exercise_id: integer(\"exercise_id\")\\n    .references(() => exercisesTable.id)\\n    .notNull(),\\n  performed_at: timestamp(\"performed_at\").notNull(),\\n  // Additional tracking fields could be added here\\n});\\n</drizzle>'},\n",
       " 'output': {'reasoning': 'Looking at the TypeSpec models and interface, we need to design a schema that can:\\n1. Store exercises with their common and specific attributes (strength vs cardio)\\n2. Store workout routines and their relationship with exercises\\n3. Track workout history\\n4. Handle arrays (muscle groups, equipment) in PostgreSQL\\n5. Use appropriate data types for duration and timestamps',\n",
       "  'drizzle_schema': 'import { serial, text, integer, real, timestamp, pgTable, pgEnum } from \"drizzle-orm/pg-core\";\\n\\n// Enums\\nexport const exerciseTypeEnum = pgEnum(\"exercise_type\", [\"strength\", \"cardio\"]);\\nexport const intensityEnum = pgEnum(\"intensity_level\", [\"low\", \"medium\", \"high\"]);\\nexport const difficultyEnum = pgEnum(\"difficulty_level\", [\"beginner\", \"intermediate\", \"advanced\"]);\\nexport const weightUnitEnum = pgEnum(\"weight_unit\", [\"lbs\", \"kg\"]);\\nexport const distanceUnitEnum = pgEnum(\"distance_unit\", [\"km\", \"miles\", \"m\"]);\\n\\n// Base exercise table\\nexport const exercisesTable = pgTable(\"exercises\", {\\n  id: serial(\"id\").primaryKey(),\\n  name: text(\"name\").notNull(),\\n  type: exerciseTypeEnum(\"type\").notNull(),\\n  muscle_groups: text(\"muscle_groups\").array().notNull(),\\n  intensity: intensityEnum(\"intensity\").notNull(),\\n  equipment: text(\"equipment\").array().notNull(),\\n});\\n\\n// Strength-specific details\\nexport const strengthDetailsTable = pgTable(\"strength_details\", {\\n  exercise_id: integer(\"exercise_id\")\\n    .references(() => exercisesTable.id)\\n    .primaryKey(),\\n  sets: integer(\"sets\").notNull(),\\n  reps: integer(\"reps\").notNull(),\\n  weight: real(\"weight\").notNull(),\\n  weight_unit: weightUnitEnum(\"weight_unit\").notNull(),\\n});\\n\\n// Cardio-specific details\\nexport const cardioDetailsTable = pgTable(\"cardio_details\", {\\n  exercise_id: integer(\"exercise_id\")\\n    .references(() => exercisesTable.id)\\n    .primaryKey(),\\n  duration_minutes: integer(\"duration_minutes\").notNull(),\\n  distance: real(\"distance\").notNull(),\\n  distance_unit: distanceUnitEnum(\"distance_unit\").notNull(),\\n});\\n\\n// Workout routines\\nexport const workoutRoutinesTable = pgTable(\"workout_routines\", {\\n  id: serial(\"id\").primaryKey(),\\n  name: text(\"name\").notNull(),\\n  target_muscles: text(\"target_muscles\").array().notNull(),\\n  estimated_duration_minutes: integer(\"estimated_duration_minutes\").notNull(),\\n  difficulty_level: difficultyEnum(\"difficulty_level\").notNull(),\\n});\\n\\n// Junction table for workout routines and exercises\\nexport const routineExercisesTable = pgTable(\"routine_exercises\", {\\n  routine_id: integer(\"routine_id\")\\n    .references(() => workoutRoutinesTable.id)\\n    .notNull(),\\n  exercise_id: integer(\"exercise_id\")\\n    .references(() => exercisesTable.id)\\n    .notNull(),\\n  order: integer(\"order\").notNull(),\\n});\\n\\n// Workout history\\nexport const workoutHistoryTable = pgTable(\"workout_history\", {\\n  id: serial(\"id\").primaryKey(),\\n  exercise_id: integer(\"exercise_id\")\\n    .references(() => exercisesTable.id)\\n    .notNull(),\\n  performed_at: timestamp(\"performed_at\").notNull(),\\n  // Additional tracking fields could be added here\\n});'},\n",
       " 'feedback': {'exit_code': 0,\n",
       "  'stdout': \"No config path provided, using default 'drizzle.config.ts'\\nReading config file '/app/drizzle.config.ts'\\nUsing 'pg' driver for database querying\\n[⣷] Pulling schema from database...\\n\\x1b[2K\\x1b[1G[✓] Pulling schema from database...\\n[✓] Changes applied\\n\",\n",
       "  'stderr': None}}"
      ]
     },
     "execution_count": 21,
     "metadata": {},
     "output_type": "execute_result"
    }
   ],
   "source": [
    "best_drizzle.data"
   ]
  },
  {
   "cell_type": "code",
   "execution_count": 36,
   "metadata": {},
   "outputs": [],
   "source": [
    "root_drizzle = Node(data_drizzle, int(data_drizzle[\"feedback\"][\"stderr\"] is None))"
   ]
  },
  {
   "cell_type": "code",
   "execution_count": 35,
   "metadata": {},
   "outputs": [
    {
     "data": {
      "text/plain": [
       "1"
      ]
     },
     "execution_count": 35,
     "metadata": {},
     "output_type": "execute_result"
    }
   ],
   "source": [
    "int(data_drizzle[\"feedback\"][\"stderr\"] is None)"
   ]
  },
  {
   "cell_type": "code",
   "execution_count": 33,
   "metadata": {},
   "outputs": [
    {
     "data": {
      "text/plain": [
       "True"
      ]
     },
     "execution_count": 33,
     "metadata": {},
     "output_type": "execute_result"
    }
   ],
   "source": [
    "root_drizzle.score"
   ]
  },
  {
   "cell_type": "code",
   "execution_count": 31,
   "metadata": {},
   "outputs": [
    {
     "data": {
      "text/plain": [
       "{'message': {'role': 'assistant',\n",
       "  'content': '<reasoning>\\nBased on the TypeSpec models and interface, we need to create tables for:\\n1. Exercises - to store individual exercise records\\n2. WorkoutRoutines - to store workout routines\\n3. TargetMuscleGroups - to store muscle groups for workouts (many-to-many relationship)\\n4. A junction table for workout routines and exercises\\nWe\\'ll use appropriate PostgreSQL data types and create necessary relationships between tables.\\n</reasoning>\\n\\n<drizzle>\\nimport { \\n  integer, \\n  pgTable, \\n  text, \\n  timestamp, \\n  real,\\n  interval,\\n  serial,\\n  primaryKey\\n} from \"drizzle-orm/pg-core\";\\n\\nexport const exercisesTable = pgTable(\"exercises\", {\\n  id: serial(\"id\").primaryKey(),\\n  name: text(\"name\").notNull(),\\n  sets: integer(\"sets\").notNull(),\\n  reps: integer(\"reps\").notNull(),\\n  weight: real(\"weight\").notNull(),\\n  duration: interval(\"duration\").notNull(),\\n  timestamp: timestamp(\"timestamp\").notNull().defaultNow()\\n});\\n\\nexport const workoutRoutinesTable = pgTable(\"workout_routines\", {\\n  id: serial(\"id\").primaryKey(),\\n  name: text(\"name\").notNull(),\\n  difficulty: text(\"difficulty\").notNull(),\\n  estimated_duration: interval(\"estimated_duration\").notNull()\\n});\\n\\nexport const targetMuscleGroupsTable = pgTable(\"target_muscle_groups\", {\\n  id: serial(\"id\").primaryKey(),\\n  name: text(\"name\").notNull().unique()\\n});\\n\\nexport const routineMuscleGroupsTable = pgTable(\"routine_muscle_groups\", {\\n  routine_id: integer(\"routine_id\")\\n    .references(() => workoutRoutinesTable.id),\\n  muscle_group_id: integer(\"muscle_group_id\")\\n    .references(() => targetMuscleGroupsTable.id),\\n}, (table) => ({\\n  pk: primaryKey(table.routine_id, table.muscle_group_id)\\n}));\\n\\nexport const routineExercisesTable = pgTable(\"routine_exercises\", {\\n  routine_id: integer(\"routine_id\")\\n    .references(() => workoutRoutinesTable.id),\\n  exercise_id: integer(\"exercise_id\")\\n    .references(() => exercisesTable.id),\\n  order: integer(\"order\").notNull(),\\n}, (table) => ({\\n  pk: primaryKey(table.routine_id, table.exercise_id)\\n}));\\n</drizzle>'},\n",
       " 'output': {'reasoning': \"Based on the TypeSpec models and interface, we need to create tables for:\\n1. Exercises - to store individual exercise records\\n2. WorkoutRoutines - to store workout routines\\n3. TargetMuscleGroups - to store muscle groups for workouts (many-to-many relationship)\\n4. A junction table for workout routines and exercises\\nWe'll use appropriate PostgreSQL data types and create necessary relationships between tables.\",\n",
       "  'drizzle_schema': 'import { \\n  integer, \\n  pgTable, \\n  text, \\n  timestamp, \\n  real,\\n  interval,\\n  serial,\\n  primaryKey\\n} from \"drizzle-orm/pg-core\";\\n\\nexport const exercisesTable = pgTable(\"exercises\", {\\n  id: serial(\"id\").primaryKey(),\\n  name: text(\"name\").notNull(),\\n  sets: integer(\"sets\").notNull(),\\n  reps: integer(\"reps\").notNull(),\\n  weight: real(\"weight\").notNull(),\\n  duration: interval(\"duration\").notNull(),\\n  timestamp: timestamp(\"timestamp\").notNull().defaultNow()\\n});\\n\\nexport const workoutRoutinesTable = pgTable(\"workout_routines\", {\\n  id: serial(\"id\").primaryKey(),\\n  name: text(\"name\").notNull(),\\n  difficulty: text(\"difficulty\").notNull(),\\n  estimated_duration: interval(\"estimated_duration\").notNull()\\n});\\n\\nexport const targetMuscleGroupsTable = pgTable(\"target_muscle_groups\", {\\n  id: serial(\"id\").primaryKey(),\\n  name: text(\"name\").notNull().unique()\\n});\\n\\nexport const routineMuscleGroupsTable = pgTable(\"routine_muscle_groups\", {\\n  routine_id: integer(\"routine_id\")\\n    .references(() => workoutRoutinesTable.id),\\n  muscle_group_id: integer(\"muscle_group_id\")\\n    .references(() => targetMuscleGroupsTable.id),\\n}, (table) => ({\\n  pk: primaryKey(table.routine_id, table.muscle_group_id)\\n}));\\n\\nexport const routineExercisesTable = pgTable(\"routine_exercises\", {\\n  routine_id: integer(\"routine_id\")\\n    .references(() => workoutRoutinesTable.id),\\n  exercise_id: integer(\"exercise_id\")\\n    .references(() => exercisesTable.id),\\n  order: integer(\"order\").notNull(),\\n}, (table) => ({\\n  pk: primaryKey(table.routine_id, table.exercise_id)\\n}));'},\n",
       " 'feedback': {'exit_code': 0,\n",
       "  'stdout': \"No config path provided, using default 'drizzle.config.ts'\\nReading config file '/app/drizzle.config.ts'\\nUsing 'pg' driver for database querying\\n[⣷] Pulling schema from database...\\n\\x1b[2K\\x1b[1G[✓] Pulling schema from database...\\n[✓] Changes applied\\n\",\n",
       "  'stderr': None}}"
      ]
     },
     "execution_count": 31,
     "metadata": {},
     "output_type": "execute_result"
    }
   ],
   "source": [
    "data_drizzle"
   ]
  },
  {
   "cell_type": "code",
   "execution_count": 22,
   "metadata": {},
   "outputs": [
    {
     "data": {
      "text/plain": [
       "{'message': {'role': 'assistant',\n",
       "  'content': '<reasoning>\\nFor a gym exercise tracking bot, users would send messages like:\\n\"I did 3 sets of bench press with 150lbs\" or \"Completed 30 minutes of cardio on treadmill\"\\nThe LLM can extract exercise details, duration, and other metrics from natural language.\\n\\nKey functions needed:\\n1. Record exercise (with sets, reps, weight if applicable)\\n2. Record cardio session (with duration and intensity)\\n3. Get workout suggestions based on history\\n4. Track personal records\\n\\nThe interface should handle both strength training and cardio exercises, with appropriate\\ndata models for each type. Workout suggestions should consider previous exercises to avoid\\novertraining same muscle groups.\\n</reasoning>\\n\\n<typespec>\\nmodel Exercise {\\n  name: string;\\n  type: string; // \"strength\" or \"cardio\"\\n  muscleGroups: string[];\\n  sets?: integer;\\n  reps?: integer;\\n  weight?: float;\\n  duration?: duration;\\n  intensity?: string; // \"low\", \"medium\", \"high\"\\n  notes?: string;\\n}\\n\\nmodel WorkoutPlan {\\n  exercises: Exercise[];\\n  difficulty: string;\\n  estimatedDuration: duration;\\n  targetMuscleGroups: string[];\\n}\\n\\nmodel PersonalRecord {\\n  exerciseName: string;\\n  weight: float;\\n  reps: integer;\\n  date: utcDateTime;\\n}\\n\\ninterface GymBot {\\n  @llm_func(2)\\n  recordExercise(exercise: Exercise): void;\\n\\n  @llm_func(3)\\n  getSuggestedWorkout(targetMuscleGroups?: string[]): WorkoutPlan;\\n\\n  @llm_func(1)\\n  getPersonalRecords(exerciseName?: string): PersonalRecord[];\\n\\n  @llm_func(5)\\n  getWorkoutHistory(from: utcDateTime, to: utcDateTime): Exercise[];\\n}\\n</typespec>'},\n",
       " 'output': {'reasoning': 'For a gym exercise tracking bot, users would send messages like:\\n\"I did 3 sets of bench press with 150lbs\" or \"Completed 30 minutes of cardio on treadmill\"\\nThe LLM can extract exercise details, duration, and other metrics from natural language.\\n\\nKey functions needed:\\n1. Record exercise (with sets, reps, weight if applicable)\\n2. Record cardio session (with duration and intensity)\\n3. Get workout suggestions based on history\\n4. Track personal records\\n\\nThe interface should handle both strength training and cardio exercises, with appropriate\\ndata models for each type. Workout suggestions should consider previous exercises to avoid\\novertraining same muscle groups.',\n",
       "  'typespec_definitions': 'model Exercise {\\n  name: string;\\n  type: string; // \"strength\" or \"cardio\"\\n  muscleGroups: string[];\\n  sets?: integer;\\n  reps?: integer;\\n  weight?: float;\\n  duration?: duration;\\n  intensity?: string; // \"low\", \"medium\", \"high\"\\n  notes?: string;\\n}\\n\\nmodel WorkoutPlan {\\n  exercises: Exercise[];\\n  difficulty: string;\\n  estimatedDuration: duration;\\n  targetMuscleGroups: string[];\\n}\\n\\nmodel PersonalRecord {\\n  exerciseName: string;\\n  weight: float;\\n  reps: integer;\\n  date: utcDateTime;\\n}\\n\\ninterface GymBot {\\n  @llm_func(2)\\n  recordExercise(exercise: Exercise): void;\\n\\n  @llm_func(3)\\n  getSuggestedWorkout(targetMuscleGroups?: string[]): WorkoutPlan;\\n\\n  @llm_func(1)\\n  getPersonalRecords(exerciseName?: string): PersonalRecord[];\\n\\n  @llm_func(5)\\n  getWorkoutHistory(from: utcDateTime, to: utcDateTime): Exercise[];\\n}',\n",
       "  'llm_functions': ['recordExercise',\n",
       "   'getSuggestedWorkout',\n",
       "   'getPersonalRecords',\n",
       "   'getWorkoutHistory']},\n",
       " 'feedback': {'exit_code': 0,\n",
       "  'stdout': 'TypeSpec compiler v0.64.0\\n\\nCompilation completed successfully.\\n\\n',\n",
       "  'stderr': None}}"
      ]
     },
     "execution_count": 22,
     "metadata": {},
     "output_type": "execute_result"
    }
   ],
   "source": [
    "root_typespec"
   ]
  },
  {
   "cell_type": "code",
   "execution_count": 13,
   "metadata": {},
   "outputs": [],
   "source": [
    "fake_typespec = r\"\"\"\n",
    "model Exercise {\n",
    "  name: string;\n",
    "  type: string; // \"strength\" or \"cardio\"\n",
    "  equipment: string;\n",
    "  timestamp: Date;\n",
    "}\n",
    "\n",
    "model StrengthExercise extends Exercise {\n",
    "  sets: integer;\n",
    "  reps: integer;\n",
    "  weight: float;\n",
    "  weightUnit: string; // \"lbs\" or \"kg\"\n",
    "}\n",
    "\n",
    "model CardioExercise extends Exercise {\n",
    "  duration: duration;\n",
    "  intensity: string; // \"low\", \"medium\", \"high\"\n",
    "}\n",
    "\n",
    "model WorkoutRoutine {\n",
    "  targetMuscleGroup: string;\n",
    "  exercises: Exercise[];\n",
    "  estimatedDuration: duration;\n",
    "  difficultyLevel: string; // \"beginner\", \"intermediate\", \"advanced\"\n",
    "}\n",
    "\n",
    "interface GymBot {\n",
    "  @llm_func(2)\n",
    "  recordStrengthExercise(exercise: StrengthExercise): void;\n",
    "\n",
    "  @llm_func(2)\n",
    "  recordCardioExercise(exercise: CardioExercise): void;\n",
    "\n",
    "  @llm_func(3)\n",
    "  suggestWorkout(muscleGroup: string, difficultyLevel: string): WorkoutRoutine;\n",
    "\n",
    "  @llm_func(1)\n",
    "  getExerciseHistory(from: utcDateTime, to: utcDateTime): Exercise[];\n",
    "}\n",
    "\"\"\".strip()\n",
    "\n",
    "fake_reasoning = r\"\"\"\n",
    "For a gym exercise tracking bot, I expect users to send messages like:\n",
    "\"I did 3 sets of bench press with 150lbs\" or \"Completed 30 minutes of cardio on treadmill\"\n",
    "The LLM needs to extract:\n",
    "- Exercise details (name, type, equipment used)\n",
    "- Sets, reps, weights for strength training\n",
    "- Duration for cardio/endurance exercises\n",
    "- Timestamp (inferred from message time)\n",
    "\n",
    "For workout suggestions, user might say:\n",
    "\"Suggest a chest workout\" or \"What should I do for leg day?\"\n",
    "LLM would need to consider:\n",
    "- Target muscle group\n",
    "- Available equipment (if specified)\n",
    "- User's fitness level\n",
    "- Previous workouts\n",
    "\n",
    "The interface should support both recording exercises and getting recommendations.\n",
    "\"\"\".strip()\n",
    "\n",
    "fake_response = f\"\"\"\n",
    "<reasoning>\n",
    "{fake_reasoning}\n",
    "</reasoning>\n",
    "\n",
    "<typespec>\n",
    "{fake_typespec}\n",
    "</typespec>\n",
    "\"\"\".strip()\n",
    "\n",
    "fake_output = stages.typespec.parse_output(fake_response)\n",
    "fake_schema = \"\\n\".join(['import \"./helpers.js\";', fake_output[\"typespec_definitions\"]])\n",
    "fake_feedback = compiler.compile_typespec(fake_schema)"
   ]
  },
  {
   "cell_type": "code",
   "execution_count": 14,
   "metadata": {},
   "outputs": [],
   "source": [
    "jinja_env = jinja2.Environment()\n",
    "typespec_tpl = jinja_env.from_string(stages.typespec.PROMPT)\n",
    "drizzle_tpl = jinja_env.from_string(stages.drizzle.PROMPT)"
   ]
  },
  {
   "cell_type": "code",
   "execution_count": 15,
   "metadata": {},
   "outputs": [],
   "source": [
    "prompt_params = {\"application_description\": \"Bot that records my gym excercises and suggests workout routines.\"}\n",
    "prompt_typespec = typespec_tpl.render(**prompt_params)"
   ]
  },
  {
   "cell_type": "code",
   "execution_count": 16,
   "metadata": {},
   "outputs": [],
   "source": [
    "init_message = {\"role\": \"user\", \"content\": prompt_typespec}"
   ]
  },
  {
   "cell_type": "code",
   "execution_count": 37,
   "metadata": {},
   "outputs": [],
   "source": [
    "fake_root = Node(\n",
    "    {\n",
    "        \"message\": {\"role\": \"assistant\", \"content\": fake_response},\n",
    "        \"output\": fake_output,\n",
    "        \"feedback\": fake_feedback,\n",
    "    },\n",
    "    score=0,\n",
    ")"
   ]
  },
  {
   "cell_type": "code",
   "execution_count": 38,
   "metadata": {},
   "outputs": [
    {
     "data": {
      "text/plain": [
       "<__main__.Node at 0xffffa12f7650>"
      ]
     },
     "execution_count": 38,
     "metadata": {},
     "output_type": "execute_result"
    }
   ],
   "source": [
    "builder.bfs_typespec(init_message, fake_root, max_depth=3, branch_factor=3, max_workers=5)"
   ]
  },
  {
   "cell_type": "code",
   "execution_count": 29,
   "metadata": {},
   "outputs": [
    {
     "data": {
      "text/plain": [
       "<__main__.Node at 0xffffa12f4200>"
      ]
     },
     "execution_count": 29,
     "metadata": {},
     "output_type": "execute_result"
    }
   ],
   "source": [
    "bfs_typespec(init_message, fake_root, client, compiler, max_depth=3, branch_factor=3, max_workers=5)"
   ]
  },
  {
   "cell_type": "code",
   "execution_count": 39,
   "metadata": {},
   "outputs": [],
   "source": [
    "solution = fake_root.best_solution()"
   ]
  },
  {
   "cell_type": "code",
   "execution_count": 40,
   "metadata": {},
   "outputs": [
    {
     "data": {
      "text/plain": [
       "1"
      ]
     },
     "execution_count": 40,
     "metadata": {},
     "output_type": "execute_result"
    }
   ],
   "source": [
    "solution.depth"
   ]
  },
  {
   "cell_type": "markdown",
   "metadata": {},
   "source": [
    "## Manage Drizzle"
   ]
  },
  {
   "cell_type": "code",
   "execution_count": 42,
   "metadata": {},
   "outputs": [],
   "source": [
    "class DrizzleData(TypedDict):\n",
    "    message: dict\n",
    "    output: stages.drizzle.DrizzleOutput\n",
    "    feedback: CompileResult"
   ]
  },
  {
   "cell_type": "code",
   "execution_count": null,
   "metadata": {},
   "outputs": [],
   "source": [
    "def run_drizzle(messages: list[dict], client: AnthropicBedrock, compiler: CompilerService) -> DrizzleData:\n",
    "    response = client.messages.create(\n",
    "        model=LLM_MODEL,\n",
    "        max_tokens=8192,\n",
    "        messages=messages,\n",
    "    )\n",
    "    output = stages.drizzle.parse_output(response.content[0].text)\n",
    "    feedback = compiler.compile_drizzle(output[\"drizzle_schema\"])\n",
    "    return {\n",
    "        \"message\": {\"role\": \"assistant\", \"content\": response.content[0].text},\n",
    "        \"output\": output,\n",
    "        \"feedback\": feedback,\n",
    "    }\n",
    "\n",
    "\n",
    "def bfs_drizzle(\n",
    "    init_message: dict,\n",
    "    root: Node[DrizzleData],\n",
    "    client: AnthropicBedrock,\n",
    "    compiler: CompilerService,\n",
    "    max_depth: int = 3,\n",
    "    branch_factor: int = 3,\n",
    "    max_workers: int = 5,\n",
    ") -> Node[DrizzleData]:\n",
    "    while True:\n",
    "        if root.best_solution().score == 1:\n",
    "            break\n",
    "        \n",
    "        candidates: list[Node[TypespecData]] = []\n",
    "        for node in [root] + root._get_all_children():\n",
    "            if (\n",
    "                node.is_terminal\n",
    "                and node.depth < max_depth\n",
    "                and node.data[\"feedback\"][\"exit_code\"] != 0\n",
    "            ):\n",
    "                candidates.append(node)\n",
    "        #candidates = [root] + root._get_all_children()\n",
    "        #candidates = [node for node in candidates if node.is_terminal and node.depth < max_depth]\n",
    "        if not candidates:\n",
    "            break\n",
    "        # expand each terminal node with branch_factor with concurrent thread pool\n",
    "        with concurrent.futures.ThreadPoolExecutor(max_workers=max_workers) as executor:\n",
    "            future_to_node: dict[concurrent.futures.Future, Node[TypespecData]] = {}\n",
    "            for node in candidates:\n",
    "                messages = [init_message]\n",
    "                for n in node.get_trajectory():\n",
    "                    messages.append(n.data[\"message\"])\n",
    "                    messages.append({\"role\": \"user\", \"content\": n.data[\"feedback\"][\"stdout\"]})\n",
    "                for _ in range(branch_factor):\n",
    "                    future_to_node[executor.submit(run_typespec, messages, client, compiler)] = node\n",
    "            for future in concurrent.futures.as_completed(future_to_node):\n",
    "                node = future_to_node[future]\n",
    "                result = future.result()\n",
    "                score = 1 if result[\"feedback\"][\"exit_code\"] == 0 else 0\n",
    "                child = Node(result, score, parent=node)\n",
    "                node.children.append(child)\n",
    "    return root.best_solution()"
   ]
  },
  {
   "cell_type": "code",
   "execution_count": null,
   "metadata": {},
   "outputs": [],
   "source": []
  },
  {
   "cell_type": "code",
   "execution_count": null,
   "metadata": {},
   "outputs": [],
   "source": []
  },
  {
   "cell_type": "code",
   "execution_count": 47,
   "metadata": {},
   "outputs": [],
   "source": [
    "new_node = run_typespec(messages, client, compiler)"
   ]
  },
  {
   "cell_type": "code",
   "execution_count": 53,
   "metadata": {},
   "outputs": [
    {
     "name": "stdout",
     "output_type": "stream",
     "text": [
      "For a gym exercise tracking bot, I expect users to send messages like:\n",
      "\"I did 3 sets of bench press with 150lbs\" or \"Completed 30 minutes of cardio on treadmill\"\n",
      "The LLM needs to extract:\n",
      "- Exercise details (name, type, equipment used)\n",
      "- Sets, reps, weights for strength training\n",
      "- Duration for cardio/endurance exercises\n",
      "- Timestamp (inferred from message time)\n",
      "\n",
      "For workout suggestions, user might say:\n",
      "\"Suggest a chest workout\" or \"What should I do for leg day?\"\n",
      "LLM would need to consider:\n",
      "- Target muscle group\n",
      "- Available equipment (if specified)\n",
      "- User's fitness level\n",
      "- Previous workouts\n",
      "\n",
      "The interface should support both recording exercises and getting recommendations.\n"
     ]
    }
   ],
   "source": [
    "print(new_node['output']['reasoning'])"
   ]
  },
  {
   "cell_type": "code",
   "execution_count": null,
   "metadata": {},
   "outputs": [],
   "source": []
  },
  {
   "cell_type": "code",
   "execution_count": null,
   "metadata": {},
   "outputs": [],
   "source": [
    "typespec_schema = \"\"\"\n",
    "extern dec llm_func(target: unknown, history: valueof int32);\n",
    "\n",
    "//{{typespec_definitions}}\n",
    "\"\"\".strip()"
   ]
  },
  {
   "cell_type": "code",
   "execution_count": 15,
   "metadata": {},
   "outputs": [],
   "source": [
    "drizzle_schema = \"\"\"\n",
    "import { integer, pgTable, text } from \"drizzle-orm/pg-core\";\n",
    "\n",
    "export const gymEquipmentTable = pgTable(\"gym_equipment\", {\n",
    "    id: integer().primaryKey().generatedAlwaysAsIdentity(),\n",
    "    name: text(),\n",
    "    description: text(),\n",
    "    price: integer(),\n",
    "    stock: integer(),\n",
    "});\n",
    "\"\"\".strip()"
   ]
  },
  {
   "cell_type": "code",
   "execution_count": 16,
   "metadata": {},
   "outputs": [
    {
     "name": "stdout",
     "output_type": "stream",
     "text": [
      "running local\n"
     ]
    }
   ],
   "source": [
    "result = compiler.compile_drizzle(drizzle_schema)"
   ]
  },
  {
   "cell_type": "code",
   "execution_count": 17,
   "metadata": {},
   "outputs": [
    {
     "data": {
      "text/plain": [
       "{'exit_code': 0,\n",
       " 'stdout': \"No config path provided, using default 'drizzle.config.ts'\\nReading config file '/app/drizzle.config.ts'\\nUsing 'pg' driver for database querying\\n[⣷] Pulling schema from database...\\n\\x1b[2K\\x1b[1G[✓] Pulling schema from database...\\n[✓] Changes applied\\n\",\n",
       " 'stderr': None}"
      ]
     },
     "execution_count": 17,
     "metadata": {},
     "output_type": "execute_result"
    }
   ],
   "source": [
    "result"
   ]
  },
  {
   "cell_type": "code",
   "execution_count": null,
   "metadata": {},
   "outputs": [],
   "source": [
    "def bfs_apply(\n",
    "    branching_factor: int = 5,\n",
    "    max_depth: int = 3,\n",
    "):\n",
    "    pass"
   ]
  },
  {
   "cell_type": "code",
   "execution_count": null,
   "metadata": {},
   "outputs": [],
   "source": []
  },
  {
   "cell_type": "code",
   "execution_count": null,
   "metadata": {},
   "outputs": [],
   "source": []
  },
  {
   "cell_type": "code",
   "execution_count": null,
   "metadata": {},
   "outputs": [],
   "source": [
    "simple_tree = Node(0, 0)\n",
    "simple_tree.children = [Node(1, 1, simple_tree), Node(2, 2, simple_tree)]\n",
    "\n",
    "for node in simple_tree._get_all_children():\n",
    "    print(node.data)"
   ]
  }
 ],
 "metadata": {
  "kernelspec": {
   "display_name": ".venv",
   "language": "python",
   "name": "python3"
  },
  "language_info": {
   "codemirror_mode": {
    "name": "ipython",
    "version": 3
   },
   "file_extension": ".py",
   "mimetype": "text/x-python",
   "name": "python",
   "nbconvert_exporter": "python",
   "pygments_lexer": "ipython3",
   "version": "3.12.8"
  }
 },
 "nbformat": 4,
 "nbformat_minor": 2
}

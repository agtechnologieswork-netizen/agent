{
 "cells": [
  {
   "cell_type": "code",
   "execution_count": 1,
   "metadata": {},
   "outputs": [],
   "source": [
    "%load_ext autoreload\n",
    "%autoreload 2"
   ]
  },
  {
   "cell_type": "code",
   "execution_count": 2,
   "metadata": {},
   "outputs": [],
   "source": [
    "from anthropic import AnthropicBedrock\n",
    "from application import Application\n",
    "from compiler.core import Compiler\n",
    "from core.interpolator import Interpolator"
   ]
  },
  {
   "cell_type": "code",
   "execution_count": 3,
   "metadata": {},
   "outputs": [],
   "source": [
    "compiler = Compiler(\"botbuild/tsp_compiler\", \"botbuild/app_schema\")\n",
    "client = AnthropicBedrock(aws_profile=\"dev\", aws_region=\"us-west-2\")"
   ]
  },
  {
   "cell_type": "code",
   "execution_count": 4,
   "metadata": {},
   "outputs": [
    {
     "name": "stdout",
     "output_type": "stream",
     "text": [
      "Loaded environment variables from templates/app_schema/.env\n"
     ]
    }
   ],
   "source": [
    "import os\n",
    "from dotenv import load_dotenv\n",
    "env_path = \"templates/app_schema/.env\"\n",
    "if os.path.exists(env_path):\n",
    "    load_dotenv(env_path)\n",
    "    print(f\"Loaded environment variables from {env_path}\")"
   ]
  },
  {
   "cell_type": "code",
   "execution_count": 5,
   "metadata": {},
   "outputs": [],
   "source": [
    "application = Application(client, compiler)\n",
    "interpolator = Interpolator(\".\")"
   ]
  },
  {
   "cell_type": "code",
   "execution_count": null,
   "metadata": {},
   "outputs": [],
   "source": [
    "user_prompts = \"\"\"Bot that says hello\"\"\""
   ]
  },
  {
   "cell_type": "code",
   "execution_count": 7,
   "metadata": {},
   "outputs": [
    {
     "name": "stdout",
     "output_type": "stream",
     "text": [
      "Compiling TypeSpec...\n"
     ]
    },
    {
     "data": {
      "text/plain": [
       "{'refined_description': None,\n",
       " 'capabilities': CapabilitiesOut(capabilities=['perplexity.web_search'], error_output=None),\n",
       " 'typespec': TypespecOut(reasoning='Looking at the user request, they want a simple bot that says hello. The interface needs to handle greeting functionalities. I\\'ll create a model and interface for this basic use case.\\n\\nKey functionalities needed:\\n1. A way to greet the user - `greetUser()`\\n2. Maybe a way to customize the greeting - passing a name parameter\\n3. A way to respond to different greeting scenarios (standard, time-based, etc.)\\n\\nThe models will be simple:\\n- `GreetingOptions` - containing optional name and locale\\n- `TimeBasedGreetingOptions` - for time-sensitive greetings\\n\\nFor scenarios, I\\'ll cover:\\n- Basic greeting (just \"hello\")\\n- Personalized greeting (with name)\\n- Time-based greeting (good morning, good evening, etc.)', typespec_definitions='model GreetingOptions {\\n  name?: string;\\n  locale?: string;\\n}\\n\\nmodel TimeBasedGreetingOptions {\\n  name?: string;\\n  timeOfDay?: string;\\n  locale?: string;\\n}\\n\\ninterface GreetingBot {\\n  @scenario(\\n  \"\"\"\\n  Scenario: Basic greeting\\n  When user says \"hello\" or \"hi\"\\n  Then system responds with a standard greeting\\n  \\n  Examples:\\n    | Input    | Expected Output |\\n    | \"hello\"  | \"Hello there!\"  |\\n    | \"hi\"     | \"Hi there!\"     |\\n  \"\"\")\\n  @llm_func(\"Generate a standard greeting response\")\\n  greetUser(options: GreetingOptions): void;\\n\\n  @scenario(\\n  \"\"\"\\n  Scenario: Personalized greeting\\n  When user introduces themselves with their name\\n  Then system responds with a personalized greeting using their name\\n  \\n  Examples:\\n    | Input                      | Expected Output      |\\n    | \"Hi, my name is John\"      | \"Hello, John!\"       |\\n    | \"I\\'m Sarah\"                | \"Nice to meet you, Sarah!\" |\\n  \"\"\")\\n  @llm_func(\"Generate a personalized greeting using the user\\'s name\")\\n  greetUserByName(options: GreetingOptions): void;\\n\\n  @scenario(\\n  \"\"\"\\n  Scenario: Time-based greeting\\n  When user greets at a specific time of day\\n  Then system responds with an appropriate time-specific greeting\\n  \\n  Examples:\\n    | Input                      | Time      | Expected Output        |\\n    | \"Hello\"                    | 09:00     | \"Good morning!\"        |\\n    | \"Hi there\"                 | 14:00     | \"Good afternoon!\"      |\\n    | \"Hey\"                      | 20:00     | \"Good evening!\"        |\\n  \"\"\")\\n  @llm_func(\"Generate a greeting appropriate for the time of day\")\\n  timeBasedGreeting(options: TimeBasedGreetingOptions): void;\\n}', llm_functions=[LLMFunction(name='greetUser', description='Generate a standard greeting response', scenario='Scenario: Basic greeting\\n  When user says \"hello\" or \"hi\"\\n  Then system responds with a standard greeting\\n  \\n  Examples:\\n    | Input    | Expected Output |\\n    | \"hello\"  | \"Hello there!\"  |\\n    | \"hi\"     | \"Hi there!\"     |'), LLMFunction(name='greetUserByName', description=\"Generate a personalized greeting using the user's name\", scenario='Scenario: Personalized greeting\\n  When user introduces themselves with their name\\n  Then system responds with a personalized greeting using their name\\n  \\n  Examples:\\n    | Input                      | Expected Output      |\\n    | \"Hi, my name is John\"      | \"Hello, John!\"       |\\n    | \"I\\'m Sarah\"                | \"Nice to meet you, Sarah!\" |'), LLMFunction(name='timeBasedGreeting', description='Generate a greeting appropriate for the time of day', scenario='Scenario: Time-based greeting\\n  When user greets at a specific time of day\\n  Then system responds with an appropriate time-specific greeting\\n  \\n  Examples:\\n    | Input                      | Time      | Expected Output        |\\n    | \"Hello\"                    | 09:00     | \"Good morning!\"        |\\n    | \"Hi there\"                 | 14:00     | \"Good afternoon!\"      |\\n    | \"Hey\"                      | 20:00     | \"Good evening!\"        |')], error_output=None),\n",
       " 'drizzle': None,\n",
       " 'handlers': {},\n",
       " 'handler_tests': {},\n",
       " 'typescript_schema': None,\n",
       " 'gherkin': GherkinOut(reasoning=None, gherkin=None, error_output=None),\n",
       " 'trace_id': 'e778f09f-da4d-447e-a24b-1bd6d89047f6'}"
      ]
     },
     "execution_count": 7,
     "metadata": {},
     "output_type": "execute_result"
    }
   ],
   "source": [
    "\n",
    "my_bot = application.prepare_bot([user_prompts], bot_id=\"handler_tests\", capabilities=[\"perplexity.web_search\"])\n",
    "my_bot.__dict__"
   ]
  },
  {
   "cell_type": "code",
   "execution_count": 13,
   "metadata": {},
   "outputs": [
    {
     "name": "stdout",
     "output_type": "stream",
     "text": [
      "Compiling TypeSpec...\n"
     ]
    },
    {
     "data": {
      "text/plain": [
       "{'refined_description': None,\n",
       " 'capabilities': CapabilitiesOut(capabilities=['perplexity.web_search'], error_output=None),\n",
       " 'typespec': TypespecOut(reasoning=\"From the user requests, I need to create a simple greeting bot interface with two functions:\\n1. sayHello - Says hello to the user\\n2. sayGoodbye - Says goodbye to the user\\n\\nEach function will need a simple options model to hold parameters, scenarios, and llm_func decorators.\\n\\nFor the sayHello function:\\n- It needs an options parameter (as per the rules)\\n- A scenario for a basic greeting\\n- A scenario for a greeting with user's name\\n\\nFor the sayGoodbye function:\\n- It needs an options parameter\\n- A scenario for a basic farewell\\n- A scenario for a farewell with user's name\\n\\nI'll create appropriate models for each function's options parameter. Since these are simple greeting functions, the options could include:\\n- userName (optional): To personalize the greeting/farewell\\n- useEmoji (optional): To include emoji in the greeting/farewell\", typespec_definitions='model HelloOptions {\\n  userName?: string;\\n  useEmoji?: boolean;\\n}\\n\\nmodel GoodbyeOptions {\\n  userName?: string;\\n  useEmoji?: boolean;\\n}\\n\\ninterface GreetingBot {\\n  @scenario(\\n  \"\"\"\\n  Scenario: Basic greeting\\n  When user says \"hi\" or \"hello\"\\n  Then system should respond with a greeting\\n  Examples:\\n    | Input     | Expected Response |\\n    | \"hi\"      | \"Hello there!\"    |\\n    | \"hello\"   | \"Hello!\"          |\\n  \"\"\")\\n  @scenario(\\n  \"\"\"\\n  Scenario: Personalized greeting\\n  When user says \"hi, my name is John\" or \"hello, I\\'m John\"\\n  Then system should extract the name and respond with a personalized greeting\\n  Examples:\\n    | Input                   | Expected Response |\\n    | \"hi, my name is John\"   | \"Hello John!\"     |\\n    | \"hello, I\\'m Alice\"      | \"Hello Alice!\"    |\\n  \"\"\")\\n  @llm_func(\"Generate a friendly hello greeting\")\\n  sayHello(options: HelloOptions): void;\\n\\n  @scenario(\\n  \"\"\"\\n  Scenario: Basic farewell\\n  When user says \"bye\" or \"goodbye\"\\n  Then system should respond with a farewell\\n  Examples:\\n    | Input     | Expected Response |\\n    | \"bye\"     | \"Goodbye!\"        |\\n    | \"goodbye\" | \"Farewell!\"       |\\n  \"\"\")\\n  @scenario(\\n  \"\"\"\\n  Scenario: Personalized farewell\\n  When user says \"bye, John here\" or \"goodbye, this is Alice\"\\n  Then system should extract the name and respond with a personalized farewell\\n  Examples:\\n    | Input                  | Expected Response      |\\n    | \"bye, John here\"       | \"Goodbye John!\"        |\\n    | \"goodbye, this is Alice\" | \"Farewell Alice!\"    |\\n  \"\"\")\\n  @llm_func(\"Generate a friendly goodbye message\")\\n  sayGoodbye(options: GoodbyeOptions): void;\\n}', llm_functions=[LLMFunction(name='sayHello', description='Generate a friendly hello greeting', scenario='Scenario: Personalized greeting\\n  When user says \"hi, my name is John\" or \"hello, I\\'m John\"\\n  Then system should extract the name and respond with a personalized greeting\\n  Examples:\\n    | Input                   | Expected Response |\\n    | \"hi, my name is John\"   | \"Hello John!\"     |\\n    | \"hello, I\\'m Alice\"      | \"Hello Alice!\"    |'), LLMFunction(name='sayGoodbye', description='Generate a friendly goodbye message', scenario='Scenario: Personalized farewell\\n  When user says \"bye, John here\" or \"goodbye, this is Alice\"\\n  Then system should extract the name and respond with a personalized farewell\\n  Examples:\\n    | Input                  | Expected Response      |\\n    | \"bye, John here\"       | \"Goodbye John!\"        |\\n    | \"goodbye, this is Alice\" | \"Farewell Alice!\"    |')], error_output=None),\n",
       " 'drizzle': None,\n",
       " 'handlers': {},\n",
       " 'handler_tests': {},\n",
       " 'typescript_schema': None,\n",
       " 'gherkin': GherkinOut(reasoning=None, gherkin=None, error_output=None),\n",
       " 'trace_id': '8458db5e-19e4-4b22-a5f8-a9f1e4c9933c'}"
      ]
     },
     "execution_count": 13,
     "metadata": {},
     "output_type": "execute_result"
    }
   ],
   "source": [
    "my_bot = application.prepare_bot([user_prompts, \"Add say goodbye\"], bot_id=\"handler_tests\", capabilities=[\"perplexity.web_search\"])\n",
    "my_bot.__dict__"
   ]
  },
  {
   "cell_type": "code",
   "execution_count": null,
   "metadata": {},
   "outputs": [
    {
     "name": "stdout",
     "output_type": "stream",
     "text": [
      "Creating prompt from TypeSpec...\n",
      "Processing TypeSpec...\n",
      "Generating Typescript Schema...\n",
      "Generating Drizzle Schema...\n",
      "Generating Handler Tests...\n",
      "Generating Handlers...\n"
     ]
    }
   ],
   "source": [
    "my_bot = application.update_bot(\n",
    "    typespecSchema=my_bot.typespec.typespec_definitions, \n",
    "    bot_id=\"web_search_bot\", \n",
    "    capabilities=[\"perplexity.web_search\"]\n",
    ")"
   ]
  },
  {
   "cell_type": "code",
   "execution_count": 15,
   "metadata": {},
   "outputs": [
    {
     "data": {
      "text/plain": [
       "{'refined_description': None,\n",
       " 'capabilities': CapabilitiesOut(capabilities=['perplexity.web_search'], error_output=None),\n",
       " 'typespec': TypespecOut(reasoning=\"From the user requests, I need to create a simple greeting bot interface with two functions:\\n1. sayHello - Says hello to the user\\n2. sayGoodbye - Says goodbye to the user\\n\\nEach function will need a simple options model to hold parameters, scenarios, and llm_func decorators.\\n\\nFor the sayHello function:\\n- It needs an options parameter (as per the rules)\\n- A scenario for a basic greeting\\n- A scenario for a greeting with user's name\\n\\nFor the sayGoodbye function:\\n- It needs an options parameter\\n- A scenario for a basic farewell\\n- A scenario for a farewell with user's name\\n\\nI'll create appropriate models for each function's options parameter. Since these are simple greeting functions, the options could include:\\n- userName (optional): To personalize the greeting/farewell\\n- useEmoji (optional): To include emoji in the greeting/farewell\", typespec_definitions='model HelloOptions {\\n  userName?: string;\\n  useEmoji?: boolean;\\n}\\n\\nmodel GoodbyeOptions {\\n  userName?: string;\\n  useEmoji?: boolean;\\n}\\n\\ninterface GreetingBot {\\n  @scenario(\\n  \"\"\"\\n  Scenario: Basic greeting\\n  When user says \"hi\" or \"hello\"\\n  Then system should respond with a greeting\\n  Examples:\\n    | Input     | Expected Response |\\n    | \"hi\"      | \"Hello there!\"    |\\n    | \"hello\"   | \"Hello!\"          |\\n  \"\"\")\\n  @scenario(\\n  \"\"\"\\n  Scenario: Personalized greeting\\n  When user says \"hi, my name is John\" or \"hello, I\\'m John\"\\n  Then system should extract the name and respond with a personalized greeting\\n  Examples:\\n    | Input                   | Expected Response |\\n    | \"hi, my name is John\"   | \"Hello John!\"     |\\n    | \"hello, I\\'m Alice\"      | \"Hello Alice!\"    |\\n  \"\"\")\\n  @llm_func(\"Generate a friendly hello greeting\")\\n  sayHello(options: HelloOptions): void;\\n\\n  @scenario(\\n  \"\"\"\\n  Scenario: Basic farewell\\n  When user says \"bye\" or \"goodbye\"\\n  Then system should respond with a farewell\\n  Examples:\\n    | Input     | Expected Response |\\n    | \"bye\"     | \"Goodbye!\"        |\\n    | \"goodbye\" | \"Farewell!\"       |\\n  \"\"\")\\n  @scenario(\\n  \"\"\"\\n  Scenario: Personalized farewell\\n  When user says \"bye, John here\" or \"goodbye, this is Alice\"\\n  Then system should extract the name and respond with a personalized farewell\\n  Examples:\\n    | Input                  | Expected Response      |\\n    | \"bye, John here\"       | \"Goodbye John!\"        |\\n    | \"goodbye, this is Alice\" | \"Farewell Alice!\"    |\\n  \"\"\")\\n  @llm_func(\"Generate a friendly goodbye message\")\\n  sayGoodbye(options: GoodbyeOptions): void;\\n}', llm_functions=[LLMFunction(name='sayHello', description='Generate a friendly hello greeting', scenario='Scenario: Personalized greeting\\n  When user says \"hi, my name is John\" or \"hello, I\\'m John\"\\n  Then system should extract the name and respond with a personalized greeting\\n  Examples:\\n    | Input                   | Expected Response |\\n    | \"hi, my name is John\"   | \"Hello John!\"     |\\n    | \"hello, I\\'m Alice\"      | \"Hello Alice!\"    |'), LLMFunction(name='sayGoodbye', description='Generate a friendly goodbye message', scenario='Scenario: Personalized farewell\\n  When user says \"bye, John here\" or \"goodbye, this is Alice\"\\n  Then system should extract the name and respond with a personalized farewell\\n  Examples:\\n    | Input                  | Expected Response      |\\n    | \"bye, John here\"       | \"Goodbye John!\"        |\\n    | \"goodbye, this is Alice\" | \"Farewell Alice!\"    |')], error_output=None),\n",
       " 'drizzle': None,\n",
       " 'handlers': {},\n",
       " 'handler_tests': {},\n",
       " 'typescript_schema': None,\n",
       " 'gherkin': GherkinOut(reasoning=None, gherkin=None, error_output=None),\n",
       " 'trace_id': '8458db5e-19e4-4b22-a5f8-a9f1e4c9933c'}"
      ]
     },
     "execution_count": 15,
     "metadata": {},
     "output_type": "execute_result"
    }
   ],
   "source": []
  },
  {
   "cell_type": "code",
   "execution_count": 14,
   "metadata": {},
   "outputs": [
    {
     "ename": "AttributeError",
     "evalue": "'NoneType' object has no attribute 'drizzle_schema'",
     "output_type": "error",
     "traceback": [
      "\u001b[0;31m---------------------------------------------------------------------------\u001b[0m",
      "\u001b[0;31mAttributeError\u001b[0m                            Traceback (most recent call last)",
      "Cell \u001b[0;32mIn[14], line 1\u001b[0m\n\u001b[0;32m----> 1\u001b[0m \u001b[43minterpolator\u001b[49m\u001b[38;5;241;43m.\u001b[39;49m\u001b[43mbake\u001b[49m\u001b[43m(\u001b[49m\u001b[43mmy_bot\u001b[49m\u001b[43m,\u001b[49m\u001b[43m \u001b[49m\u001b[38;5;124;43m\"\u001b[39;49m\u001b[38;5;124;43m../../bot_result\u001b[39;49m\u001b[38;5;124;43m\"\u001b[39;49m\u001b[43m)\u001b[49m \u001b[38;5;66;03m# next to repo root\u001b[39;00m\n",
      "File \u001b[0;32m~/neon/bot-new-1/agent/core/interpolator.py:66\u001b[0m, in \u001b[0;36mInterpolator.bake\u001b[0;34m(self, application, output_dir, overwrite)\u001b[0m\n\u001b[1;32m     63\u001b[0m     f\u001b[38;5;241m.\u001b[39mwrite(application\u001b[38;5;241m.\u001b[39mtypespec\u001b[38;5;241m.\u001b[39mtypespec_definitions)\n\u001b[1;32m     65\u001b[0m \u001b[38;5;28;01mwith\u001b[39;00m \u001b[38;5;28mopen\u001b[39m(os\u001b[38;5;241m.\u001b[39mpath\u001b[38;5;241m.\u001b[39mjoin(output_dir, \u001b[38;5;124m\"\u001b[39m\u001b[38;5;124mapp_schema\u001b[39m\u001b[38;5;124m\"\u001b[39m, \u001b[38;5;124m\"\u001b[39m\u001b[38;5;124msrc\u001b[39m\u001b[38;5;124m\"\u001b[39m, \u001b[38;5;124m\"\u001b[39m\u001b[38;5;124mdb\u001b[39m\u001b[38;5;124m\"\u001b[39m, \u001b[38;5;124m\"\u001b[39m\u001b[38;5;124mschema\u001b[39m\u001b[38;5;124m\"\u001b[39m, \u001b[38;5;124m\"\u001b[39m\u001b[38;5;124mapplication.ts\u001b[39m\u001b[38;5;124m\"\u001b[39m), \u001b[38;5;124m\"\u001b[39m\u001b[38;5;124mw\u001b[39m\u001b[38;5;124m\"\u001b[39m) \u001b[38;5;28;01mas\u001b[39;00m f:\n\u001b[0;32m---> 66\u001b[0m     f\u001b[38;5;241m.\u001b[39mwrite(\u001b[43mapplication\u001b[49m\u001b[38;5;241;43m.\u001b[39;49m\u001b[43mdrizzle\u001b[49m\u001b[38;5;241;43m.\u001b[39;49m\u001b[43mdrizzle_schema\u001b[49m)\n\u001b[1;32m     68\u001b[0m \u001b[38;5;28;01mwith\u001b[39;00m \u001b[38;5;28mopen\u001b[39m(os\u001b[38;5;241m.\u001b[39mpath\u001b[38;5;241m.\u001b[39mjoin(output_dir, \u001b[38;5;124m\"\u001b[39m\u001b[38;5;124mapp_schema\u001b[39m\u001b[38;5;124m\"\u001b[39m, \u001b[38;5;124m\"\u001b[39m\u001b[38;5;124msrc\u001b[39m\u001b[38;5;124m\"\u001b[39m, \u001b[38;5;124m\"\u001b[39m\u001b[38;5;124mcommon\u001b[39m\u001b[38;5;124m\"\u001b[39m, \u001b[38;5;124m\"\u001b[39m\u001b[38;5;124mschema.ts\u001b[39m\u001b[38;5;124m\"\u001b[39m), \u001b[38;5;124m\"\u001b[39m\u001b[38;5;124mw\u001b[39m\u001b[38;5;124m\"\u001b[39m) \u001b[38;5;28;01mas\u001b[39;00m f:\n\u001b[1;32m     69\u001b[0m     f\u001b[38;5;241m.\u001b[39mwrite(application\u001b[38;5;241m.\u001b[39mtypescript_schema\u001b[38;5;241m.\u001b[39mtypescript_schema)\n",
      "\u001b[0;31mAttributeError\u001b[0m: 'NoneType' object has no attribute 'drizzle_schema'"
     ]
    }
   ],
   "source": []
  },
  {
   "cell_type": "code",
   "execution_count": null,
   "metadata": {},
   "outputs": [
    {
     "data": {
      "text/plain": [
       "{'refined_description': RefineOut(refined_description='model HelloOptions {\\n  name: string;\\n  style?: string;\\n}\\n\\nmodel GoodbyeOptions {\\n  name: string;\\n  style?: string;\\n}\\n\\ninterface GreetingBot {\\n  @scenario(\"\"\"\\n  Scenario: Saying hello to a person\\n  When user says \"Say hello to John\"\\n  Then system greets John\\n  \\n  Examples:\\n    | Input                     | Expected Output          |\\n    | \"Hello to Mary\"           | \"Hello, Mary!\"           |\\n    | \"Say hi to Bob formally\"  | \"Good day, Bob.\"         |\\n  \"\"\")\\n  @llm_func(\"Generate a greeting for a person\")\\n  sayHello(options: HelloOptions): void;\\n\\n  @scenario(\"\"\"\\n  Scenario: Saying goodbye to a person\\n  When user says \"Say goodbye to Sarah\"\\n  Then system says goodbye to Sarah\\n  \\n  Examples:\\n    | Input                       | Expected Output           |\\n    | \"Goodbye to Tom\"            | \"Goodbye, Tom!\"           |\\n    | \"Say bye to Lisa formally\"  | \"Farewell, Lisa.\"         |\\n  \"\"\")\\n  @llm_func(\"Generate a goodbye message for a person\")\\n  sayGoodbye(options: GoodbyeOptions): void;\\n}', error_output=None),\n",
       " 'capabilities': CapabilitiesOut(capabilities=['perplexity.web_search'], error_output=None),\n",
       " 'typespec': TypespecOut(reasoning='Imported from existing typespec', typespec_definitions='model HelloOptions {\\n  name: string;\\n  style?: string;\\n}\\n\\nmodel GoodbyeOptions {\\n  name: string;\\n  style?: string;\\n}\\n\\ninterface GreetingBot {\\n  @scenario(\"\"\"\\n  Scenario: Saying hello to a person\\n  When user says \"Say hello to John\"\\n  Then system greets John\\n  \\n  Examples:\\n    | Input                     | Expected Output          |\\n    | \"Hello to Mary\"           | \"Hello, Mary!\"           |\\n    | \"Say hi to Bob formally\"  | \"Good day, Bob.\"         |\\n  \"\"\")\\n  @llm_func(\"Generate a greeting for a person\")\\n  sayHello(options: HelloOptions): void;\\n\\n  @scenario(\"\"\"\\n  Scenario: Saying goodbye to a person\\n  When user says \"Say goodbye to Sarah\"\\n  Then system says goodbye to Sarah\\n  \\n  Examples:\\n    | Input                       | Expected Output           |\\n    | \"Goodbye to Tom\"            | \"Goodbye, Tom!\"           |\\n    | \"Say bye to Lisa formally\"  | \"Farewell, Lisa.\"         |\\n  \"\"\")\\n  @llm_func(\"Generate a goodbye message for a person\")\\n  sayGoodbye(options: GoodbyeOptions): void;\\n}', llm_functions=[LLMFunction(name='sayHello', description='Generate a greeting for a person', scenario='Scenario: Saying hello to a person\\n  When user says \"Say hello to John\"\\n  Then system greets John\\n  \\n  Examples:\\n    | Input                     | Expected Output          |\\n    | \"Hello to Mary\"           | \"Hello, Mary!\"           |\\n    | \"Say hi to Bob formally\"  | \"Good day, Bob.\"         |'), LLMFunction(name='sayGoodbye', description='Generate a goodbye message for a person', scenario='Scenario: Saying goodbye to a person\\n  When user says \"Say goodbye to Sarah\"\\n  Then system says goodbye to Sarah\\n  \\n  Examples:\\n    | Input                       | Expected Output           |\\n    | \"Goodbye to Tom\"            | \"Goodbye, Tom!\"           |\\n    | \"Say bye to Lisa formally\"  | \"Farewell, Lisa.\"         |')], error_output=None),\n",
       " 'drizzle': DrizzleOut(reasoning=\"Looking at the provided TypeSpec, the application involves a GreetingBot interface with two methods:\\n1. sayHello: Takes HelloOptions with name and optional style\\n2. sayGoodbye: Takes GoodbyeOptions with name and optional style\\n\\nBoth methods are annotated with @llm_func indicating they use LLM processing.\\n\\nFor the database schema, I need to consider:\\n- Storing user interactions with the greeting bot\\n- Keeping track of greetings/goodbyes generated\\n- Storing options used in the requests\\n\\nThe core entities would be:\\n1. Users - to track who is using the bot\\n2. Interactions - to log each interaction with the bot\\n3. Messages - to store the greetings/goodbyes generated\\n\\nSince this is a conversation system, I'll include timestamps for tracking when interactions occurred.\", drizzle_schema='import { pgTable, text, timestamp, integer, serial, pgEnum } from \"drizzle-orm/pg-core\";\\n\\n// Enum for interaction types\\nexport const interactionTypeEnum = pgEnum(\"interaction_type\", [\"hello\", \"goodbye\"]);\\n\\n// Enum for message styles\\nexport const styleEnum = pgEnum(\"style\", [\"default\", \"formal\", \"casual\", \"friendly\"]);\\n\\n// Users table\\nexport const usersTable = pgTable(\"users\", {\\n  id: text().primaryKey(),\\n  created_at: timestamp({ withTimezone: true }).defaultNow(),\\n  updated_at: timestamp({ withTimezone: true }).defaultNow()\\n});\\n\\n// Interactions table to track each request to the bot\\nexport const interactionsTable = pgTable(\"interactions\", {\\n  id: serial().primaryKey(),\\n  user_id: text().references(() => usersTable.id),\\n  type: interactionTypeEnum().notNull(),\\n  name: text().notNull(),\\n  style: styleEnum().default(\"default\"),\\n  created_at: timestamp({ withTimezone: true }).defaultNow()\\n});\\n\\n// Messages table to store bot responses\\nexport const messagesTable = pgTable(\"messages\", {\\n  id: serial().primaryKey(),\\n  interaction_id: integer().references(() => interactionsTable.id),\\n  content: text().notNull(),\\n  created_at: timestamp({ withTimezone: true }).defaultNow()\\n});', error_output=None),\n",
       " 'handlers': {'sayHello': HandlerOut(name='sayHello', handler='import { db } from \"../db\";\\nimport { interactionsTable, messagesTable } from \"../db/schema/application\";\\nimport type { HelloOptions } from \"../common/schema\";\\nimport { sayHello } from \"../common/schema\";\\n\\nexport const handle: typeof sayHello = async (options: HelloOptions): Promise<void> => {\\n    // Validate user input\\n    const { name, style = \"default\" } = options;\\n    \\n    // Validate name is not empty\\n    if (!name || name.trim() === \"\") {\\n        throw new Error(\"Name cannot be empty\");\\n    }\\n    \\n    // Validate style is one of the allowed values\\n    const validStyles = [\"default\", \"formal\", \"casual\", \"friendly\"];\\n    if (style && !validStyles.includes(style)) {\\n        throw new Error(`Invalid style: ${style}`);\\n    }\\n\\n    // Generate appropriate greeting message based on style\\n    let greeting: string;\\n    \\n    switch (style) {\\n        case \"formal\":\\n            greeting = `Good day, ${name}. It is a pleasure to make your acquaintance.`;\\n            break;\\n        case \"casual\":\\n            greeting = `Hey ${name}, what\\'s up?`;\\n            break;\\n        case \"friendly\":\\n            greeting = `Hi there ${name}! Great to see you!`;\\n            break;\\n        default:\\n            greeting = `Hello, ${name}!`;\\n    }\\n\\n    try {\\n        // Insert the interaction record\\n        const [interactionResult] = await db.insert(interactionsTable)\\n            .values({\\n                type: \"hello\",\\n                name: name,\\n                style: style as any, // Cast to any since we\\'ve validated it\\'s a valid style\\n            })\\n            .returning({ id: interactionsTable.id });\\n\\n        // Insert the message record with the generated greeting\\n        await db.insert(messagesTable)\\n            .values({\\n                interaction_id: interactionResult.id,\\n                content: greeting\\n            });\\n\\n        console.log(`Greeted ${name} with style: ${style}`);\\n    } catch (error) {\\n        console.error(\"Failed to record hello interaction:\", error);\\n        throw new Error(\"Failed to record hello interaction\");\\n    }\\n};', argument_schema='helloOptionsSchema', error_output=None),\n",
       "  'sayGoodbye': HandlerOut(name='sayGoodbye', handler='import { db } from \"../db\";\\nimport { sayGoodbye, type GoodbyeOptions } from \"../common/schema\";\\nimport { interactionsTable, messagesTable, interactionTypeEnum } from \"../db/schema/application\";\\n\\nexport const handle: typeof sayGoodbye = async (options: GoodbyeOptions): Promise<void> => {\\n    // Validate style before proceeding with any database operations\\n    const validStyles = [\"default\", \"formal\", \"casual\", \"friendly\"];\\n    if (options.style && !validStyles.includes(options.style)) {\\n        throw new Error(`Invalid style: ${options.style}. Valid styles are: ${validStyles.join(\", \")}`);\\n    }\\n    \\n    // Default to \"default\" style if not provided\\n    const style = options.style || \"default\";\\n    \\n    // Generate appropriate goodbye message based on style\\n    let goodbyeMessage: string;\\n    \\n    switch (style) {\\n        case \"formal\":\\n            goodbyeMessage = `Farewell, ${options.name}. It has been a pleasure.`;\\n            break;\\n        case \"casual\":\\n            goodbyeMessage = `See ya, ${options.name}!`;\\n            break;\\n        case \"friendly\":\\n            goodbyeMessage = `Goodbye for now, ${options.name}! Hope to see you again soon!`;\\n            break;\\n        default:\\n            goodbyeMessage = `Goodbye, ${options.name}!`;\\n            break;\\n    }\\n    \\n    // Start a transaction to ensure both records are created atomically\\n    await db.transaction(async (tx) => {\\n        // Record the interaction\\n        const [interaction] = await tx.insert(interactionsTable)\\n            .values({\\n                type: \"goodbye\",\\n                name: options.name,\\n                style: style as any, // Cast needed due to enum typing\\n                // user_id is optional in our implementation\\n            })\\n            .returning({ id: interactionsTable.id });\\n            \\n        // Store the goodbye message\\n        await tx.insert(messagesTable)\\n            .values({\\n                interaction_id: interaction.id,\\n                content: goodbyeMessage\\n            });\\n    });\\n};', argument_schema='goodbyeOptionsSchema', error_output=None)},\n",
       " 'handler_tests': {'sayHello': HandlerTestsOut(name='sayHello', content='\\nimport { afterEach, beforeEach, describe } from \"bun:test\";\\nimport { resetDB, createDB } from \"../../helpers\";\\nimport { expect, it, mock } from \"bun:test\";\\nimport { db } from \"../../db\";\\nimport { interactionsTable, messagesTable } from \"../../db/schema/application\";\\nimport { type HelloOptions } from \"../../common/schema\";\\nimport { eq } from \"drizzle-orm\";\\n\\nimport { handle as sayHello } from \"../../handlers/sayHello.ts\";\\n\\n\\ndescribe(\"\", () => {\\n    beforeEach(async () => {\\n        await createDB();\\n    });\\n\\n    afterEach(async () => {\\n        await resetDB();\\n    });\\n    \\n    \\n    it(\"should create an interaction with default style when style is not provided\", async () => {\\n      const options: HelloOptions = { name: \"John\" };\\n      \\n      await sayHello(options);\\n      \\n      const interactions = await db.select().from(interactionsTable).where(eq(interactionsTable.name, \"John\")).execute();\\n      \\n      expect(interactions).toHaveLength(1);\\n      expect(interactions[0].name).toEqual(\"John\");\\n      expect(interactions[0].type).toEqual(\"hello\");\\n      expect(interactions[0].style).toEqual(\"default\");\\n    });\\n\\n    \\n    \\n    it(\"should create an interaction with specified style when provided\", async () => {\\n      const options: HelloOptions = { name: \"Jane\", style: \"formal\" };\\n      \\n      await sayHello(options);\\n      \\n      const interactions = await db.select().from(interactionsTable).where(eq(interactionsTable.name, \"Jane\")).execute();\\n      \\n      expect(interactions).toHaveLength(1);\\n      expect(interactions[0].name).toEqual(\"Jane\");\\n      expect(interactions[0].type).toEqual(\"hello\");\\n      expect(interactions[0].style).toEqual(\"formal\");\\n    });\\n\\n    \\n    \\n    it(\"should create a corresponding message for the interaction\", async () => {\\n      const options: HelloOptions = { name: \"Alice\" };\\n      \\n      await sayHello(options);\\n      \\n      const interactions = await db.select().from(interactionsTable).where(eq(interactionsTable.name, \"Alice\")).execute();\\n      expect(interactions).toHaveLength(1);\\n      \\n      const messages = await db.select().from(messagesTable).where(eq(messagesTable.interaction_id, interactions[0].id)).execute();\\n      expect(messages).toHaveLength(1);\\n      expect(messages[0].content).toBeDefined();\\n    });\\n\\n    \\n    \\n    it(\"should throw an error when name is empty\", async () => {\\n      const options: HelloOptions = { name: \"\" };\\n      \\n      await expect(sayHello(options)).rejects.toThrow();\\n    });\\n\\n    \\n    \\n    it(\"should throw an error when invalid style is provided\", async () => {\\n      const options = { name: \"Bob\", style: \"invalid_style\" } as HelloOptions;\\n      \\n      await expect(sayHello(options)).rejects.toThrow();\\n    });\\n\\n    \\n});', error_output=None),\n",
       "  'sayGoodbye': HandlerTestsOut(name='sayGoodbye', content='\\nimport { afterEach, beforeEach, describe } from \"bun:test\";\\nimport { resetDB, createDB } from \"../../helpers\";\\nimport { expect, it, mock } from \"bun:test\";\\nimport { db } from \"../../db\";\\nimport { interactionsTable, messagesTable } from \"../../db/schema/application\";\\nimport { eq } from \"drizzle-orm\";\\nimport { type GoodbyeOptions } from \"../../common/schema\";\\n\\nimport { handle as sayGoodbye } from \"../../handlers/sayGoodbye.ts\";\\n\\n\\ndescribe(\"\", () => {\\n    beforeEach(async () => {\\n        await createDB();\\n    });\\n\\n    afterEach(async () => {\\n        await resetDB();\\n    });\\n    \\n    \\n    it(\"should create an interaction record with default style\", async () => {\\n      const options: GoodbyeOptions = { name: \"John\" };\\n      \\n      await sayGoodbye(options);\\n      \\n      const interactions = await db.select().from(interactionsTable).execute();\\n      expect(interactions).toHaveLength(1);\\n      expect(interactions[0].name).toEqual(\"John\");\\n      expect(interactions[0].type).toEqual(\"goodbye\");\\n      expect(interactions[0].style).toEqual(\"default\");\\n    });\\n\\n    \\n    \\n    it(\"should create an interaction record with specified style\", async () => {\\n      const options: GoodbyeOptions = { name: \"Jane\", style: \"formal\" };\\n      \\n      await sayGoodbye(options);\\n      \\n      const interactions = await db.select().from(interactionsTable).execute();\\n      expect(interactions).toHaveLength(1);\\n      expect(interactions[0].name).toEqual(\"Jane\");\\n      expect(interactions[0].type).toEqual(\"goodbye\");\\n      expect(interactions[0].style).toEqual(\"formal\");\\n    });\\n\\n    \\n    \\n    it(\"should create a message record linked to the interaction\", async () => {\\n      const options: GoodbyeOptions = { name: \"Bob\" };\\n      \\n      await sayGoodbye(options);\\n      \\n      const interactions = await db.select().from(interactionsTable).execute();\\n      const messages = await db\\n        .select()\\n        .from(messagesTable)\\n        .where(eq(messagesTable.interaction_id, interactions[0].id))\\n        .execute();\\n      \\n      expect(messages).toHaveLength(1);\\n      expect(messages[0].content).toBeTruthy();\\n    });\\n\\n    \\n    \\n    it(\"should handle different style parameters correctly\", async () => {\\n      const styles = [\"casual\", \"friendly\", \"formal\"];\\n      \\n      for (const style of styles) {\\n        await sayGoodbye({ name: \"TestUser\", style });\\n      }\\n      \\n      const interactions = await db.select().from(interactionsTable).execute();\\n      expect(interactions).toHaveLength(3);\\n      \\n      const styleResults = interactions.map(i => i.style);\\n      expect(styleResults).toContain(\"casual\");\\n      expect(styleResults).toContain(\"friendly\");\\n      expect(styleResults).toContain(\"formal\");\\n    });\\n\\n    \\n    \\n    it(\"should throw an error for invalid style values\", async () => {\\n      // TypeScript would catch this at compile time, but we\\'re testing runtime validation\\n      const options = { name: \"Alex\", style: \"invalid-style\" } as GoodbyeOptions;\\n      \\n      await expect(sayGoodbye(options)).rejects.toThrow();\\n    });\\n\\n    \\n    \\n    it(\"should not create database entries when validation fails\", async () => {\\n      const options = { name: \"\", style: \"formal\" } as GoodbyeOptions;\\n      \\n      try {\\n        await sayGoodbye(options);\\n      } catch (error) {\\n        // Expected to fail\\n        expect(error).toBeTruthy();\\n      }\\n      \\n      const interactions = await db.select().from(interactionsTable).execute();\\n      expect(interactions).toHaveLength(0);\\n    });\\n\\n    \\n});', error_output=None)},\n",
       " 'typescript_schema': TypescriptOut(reasoning=\"This TypeSpec defines a greeting application with two main operations:\\n1. Saying hello to a person with optional style settings\\n2. Saying goodbye to a person with optional style settings\\n\\nThe application has two main models:\\n- `HelloOptions` with a required name field and an optional style field\\n- `GoodbyeOptions` with a required name field and an optional style field\\n\\nThe interface `GreetingBot` defines two functions that use these models:\\n- `sayHello()` which takes HelloOptions and returns void\\n- `sayGoodbye()` which takes GoodbyeOptions and returns void\\n\\nBoth functions are annotated with scenario descriptions and LLM function decorators.\\n\\nFor the Zod TypeScript output, I'll define:\\n1. Zod schemas for both models\\n2. TypeScript type definitions derived from the schemas\\n3. Function declarations for both operations from the interface\", typescript_schema=\"import { z } from 'zod';\\n\\nexport const helloOptionsSchema = z.object({\\n  name: z.string(),\\n  style: z.string().optional(),\\n});\\n\\nexport type HelloOptions = z.infer<typeof helloOptionsSchema>;\\n\\nexport const goodbyeOptionsSchema = z.object({\\n  name: z.string(),\\n  style: z.string().optional(),\\n});\\n\\nexport type GoodbyeOptions = z.infer<typeof goodbyeOptionsSchema>;\\n\\nexport declare function sayHello(options: HelloOptions): Promise<void>;\\n\\nexport declare function sayGoodbye(options: GoodbyeOptions): Promise<void>;\", functions=[TypescriptFunction(name='sayHello', argument_type='HelloOptions', argument_schema='helloOptionsSchema', return_type='Promise<void>'), TypescriptFunction(name='sayGoodbye', argument_type='GoodbyeOptions', argument_schema='goodbyeOptionsSchema', return_type='Promise<void>')], error_output=None),\n",
       " 'gherkin': GherkinOut(reasoning=None, gherkin=None, error_output=None),\n",
       " 'trace_id': 'c21fa58d-d4cd-4a47-b574-64d7b16237b8'}"
      ]
     },
     "execution_count": 11,
     "metadata": {},
     "output_type": "execute_result"
    }
   ],
   "source": [
    "my_bot.__dict__"
   ]
  },
  {
   "cell_type": "code",
   "execution_count": null,
   "metadata": {},
   "outputs": [],
   "source": [
    "interpolator.bake(my_bot, \"../../bot_result\") # next to repo root"
   ]
  }
 ],
 "metadata": {
  "kernelspec": {
   "display_name": ".venv",
   "language": "python",
   "name": "python3"
  },
  "language_info": {
   "codemirror_mode": {
    "name": "ipython",
    "version": 3
   },
   "file_extension": ".py",
   "mimetype": "text/x-python",
   "name": "python",
   "nbconvert_exporter": "python",
   "pygments_lexer": "ipython3",
   "version": "3.12.3"
  }
 },
 "nbformat": 4,
 "nbformat_minor": 2
}

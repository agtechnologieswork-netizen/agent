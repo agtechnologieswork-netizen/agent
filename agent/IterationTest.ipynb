{
 "cells": [
  {
   "cell_type": "code",
   "execution_count": 1,
   "metadata": {},
   "outputs": [],
   "source": [
    "%load_ext autoreload\n",
    "%autoreload 2"
   ]
  },
  {
   "cell_type": "code",
   "execution_count": 2,
   "metadata": {},
   "outputs": [],
   "source": [
    "from anthropic import AnthropicBedrock\n",
    "from application import Application\n",
    "from compiler.core import Compiler\n",
    "from core.interpolator import Interpolator"
   ]
  },
  {
   "cell_type": "code",
   "execution_count": 3,
   "metadata": {},
   "outputs": [],
   "source": [
    "compiler = Compiler(\"botbuild/tsp_compiler\", \"botbuild/app_schema\")\n",
    "client = AnthropicBedrock(aws_profile=\"dev\", aws_region=\"us-west-2\")"
   ]
  },
  {
   "cell_type": "code",
   "execution_count": 4,
   "metadata": {},
   "outputs": [
    {
     "name": "stdout",
     "output_type": "stream",
     "text": [
      "Loaded environment variables from templates/app_schema/.env\n"
     ]
    }
   ],
   "source": [
    "import os\n",
    "from dotenv import load_dotenv\n",
    "env_path = \"templates/app_schema/.env\"\n",
    "if os.path.exists(env_path):\n",
    "    load_dotenv(env_path)\n",
    "    print(f\"Loaded environment variables from {env_path}\")"
   ]
  },
  {
   "cell_type": "code",
   "execution_count": 5,
   "metadata": {},
   "outputs": [],
   "source": [
    "application = Application(client, compiler)\n",
    "interpolator = Interpolator(\".\")"
   ]
  },
  {
   "cell_type": "code",
   "execution_count": 7,
   "metadata": {},
   "outputs": [],
   "source": [
    "from datetime import datetime\n",
    "from server import Prompt\n",
    "\n",
    "user_prompts = Prompt(\"\"\"Bot that says hello\"\"\".strip(), datetime.now(), \"user\")        "
   ]
  },
  {
   "cell_type": "code",
   "execution_count": 9,
   "metadata": {},
   "outputs": [
    {
     "name": "stdout",
     "output_type": "stream",
     "text": [
      "Compiling TypeSpec...\n"
     ]
    },
    {
     "data": {
      "text/plain": [
       "{'refined_description': None,\n",
       " 'capabilities': CapabilitiesOut(capabilities=['perplexity.web_search'], error_output=None),\n",
       " 'typespec': TypespecOut(reasoning='Based on the minimal user request \"Bot that says hello\", this appears to be a simple greeting bot that responds to user greetings. Since there\\'s very limited context, I\\'ll create a basic interface with just enough functionality to handle greetings.\\n\\nThe main function will be to greet the user, which would take input like user\\'s name and time of day to generate an appropriate greeting.\\n\\nPossible scenarios:\\n1. Basic greeting - User says \"hello\" and bot responds\\n2. Personalized greeting - User introduces themselves and bot greets them by name\\n3. Time-specific greeting - Bot uses time of day to say \"good morning\", \"good afternoon\", etc.\\n\\nI\\'ll create these models and interface with appropriate scenarios:', typespec_definitions='model GreetingOptions {\\n  userName?: string;\\n  timeOfDay?: string;\\n}\\n\\nmodel PersonalizedGreetingOptions {\\n  userName: string;\\n  preferredLanguage?: string;\\n}\\n\\ninterface GreetingBot {\\n  @scenario(\\n  \"\"\"\\n  Scenario: Basic greeting\\n  When user says \"hello\"\\n  Then system responds with a greeting\\n  \\n  Examples:\\n    | Input     | Expected Response   |\\n    | \"hi\"      | \"Hello there!\"      |\\n    | \"hello\"   | \"Hi there!\"         |\\n    | \"hey\"     | \"Hey! How are you?\" |\\n  \"\"\")\\n  @llm_func(\"Generate a simple greeting response\")\\n  greet(options: GreetingOptions): void;\\n  \\n  @scenario(\\n  \"\"\"\\n  Scenario: Personalized greeting\\n  When user says \"My name is John\"\\n  Then system greets the user by name\\n  \\n  Examples:\\n    | Input                | Expected Response    |\\n    | \"I\\'m Sarah\"          | \"Hello Sarah!\"       |\\n    | \"My name is Miguel\"  | \"Nice to meet you, Miguel!\" |\\n    | \"Call me Alex\"       | \"Hi Alex! How can I help you today?\" |\\n  \"\"\")\\n  @llm_func(\"Generate a personalized greeting using the user\\'s name\")\\n  greetPersonally(options: PersonalizedGreetingOptions): void;\\n  \\n  @scenario(\\n  \"\"\"\\n  Scenario: Time-specific greeting\\n  When user connects at a specific time of day\\n  Then system provides a time-appropriate greeting\\n  \\n  Examples:\\n    | Time of Day   | Expected Response       |\\n    | \"morning\"     | \"Good morning!\"         |\\n    | \"afternoon\"   | \"Good afternoon!\"       |\\n    | \"evening\"     | \"Good evening!\"         |\\n    | \"night\"       | \"Hello! Having a late night?\" |\\n  \"\"\")\\n  @llm_func(\"Generate a greeting appropriate for the time of day\")\\n  greetByTime(options: GreetingOptions): void;\\n}', llm_functions=[LLMFunction(name='greet', description='Generate a simple greeting response', scenario='Scenario: Basic greeting\\n  When user says \"hello\"\\n  Then system responds with a greeting\\n  \\n  Examples:\\n    | Input     | Expected Response   |\\n    | \"hi\"      | \"Hello there!\"      |\\n    | \"hello\"   | \"Hi there!\"         |\\n    | \"hey\"     | \"Hey! How are you?\" |'), LLMFunction(name='greetPersonally', description=\"Generate a personalized greeting using the user's name\", scenario='Scenario: Personalized greeting\\n  When user says \"My name is John\"\\n  Then system greets the user by name\\n  \\n  Examples:\\n    | Input                | Expected Response    |\\n    | \"I\\'m Sarah\"          | \"Hello Sarah!\"       |\\n    | \"My name is Miguel\"  | \"Nice to meet you, Miguel!\" |\\n    | \"Call me Alex\"       | \"Hi Alex! How can I help you today?\" |'), LLMFunction(name='greetByTime', description='Generate a greeting appropriate for the time of day', scenario='Scenario: Time-specific greeting\\n  When user connects at a specific time of day\\n  Then system provides a time-appropriate greeting\\n  \\n  Examples:\\n    | Time of Day   | Expected Response       |\\n    | \"morning\"     | \"Good morning!\"         |\\n    | \"afternoon\"   | \"Good afternoon!\"       |\\n    | \"evening\"     | \"Good evening!\"         |\\n    | \"night\"       | \"Hello! Having a late night?\" |')], error_output=None),\n",
       " 'drizzle': None,\n",
       " 'handlers': {},\n",
       " 'handler_tests': {},\n",
       " 'typescript_schema': None,\n",
       " 'gherkin': GherkinOut(reasoning=None, gherkin=None, error_output=None),\n",
       " 'trace_id': '7e4f0b7f-7ff3-4612-9c53-8ade492e34cb'}"
      ]
     },
     "execution_count": 9,
     "metadata": {},
     "output_type": "execute_result"
    }
   ],
   "source": [
    "\n",
    "my_bot = application.prepare_bot([user_prompts], bot_id=\"handler_tests\", capabilities=[\"perplexity.web_search\"])\n",
    "my_bot.__dict__"
   ]
  },
  {
   "cell_type": "code",
   "execution_count": null,
   "metadata": {},
   "outputs": [
    {
     "name": "stdout",
     "output_type": "stream",
     "text": [
      "Compiling TypeSpec...\n"
     ]
    }
   ],
   "source": [
    "my_bot = application.prepare_bot([user_prompts, Prompt(\"Add say goodbye\", datetime.now(), \"user\")], bot_id=\"handler_tests\", capabilities=[\"perplexity.web_search\"])\n",
    "my_bot.__dict__"
   ]
  },
  {
   "cell_type": "code",
   "execution_count": 12,
   "metadata": {},
   "outputs": [
    {
     "name": "stdout",
     "output_type": "stream",
     "text": [
      "Creating prompt from TypeSpec...\n",
      "Processing TypeSpec...\n",
      "Generating Typescript Schema...\n",
      "Generating Drizzle Schema...\n",
      "Generating Handler Tests...\n",
      "Generating Handlers...\n"
     ]
    }
   ],
   "source": [
    "my_bot = application.update_bot(\n",
    "    typespecSchema=my_bot.typespec.typespec_definitions, \n",
    "    bot_id=\"web_search_bot\", \n",
    "    capabilities=[\"perplexity.web_search\"]\n",
    ")"
   ]
  },
  {
   "cell_type": "code",
   "execution_count": 14,
   "metadata": {},
   "outputs": [],
   "source": [
    "interpolator.bake(my_bot, \"../../bot_result\") # next to repo root"
   ]
  },
  {
   "cell_type": "code",
   "execution_count": 15,
   "metadata": {},
   "outputs": [
    {
     "data": {
      "text/plain": [
       "{'refined_description': RefineOut(refined_description='model HelloRequest {\\n  name: string;\\n}\\n\\nmodel GoodbyeRequest {\\n  name: string;\\n}\\n\\ninterface GreetingBot {\\n  @scenario(\"\"\"\\n  Scenario: Basic greeting\\n  When the user says \"Hello\" or \"Hi\"\\n  Then the system should respond with a greeting\\n  \\n  Examples:\\n    | Input                 | Expected Name |\\n    | \"Hello\"               | undefined     |\\n    | \"Hi, I\\'m Jane\"        | \"Jane\"        |\\n    | \"Hello, my name is Bob\" | \"Bob\"      |\\n  \"\"\")\\n  @scenario(\"\"\"\\n  Scenario: Greeting with time of day\\n  When the user greets with a time reference\\n  Then the system should incorporate the time in response\\n  \\n  Examples:\\n    | Input                | Expected Greeting        |\\n    | \"Good morning\"       | Morning-specific greeting |\\n    | \"Hey, good evening\"  | Evening-specific greeting |\\n  \"\"\")\\n  @llm_func(\"Generate a personalized greeting based on user input\")\\n  sayHello(options: HelloRequest): void;\\n\\n  @scenario(\"\"\"\\n  Scenario: Basic farewell\\n  When the user says \"Goodbye\" or \"Bye\"\\n  Then the system should respond with a farewell message\\n  \\n  Examples:\\n    | Input                 | Expected Name |\\n    | \"Goodbye\"             | undefined     |\\n    | \"Bye, thanks!\"        | undefined     |\\n    | \"See you later\"       | undefined     |\\n  \"\"\")\\n  @scenario(\"\"\"\\n  Scenario: Personalized farewell\\n  When the user says goodbye with their name\\n  Then the system should include their name in the farewell\\n  \\n  Examples:\\n    | Input                      | Expected Name |\\n    | \"Goodbye from Jane\"        | \"Jane\"        |\\n    | \"Bob signing off now, bye\" | \"Bob\"         |\\n  \"\"\")\\n  @llm_func(\"Generate a personalized farewell message based on user input\")\\n  sayGoodbye(options: GoodbyeRequest): void;\\n}', error_output=None),\n",
       " 'capabilities': CapabilitiesOut(capabilities=['perplexity.web_search'], error_output=None),\n",
       " 'typespec': TypespecOut(reasoning='Imported from existing typespec', typespec_definitions='model HelloRequest {\\n  name: string;\\n}\\n\\nmodel GoodbyeRequest {\\n  name: string;\\n}\\n\\ninterface GreetingBot {\\n  @scenario(\"\"\"\\n  Scenario: Basic greeting\\n  When the user says \"Hello\" or \"Hi\"\\n  Then the system should respond with a greeting\\n  \\n  Examples:\\n    | Input                 | Expected Name |\\n    | \"Hello\"               | undefined     |\\n    | \"Hi, I\\'m Jane\"        | \"Jane\"        |\\n    | \"Hello, my name is Bob\" | \"Bob\"      |\\n  \"\"\")\\n  @scenario(\"\"\"\\n  Scenario: Greeting with time of day\\n  When the user greets with a time reference\\n  Then the system should incorporate the time in response\\n  \\n  Examples:\\n    | Input                | Expected Greeting        |\\n    | \"Good morning\"       | Morning-specific greeting |\\n    | \"Hey, good evening\"  | Evening-specific greeting |\\n  \"\"\")\\n  @llm_func(\"Generate a personalized greeting based on user input\")\\n  sayHello(options: HelloRequest): void;\\n\\n  @scenario(\"\"\"\\n  Scenario: Basic farewell\\n  When the user says \"Goodbye\" or \"Bye\"\\n  Then the system should respond with a farewell message\\n  \\n  Examples:\\n    | Input                 | Expected Name |\\n    | \"Goodbye\"             | undefined     |\\n    | \"Bye, thanks!\"        | undefined     |\\n    | \"See you later\"       | undefined     |\\n  \"\"\")\\n  @scenario(\"\"\"\\n  Scenario: Personalized farewell\\n  When the user says goodbye with their name\\n  Then the system should include their name in the farewell\\n  \\n  Examples:\\n    | Input                      | Expected Name |\\n    | \"Goodbye from Jane\"        | \"Jane\"        |\\n    | \"Bob signing off now, bye\" | \"Bob\"         |\\n  \"\"\")\\n  @llm_func(\"Generate a personalized farewell message based on user input\")\\n  sayGoodbye(options: GoodbyeRequest): void;\\n}', llm_functions=[LLMFunction(name='sayHello', description='Generate a personalized greeting based on user input', scenario='Scenario: Greeting with time of day\\n  When the user greets with a time reference\\n  Then the system should incorporate the time in response\\n  \\n  Examples:\\n    | Input                | Expected Greeting        |\\n    | \"Good morning\"       | Morning-specific greeting |\\n    | \"Hey, good evening\"  | Evening-specific greeting |'), LLMFunction(name='sayGoodbye', description='Generate a personalized farewell message based on user input', scenario='Scenario: Personalized farewell\\n  When the user says goodbye with their name\\n  Then the system should include their name in the farewell\\n  \\n  Examples:\\n    | Input                      | Expected Name |\\n    | \"Goodbye from Jane\"        | \"Jane\"        |\\n    | \"Bob signing off now, bye\" | \"Bob\"         |')], error_output=None),\n",
       " 'drizzle': DrizzleOut(reasoning=\"Looking at the provided TypeSpec, I can identify:\\n1. Two models: `HelloRequest` and `GoodbyeRequest`, both with a `name` property that is a string\\n2. An interface `GreetingBot` with two methods: `sayHello` and `sayGoodbye`\\n3. Scenarios that describe user interactions with the bot\\n\\nFor a database schema, we need tables to store:\\n- Users who interact with the bot (extracting names from requests)\\n- Conversation history (messages between users and the bot)\\n- Potentially tracking greetings and farewells separately\\n\\nSince this is a conversational application with a bot, I'll create:\\n- A users table to store identified users\\n- A messages table to track the conversation history (including greetings and farewells)\\n- An appropriate message type enum to distinguish between hello/goodbye messages\", drizzle_schema='import { integer, pgTable, pgEnum, text, timestamp, boolean, uuid } from \"drizzle-orm/pg-core\";\\n\\n// Define the role enum for messages\\nexport const messageRoleEnum = pgEnum(\"message_role\", [\"user\", \"bot\"]);\\n\\n// Define the message type enum to categorize interactions\\nexport const messageTypeEnum = pgEnum(\"message_type\", [\"hello\", \"goodbye\", \"other\"]);\\n\\n// Users table to store information about users who interact with the bot\\nexport const usersTable = pgTable(\"users\", {\\n  id: uuid(\"id\").primaryKey().defaultRandom(),\\n  name: text(\"name\"),\\n  created_at: timestamp(\"created_at\").defaultNow().notNull(),\\n  updated_at: timestamp(\"updated_at\").defaultNow().notNull()\\n});\\n\\n// Messages table to store conversation history\\nexport const messagesTable = pgTable(\"messages\", {\\n  id: uuid(\"id\").primaryKey().defaultRandom(),\\n  user_id: uuid(\"user_id\").references(() => usersTable.id),\\n  role: messageRoleEnum(\"role\").notNull(),\\n  message_type: messageTypeEnum(\"message_type\").default(\"other\").notNull(),\\n  content: text(\"content\").notNull(),\\n  time_reference: boolean(\"time_reference\").default(false),\\n  created_at: timestamp(\"created_at\").defaultNow().notNull()\\n});\\n\\n// Session table to group related messages together\\nexport const sessionsTable = pgTable(\"sessions\", {\\n  id: uuid(\"id\").primaryKey().defaultRandom(),\\n  user_id: uuid(\"user_id\").references(() => usersTable.id),\\n  started_at: timestamp(\"started_at\").defaultNow().notNull(),\\n  last_interaction: timestamp(\"last_interaction\").defaultNow().notNull()\\n});\\n\\n// Table linking messages to sessions\\nexport const sessionMessagesTable = pgTable(\"session_messages\", {\\n  id: uuid(\"id\").primaryKey().defaultRandom(),\\n  session_id: uuid(\"session_id\").references(() => sessionsTable.id).notNull(),\\n  message_id: uuid(\"message_id\").references(() => messagesTable.id).notNull()\\n});', error_output=None),\n",
       " 'handlers': {'sayGoodbye': HandlerOut(name='sayGoodbye', handler='import { db } from \"../db\";\\nimport { eq } from \"drizzle-orm\";\\nimport { sayGoodbye, type GoodbyeRequest } from \"../common/schema\";\\nimport { messagesTable, messageRoleEnum, messageTypeEnum, usersTable } from \"../db/schema/application\";\\n\\nexport const handle: typeof sayGoodbye = async (options: GoodbyeRequest): Promise<void> => {\\n    // Find or create user\\n    let userId;\\n\\n    // Check if user with this name already exists\\n    const existingUser = await db\\n        .select({ id: usersTable.id })\\n        .from(usersTable)\\n        .where(eq(usersTable.name, options.name))\\n        .limit(1);\\n\\n    if (existingUser.length > 0) {\\n        userId = existingUser[0].id;\\n    } else {\\n        // Create new user if not found\\n        const result = await db\\n            .insert(usersTable)\\n            .values({\\n                name: options.name,\\n            })\\n            .returning({ id: usersTable.id });\\n        \\n        userId = result[0].id;\\n    }\\n\\n    // Store the goodbye message in the messages table\\n    const goodbyeMessage = `Goodbye, ${options.name}! Have a nice day!`;\\n    \\n    await db\\n        .insert(messagesTable)\\n        .values({\\n            user_id: userId,\\n            role: \"bot\",\\n            message_type: \"goodbye\",\\n            content: goodbyeMessage,\\n            time_reference: false\\n        });\\n};', argument_schema='goodbyeRequestSchema', error_output=None),\n",
       "  'sayHello': HandlerOut(name='sayHello', handler='import { db } from \"../db\";\\nimport { eq } from \"drizzle-orm\";\\nimport { type HelloRequest, sayHello } from \"../common/schema\";\\nimport { messagesTable, usersTable } from \"../db/schema/application\";\\n\\nexport const handle: typeof sayHello = async (options: HelloRequest): Promise<void> => {\\n    // First, find or create a user with the given name\\n    const existingUsers = await db.select()\\n        .from(usersTable)\\n        .where(eq(usersTable.name, options.name))\\n        .limit(1);\\n    \\n    let userId;\\n    \\n    if (existingUsers.length === 0) {\\n        // Create a new user if one doesn\\'t exist\\n        const [newUser] = await db.insert(usersTable)\\n            .values({\\n                name: options.name,\\n            })\\n            .returning({ id: usersTable.id });\\n            \\n        userId = newUser.id;\\n    } else {\\n        userId = existingUsers[0].id;\\n    }\\n    \\n    // Store a single hello message in the messages table\\n    await db.insert(messagesTable)\\n        .values({\\n            user_id: userId,\\n            role: \"user\",\\n            message_type: \"hello\",\\n            content: `Hello, ${options.name}!`,\\n            created_at: new Date(),\\n        });\\n};', argument_schema='helloRequestSchema', error_output=None)},\n",
       " 'handler_tests': {'sayHello': HandlerTestsOut(name='sayHello', content='\\nimport { afterEach, beforeEach, describe } from \"bun:test\";\\nimport { resetDB, createDB } from \"../../helpers\";\\nimport { expect, it } from \"bun:test\";\\nimport { eq } from \"drizzle-orm\";\\nimport { db } from \"../../db\";\\nimport { messagesTable, usersTable } from \"../../db/schema/application\";\\nimport { type HelloRequest } from \"../../common/schema\";\\n\\nimport { handle as sayHello } from \"../../handlers/sayHello.ts\";\\n\\n\\ndescribe(\"\", () => {\\n    beforeEach(async () => {\\n        await createDB();\\n    });\\n\\n    afterEach(async () => {\\n        await resetDB();\\n    });\\n    \\n    \\n    it(\"should create a user when sayHello is called with a new name\", async () => {\\n      const input: HelloRequest = { name: \"John\" };\\n      \\n      await sayHello(input);\\n      \\n      const users = await db.select().from(usersTable).where(eq(usersTable.name, \"John\"));\\n      expect(users).toHaveLength(1);\\n      expect(users[0].name).toEqual(\"John\");\\n    });\\n\\n    \\n    \\n    it(\"should store a hello message in the messages table\", async () => {\\n      const input: HelloRequest = { name: \"Alice\" };\\n      \\n      await sayHello(input);\\n      \\n      const messages = await db.select().from(messagesTable).where(eq(messagesTable.message_type, \"hello\"));\\n      expect(messages).toHaveLength(1);\\n      expect(messages[0].role).toEqual(\"bot\");\\n      expect(messages[0].content).toContain(\"Alice\");\\n    });\\n\\n    \\n    \\n    it(\"should not create duplicate users when sayHello is called multiple times with the same name\", async () => {\\n      const input: HelloRequest = { name: \"Bob\" };\\n      \\n      await sayHello(input);\\n      await sayHello(input);\\n      \\n      const users = await db.select().from(usersTable).where(eq(usersTable.name, \"Bob\"));\\n      expect(users).toHaveLength(1);\\n    });\\n\\n    \\n    \\n    it(\"should handle empty name gracefully\", async () => {\\n      const input: HelloRequest = { name: \"\" };\\n      \\n      await sayHello(input);\\n      \\n      const messages = await db.select().from(messagesTable).where(eq(messagesTable.message_type, \"hello\"));\\n      expect(messages.length).toBeGreaterThan(0);\\n      // The last message should be our empty name greeting\\n      const latestMessage = messages[messages.length - 1];\\n      expect(latestMessage.role).toEqual(\"bot\");\\n    });\\n\\n    \\n    \\n    it(\"should create multiple messages for different users\", async () => {\\n      await sayHello({ name: \"User1\" });\\n      await sayHello({ name: \"User2\" });\\n      \\n      const users = await db.select().from(usersTable);\\n      expect(users).toHaveLength(2);\\n      \\n      const messages = await db.select().from(messagesTable).where(eq(messagesTable.message_type, \"hello\"));\\n      expect(messages).toHaveLength(2);\\n    });\\n\\n    \\n});', error_output=None),\n",
       "  'sayGoodbye': HandlerTestsOut(name='sayGoodbye', content='\\nimport { afterEach, beforeEach, describe } from \"bun:test\";\\nimport { resetDB, createDB } from \"../../helpers\";\\nimport { expect, it } from \"bun:test\";\\nimport { db } from \"../../db\";\\nimport { messagesTable, usersTable } from \"../../db/schema/application\";\\nimport { type GoodbyeRequest } from \"../../common/schema\";\\nimport { eq, and } from \"drizzle-orm\";\\n\\nimport { handle as sayGoodbye } from \"../../handlers/sayGoodbye.ts\";\\n\\n\\ndescribe(\"\", () => {\\n    beforeEach(async () => {\\n        await createDB();\\n    });\\n\\n    afterEach(async () => {\\n        await resetDB();\\n    });\\n    \\n    \\n    it(\"should store a goodbye message in the database\", async () => {\\n      const input: GoodbyeRequest = { name: \"Alice\" };\\n      await sayGoodbye(input);\\n      \\n      const messages = await db.select().from(messagesTable)\\n        .where(eq(messagesTable.message_type, \"goodbye\"))\\n        .execute();\\n      \\n      expect(messages).toHaveLength(1);\\n      expect(messages[0].content).toContain(\"Alice\");\\n      expect(messages[0].role).toBe(\"bot\");\\n      expect(messages[0].message_type).toBe(\"goodbye\");\\n    });\\n\\n    \\n    \\n    it(\"should create a user record if the user doesn\\'t exist\", async () => {\\n      const input: GoodbyeRequest = { name: \"Bob\" };\\n      await sayGoodbye(input);\\n      \\n      const users = await db.select().from(usersTable)\\n        .where(eq(usersTable.name, \"Bob\"))\\n        .execute();\\n      \\n      expect(users).toHaveLength(1);\\n      expect(users[0].name).toBe(\"Bob\");\\n    });\\n\\n    \\n    \\n    it(\"should handle empty name gracefully\", async () => {\\n      const input: GoodbyeRequest = { name: \"\" };\\n      await sayGoodbye(input);\\n      \\n      const messages = await db.select().from(messagesTable)\\n        .where(eq(messagesTable.message_type, \"goodbye\"))\\n        .execute();\\n      \\n      expect(messages).toHaveLength(1);\\n      expect(messages[0].content).toBeDefined();\\n      expect(messages[0].role).toBe(\"bot\");\\n    });\\n\\n    \\n    \\n    it(\"should associate the goodbye message with the correct user\", async () => {\\n      // First create a user\\n      const newUser = await db.insert(usersTable).values({ name: \"Charlie\" }).returning();\\n      const userId = newUser[0].id;\\n      \\n      const input: GoodbyeRequest = { name: \"Charlie\" };\\n      await sayGoodbye(input);\\n      \\n      const messages = await db.select().from(messagesTable)\\n        .where(and(\\n          eq(messagesTable.message_type, \"goodbye\"),\\n          eq(messagesTable.user_id, userId)\\n        ))\\n        .execute();\\n      \\n      expect(messages).toHaveLength(1);\\n      expect(messages[0].user_id).toBe(userId);\\n    });\\n\\n    \\n    \\n    it(\"should set time_reference to false in goodbye messages\", async () => {\\n      const input: GoodbyeRequest = { name: \"David\" };\\n      await sayGoodbye(input);\\n      \\n      const messages = await db.select().from(messagesTable)\\n        .where(eq(messagesTable.message_type, \"goodbye\"))\\n        .execute();\\n      \\n      expect(messages).toHaveLength(1);\\n      expect(messages[0].time_reference).toBe(false);\\n    });\\n\\n    \\n});', error_output=None)},\n",
       " 'typescript_schema': TypescriptOut(reasoning=\"The TypeSpec defines a greeting application with models and an interface:\\n1. It has two model types: HelloRequest and GoodbyeRequest, both with a 'name' string property.\\n2. The interface GreetingBot has two LLM functions:\\n   - sayHello: Takes a HelloRequest and returns void\\n   - sayGoodbye: Takes a GoodbyeRequest and returns void\\n3. Both functions have scenarios defined for how they should handle different user inputs.\\n\\nTo generate Zod TypeScript:\\n- I'll create Zod schemas for both request types\\n- I'll create corresponding TypeScript type definitions\\n- I'll declare the interface functions without implementation as requested\", typescript_schema=\"import { z } from 'zod';\\n\\nexport const helloRequestSchema = z.object({\\n  name: z.string(),\\n});\\n\\nexport type HelloRequest = z.infer<typeof helloRequestSchema>;\\n\\nexport const goodbyeRequestSchema = z.object({\\n  name: z.string(),\\n});\\n\\nexport type GoodbyeRequest = z.infer<typeof goodbyeRequestSchema>;\\n\\nexport declare function sayHello(options: HelloRequest): Promise<void>;\\n\\nexport declare function sayGoodbye(options: GoodbyeRequest): Promise<void>;\", functions=[TypescriptFunction(name='sayHello', argument_type='HelloRequest', argument_schema='helloRequestSchema', return_type='Promise<void>'), TypescriptFunction(name='sayGoodbye', argument_type='GoodbyeRequest', argument_schema='goodbyeRequestSchema', return_type='Promise<void>')], error_output=None),\n",
       " 'gherkin': GherkinOut(reasoning=None, gherkin=None, error_output=None),\n",
       " 'trace_id': '4ad6855d-f35c-42de-87d6-262afa93a704'}"
      ]
     },
     "execution_count": 15,
     "metadata": {},
     "output_type": "execute_result"
    }
   ],
   "source": [
    "my_bot.__dict__"
   ]
  },
  {
   "cell_type": "code",
   "execution_count": null,
   "metadata": {},
   "outputs": [],
   "source": []
  }
 ],
 "metadata": {
  "kernelspec": {
   "display_name": ".venv",
   "language": "python",
   "name": "python3"
  },
  "language_info": {
   "codemirror_mode": {
    "name": "ipython",
    "version": 3
   },
   "file_extension": ".py",
   "mimetype": "text/x-python",
   "name": "python",
   "nbconvert_exporter": "python",
   "pygments_lexer": "ipython3",
   "version": "3.12.3"
  }
 },
 "nbformat": 4,
 "nbformat_minor": 2
}

{
 "cells": [
  {
   "cell_type": "code",
   "execution_count": 1,
   "metadata": {},
   "outputs": [],
   "source": [
    "from langfuse import Langfuse\n",
    "from anthropic import AnthropicBedrock\n",
    "from compiler.core import Compiler\n",
    "from application import Application"
   ]
  },
  {
   "cell_type": "code",
   "execution_count": 2,
   "metadata": {},
   "outputs": [
    {
     "name": "stderr",
     "output_type": "stream",
     "text": [
      "Langfuse client is disabled since no public_key was provided as a parameter or environment variable 'LANGFUSE_PUBLIC_KEY'. See our docs: https://langfuse.com/docs/sdk/python/low-level-sdk#initialize-client\n"
     ]
    }
   ],
   "source": [
    "langfuse_client = Langfuse()\n",
    "compiler = Compiler(\"botbuild/tsp_compiler\", \"botbuild/app_schema\")\n",
    "m_claude = AnthropicBedrock(aws_profile=\"dev\", aws_region=\"us-west-2\")"
   ]
  },
  {
   "cell_type": "code",
   "execution_count": 3,
   "metadata": {},
   "outputs": [
    {
     "name": "stderr",
     "output_type": "stream",
     "text": [
      "Langfuse client is disabled since no public_key was provided as a parameter or environment variable 'LANGFUSE_PUBLIC_KEY'. See our docs: https://langfuse.com/docs/sdk/python/low-level-sdk#initialize-client\n"
     ]
    }
   ],
   "source": [
    "builder = Application(m_claude, compiler)"
   ]
  },
  {
   "cell_type": "code",
   "execution_count": 4,
   "metadata": {},
   "outputs": [
    {
     "name": "stdout",
     "output_type": "stream",
     "text": [
      "Processing transition: [] FsmState.TYPESPEC\n",
      "Processing transition: [<FsmState.TYPESPEC: 'typespec'>] FsmState.WAIT\n",
      "{'description': '', 'user_requests': ['bot that greets me by name'], 'typespec_schema': <fsm_core.typespec.Success object at 0x7fcc6c714a10>}\n"
     ]
    }
   ],
   "source": [
    "prepare_res = builder.prepare_bot([\"bot that greets me by name\"], bot_id=\"1337_420\", capabilities=[])"
   ]
  },
  {
   "cell_type": "code",
   "execution_count": 5,
   "metadata": {},
   "outputs": [
    {
     "data": {
      "text/plain": [
       "ApplicationPrepareOut(refined_description=RefineOut(refined_description='', error_output=None), capabilities=CapabilitiesOut(capabilities=[], error_output=None), typespec=TypespecOut(reasoning='Based on the chat history, I need to create a TypeSpec interface for a greeting bot that greets users by name. The bot should be able to:\\n\\n1. Greet a user by their name\\n2. Store and retrieve user information\\n3. Handle different greeting scenarios\\n\\nLet me define appropriate models and an interface:\\n- A model for user information (name)\\n- A model for greeting options\\n- An interface with functions to greet users\\n\\nSince we need to adhere to TypeSpec conventions and use the extended decorators, I\\'ll make sure each function:\\n- Has an @llm_func decorator with a concise description\\n- Has at least one @scenario decorator with Gherkin scenarios\\n- Takes a single \"options\" parameter that\\'s a model type', typespec_definitions='model UserInfo {\\n  name: string;\\n}\\n\\nmodel GreetingOptions {\\n  user: UserInfo;\\n  timeOfDay?: string;\\n  isReturningUser?: boolean;\\n}\\n\\nmodel StoreUserOptions {\\n  user: UserInfo;\\n}\\n\\nmodel GetUserOptions {\\n  name: string;\\n}\\n\\ninterface GreetingBot {\\n  @scenario(\"\"\"\\n  Scenario: Greeting a new user\\n  When user provides their name \"John\"\\n  Then system greets \"Hello, John! Nice to meet you.\"\\n  \"\"\")\\n  @scenario(\"\"\"\\n  Scenario: Greeting a user at specific time of day\\n  When user provides name \"Jane\" and time \"morning\"\\n  Then system greets \"Good morning, Jane!\"\\n  \"\"\")\\n  @scenario(\"\"\"\\n  Scenario: Greeting a returning user\\n  When returning user \"Alex\" connects\\n  Then system greets \"Welcome back, Alex!\"\\n  \"\"\")\\n  @llm_func(\"Greet a user by their name with appropriate greeting\")\\n  greetUser(options: GreetingOptions): string;\\n\\n  @scenario(\"\"\"\\n  Scenario: Storing user information\\n  When user information is provided with name \"Michael\"\\n  Then system stores the user information\\n  And confirms \"User information saved\"\\n  \"\"\")\\n  @llm_func(\"Store user information in the system\")\\n  storeUser(options: StoreUserOptions): void;\\n\\n  @scenario(\"\"\"\\n  Scenario: Retrieving user information\\n  When system is asked for user with name \"Sarah\"\\n  Then system retrieves user information for \"Sarah\"\\n  \"\"\")\\n  @scenario(\"\"\"\\n  Scenario: User not found\\n  When system is asked for user with name \"Unknown\"\\n  Then system returns null\\n  \"\"\")\\n  @llm_func(\"Retrieve stored user information by name\")\\n  getUser(options: GetUserOptions): UserInfo;\\n}', llm_functions=[LLMFunction(name='greetUser', description='Greet a user by their name with appropriate greeting', scenario='Scenario: Greeting a new user\\n  When user provides their name \"John\"\\n  Then system greets \"Hello, John! Nice to meet you.\"\\n  \"\"\")\\n  @scenario(\"\"\"\\n  Scenario: Greeting a user at specific time of day\\n  When user provides name \"Jane\" and time \"morning\"\\n  Then system greets \"Good morning, Jane!\"\\n  \"\"\")\\n  @scenario(\"\"\"\\n  Scenario: Greeting a returning user\\n  When returning user \"Alex\" connects\\n  Then system greets \"Welcome back, Alex!\"'), LLMFunction(name='storeUser', description='Store user information in the system', scenario='Scenario: Storing user information\\n  When user information is provided with name \"Michael\"\\n  Then system stores the user information\\n  And confirms \"User information saved\"'), LLMFunction(name='getUser', description='Retrieve stored user information by name', scenario='Scenario: Retrieving user information\\n  When system is asked for user with name \"Sarah\"\\n  Then system retrieves user information for \"Sarah\"\\n  \"\"\")\\n  @scenario(\"\"\"\\n  Scenario: User not found\\n  When system is asked for user with name \"Unknown\"\\n  Then system returns null')], error_output=None))"
      ]
     },
     "execution_count": 5,
     "metadata": {},
     "output_type": "execute_result"
    }
   ],
   "source": [
    "prepare_res"
   ]
  },
  {
   "cell_type": "code",
   "execution_count": 6,
   "metadata": {},
   "outputs": [
    {
     "data": {
      "text/plain": [
       "'model UserInfo {\\n  name: string;\\n}\\n\\nmodel GreetingOptions {\\n  user: UserInfo;\\n  timeOfDay?: string;\\n  isReturningUser?: boolean;\\n}\\n\\nmodel StoreUserOptions {\\n  user: UserInfo;\\n}\\n\\nmodel GetUserOptions {\\n  name: string;\\n}\\n\\ninterface GreetingBot {\\n  @scenario(\"\"\"\\n  Scenario: Greeting a new user\\n  When user provides their name \"John\"\\n  Then system greets \"Hello, John! Nice to meet you.\"\\n  \"\"\")\\n  @scenario(\"\"\"\\n  Scenario: Greeting a user at specific time of day\\n  When user provides name \"Jane\" and time \"morning\"\\n  Then system greets \"Good morning, Jane!\"\\n  \"\"\")\\n  @scenario(\"\"\"\\n  Scenario: Greeting a returning user\\n  When returning user \"Alex\" connects\\n  Then system greets \"Welcome back, Alex!\"\\n  \"\"\")\\n  @llm_func(\"Greet a user by their name with appropriate greeting\")\\n  greetUser(options: GreetingOptions): string;\\n\\n  @scenario(\"\"\"\\n  Scenario: Storing user information\\n  When user information is provided with name \"Michael\"\\n  Then system stores the user information\\n  And confirms \"User information saved\"\\n  \"\"\")\\n  @llm_func(\"Store user information in the system\")\\n  storeUser(options: StoreUserOptions): void;\\n\\n  @scenario(\"\"\"\\n  Scenario: Retrieving user information\\n  When system is asked for user with name \"Sarah\"\\n  Then system retrieves user information for \"Sarah\"\\n  \"\"\")\\n  @scenario(\"\"\"\\n  Scenario: User not found\\n  When system is asked for user with name \"Unknown\"\\n  Then system returns null\\n  \"\"\")\\n  @llm_func(\"Retrieve stored user information by name\")\\n  getUser(options: GetUserOptions): UserInfo;\\n}'"
      ]
     },
     "execution_count": 6,
     "metadata": {},
     "output_type": "execute_result"
    }
   ],
   "source": [
    "prepare_res.typespec.typespec_definitions"
   ]
  },
  {
   "cell_type": "code",
   "execution_count": 7,
   "metadata": {},
   "outputs": [],
   "source": [
    "reasoning = prepare_res.typespec.reasoning\n",
    "typespec_schema = prepare_res.typespec.typespec_definitions\n",
    "fake_msg = f\"<reasoning>{reasoning}</reasoning><typespec>{typespec_schema}</typespec>\""
   ]
  },
  {
   "cell_type": "code",
   "execution_count": 12,
   "metadata": {},
   "outputs": [
    {
     "name": "stdout",
     "output_type": "stream",
     "text": [
      "Typespec schema: <reasoning>Based on the chat history, I need to create a TypeSpec interface for a greeting bot that greets users by name. The bot should be able to:\n",
      "\n",
      "1. Greet a user by their name\n",
      "2. Store and retrieve user information\n",
      "3. Handle different greeting scenarios\n",
      "\n",
      "Let me define appropriate models and an interface:\n",
      "- A model for user information (name)\n",
      "- A model for greeting options\n",
      "- An interface with functions to greet users\n",
      "\n",
      "Since we need to adhere to TypeSpec conventions and use the extended decorators, I'll make sure each function:\n",
      "- Has an @llm_func decorator with a concise description\n",
      "- Has at least one @scenario decorator with Gherkin scenarios\n",
      "- Takes a single \"options\" parameter that's a model type</reasoning><typespec>model UserInfo {\n",
      "  name: string;\n",
      "}\n",
      "\n",
      "model GreetingOptions {\n",
      "  user: UserInfo;\n",
      "  timeOfDay?: string;\n",
      "  isReturningUser?: boolean;\n",
      "}\n",
      "\n",
      "model StoreUserOptions {\n",
      "  user: UserInfo;\n",
      "}\n",
      "\n",
      "model GetUserOptions {\n",
      "  name: string;\n",
      "}\n",
      "\n",
      "interface GreetingBot {\n",
      "  @scenario(\"\"\"\n",
      "  Scenario: Greeting a new user\n",
      "  When user provides their name \"John\"\n",
      "  Then system greets \"Hello, John! Nice to meet you.\"\n",
      "  \"\"\")\n",
      "  @scenario(\"\"\"\n",
      "  Scenario: Greeting a user at specific time of day\n",
      "  When user provides name \"Jane\" and time \"morning\"\n",
      "  Then system greets \"Good morning, Jane!\"\n",
      "  \"\"\")\n",
      "  @scenario(\"\"\"\n",
      "  Scenario: Greeting a returning user\n",
      "  When returning user \"Alex\" connects\n",
      "  Then system greets \"Welcome back, Alex!\"\n",
      "  \"\"\")\n",
      "  @llm_func(\"Greet a user by their name with appropriate greeting\")\n",
      "  greetUser(options: GreetingOptions): string;\n",
      "\n",
      "  @scenario(\"\"\"\n",
      "  Scenario: Storing user information\n",
      "  When user information is provided with name \"Michael\"\n",
      "  Then system stores the user information\n",
      "  And confirms \"User information saved\"\n",
      "  \"\"\")\n",
      "  @llm_func(\"Store user information in the system\")\n",
      "  storeUser(options: StoreUserOptions): void;\n",
      "\n",
      "  @scenario(\"\"\"\n",
      "  Scenario: Retrieving user information\n",
      "  When system is asked for user with name \"Sarah\"\n",
      "  Then system retrieves user information for \"Sarah\"\n",
      "  \"\"\")\n",
      "  @scenario(\"\"\"\n",
      "  Scenario: User not found\n",
      "  When system is asked for user with name \"Unknown\"\n",
      "  Then system returns null\n",
      "  \"\"\")\n",
      "  @llm_func(\"Retrieve stored user information by name\")\n",
      "  getUser(options: GetUserOptions): UserInfo;\n",
      "}</typespec>\n",
      "Processing transition: [] FsmState.TYPESPEC\n",
      "Processing transition: [<FsmState.TYPESPEC: 'typespec'>] FsmState.FAILURE\n"
     ]
    }
   ],
   "source": [
    "final_res = builder.update_bot(\n",
    "    typespec_schema=fake_msg,\n",
    "    user_requests=[\"bot that greets user by name\", \"bot that greets me by surname and age\"],\n",
    "    bot_id=\"1337_420\",\n",
    "    capabilities=[],\n",
    ")"
   ]
  },
  {
   "cell_type": "code",
   "execution_count": 10,
   "metadata": {},
   "outputs": [
    {
     "data": {
      "text/plain": [
       "ApplicationOut(refined_description=RefineOut(refined_description='', error_output=None), capabilities=CapabilitiesOut(capabilities=[], error_output=None), typespec=TypespecOut(reasoning=\"Based on the conversation, the user wants a bot that greets them by surname and age. This would require the bot to:\\n1. Store or retrieve the user's surname and age\\n2. Generate a greeting using this information\\n3. Potentially update this information if it changes\\n\\nSo I'll create an interface with functions to:\\n- Set/update user information (surname and age)\\n- Generate a personalized greeting using the stored information\\n- Retrieve the stored user information\\n\\nThe models needed would be:\\n- UserInfo: to store surname and age\\n- GreetingOptions: for any customization of the greeting\\n\\nEach function will have appropriate @llm_func descriptions and @scenario decorators to illustrate usage.\", typespec_definitions='model UserInfo {\\n  surname: string;\\n  age: integer;\\n}\\n\\nmodel GreetingOptions {\\n  timeOfDay?: string;\\n  formal?: boolean;\\n}\\n\\nmodel RetrieveUserInfoRequest {\\n  includeHistory?: boolean;\\n}\\n\\ninterface GreetingBot {\\n  @scenario(\"\"\"\\n  Scenario: Setting user information\\n  When the user says \"My surname is Smith and I am 35 years old\"\\n  Then the system should extract:\\n    - surname: \"Smith\"\\n    - age: 35\\n  And store this information for future greetings\\n  \\n  Examples:\\n    | Input                                     | Expected Extraction       |\\n    | \"My last name is Johnson and I\\'m 42\"      | surname: \"Johnson\", age: 42 |\\n    | \"I\\'m 29 and my surname is Williams\"       | surname: \"Williams\", age: 29 |\\n  \"\"\")\\n  @llm_func(\"Store user\\'s surname and age information for personalized greetings\")\\n  setUserInfo(options: UserInfo): void;\\n  \\n  @scenario(\"\"\"\\n  Scenario: Generate personalized greeting\\n  When the user asks \"Greet me\"\\n  Then the system should use stored surname and age information\\n  And respond with a personalized greeting like \"Good morning, Mr. Smith! How are you doing at the age of 35?\"\\n  \\n  Scenario: Generate greeting with time of day\\n  When the user asks \"Greet me in the evening\"\\n  Then the system should generate an evening-appropriate greeting\\n  And include the surname and age in the response\\n  \\n  Scenario: Generate formal greeting\\n  When the user requests \"I need a formal greeting\"\\n  Then the system should use more formal language in the greeting\\n  And still include the surname and age information\\n  \"\"\")\\n  @llm_func(\"Generate a personalized greeting using stored surname and age\")\\n  generateGreeting(options: GreetingOptions): string;\\n  \\n  @scenario(\"\"\"\\n  Scenario: Retrieve user information\\n  When the user asks \"What information do you have about me?\"\\n  Then the system should return the stored surname and age\\n  \\n  Scenario: Retrieve detailed user information history\\n  When the user asks \"Show me the history of my information\"\\n  Then the system should return current and previous surname and age values\\n  With timestamps of when they were updated\\n  \"\"\")\\n  @llm_func(\"Retrieve stored user information including surname and age\")\\n  retrieveUserInfo(options: RetrieveUserInfoRequest): UserInfo;\\n}', llm_functions=[LLMFunction(name='setUserInfo', description=\"Store user's surname and age information for personalized greetings\", scenario='Scenario: Setting user information\\n  When the user says \"My surname is Smith and I am 35 years old\"\\n  Then the system should extract:\\n    - surname: \"Smith\"\\n    - age: 35\\n  And store this information for future greetings\\n  \\n  Examples:\\n    | Input                                     | Expected Extraction       |\\n    | \"My last name is Johnson and I\\'m 42\"      | surname: \"Johnson\", age: 42 |\\n    | \"I\\'m 29 and my surname is Williams\"       | surname: \"Williams\", age: 29 |'), LLMFunction(name='generateGreeting', description='Generate a personalized greeting using stored surname and age', scenario='Scenario: Generate personalized greeting\\n  When the user asks \"Greet me\"\\n  Then the system should use stored surname and age information\\n  And respond with a personalized greeting like \"Good morning, Mr. Smith! How are you doing at the age of 35?\"\\n  \\n  Scenario: Generate greeting with time of day\\n  When the user asks \"Greet me in the evening\"\\n  Then the system should generate an evening-appropriate greeting\\n  And include the surname and age in the response\\n  \\n  Scenario: Generate formal greeting\\n  When the user requests \"I need a formal greeting\"\\n  Then the system should use more formal language in the greeting\\n  And still include the surname and age information'), LLMFunction(name='retrieveUserInfo', description='Retrieve stored user information including surname and age', scenario='Scenario: Retrieve user information\\n  When the user asks \"What information do you have about me?\"\\n  Then the system should return the stored surname and age\\n  \\n  Scenario: Retrieve detailed user information history\\n  When the user asks \"Show me the history of my information\"\\n  Then the system should return current and previous surname and age values\\n  With timestamps of when they were updated')], error_output=None), drizzle=DrizzleOut(reasoning=None, drizzle_schema=None, error_output=None), handlers={}, handler_tests={}, typescript_schema=None, gherkin=GherkinOut(reasoning=None, gherkin=None, error_output=None), trace_id='0abc276428964026a75243add49be362')"
      ]
     },
     "execution_count": 10,
     "metadata": {},
     "output_type": "execute_result"
    }
   ],
   "source": [
    "final_res"
   ]
  },
  {
   "cell_type": "markdown",
   "metadata": {},
   "source": []
  },
  {
   "cell_type": "code",
   "execution_count": null,
   "metadata": {},
   "outputs": [],
   "source": [
    "from core.interpolator import Interpolator\n",
    "\n",
    "import os\n",
    "\n",
    "# Create the botbuild directory if it doesn't exist\n",
    "if not os.path.exists(\"../botbuild\"):\n",
    "    os.makedirs(\"../botbuild\")\n",
    "\n",
    "interpolator = Interpolator(\".\")\n",
    "\n",
    "interpolator.bake(final_res, \"../../bot_result\")\n"
   ]
  },
  {
   "cell_type": "code",
   "execution_count": null,
   "metadata": {},
   "outputs": [],
   "source": []
  }
 ],
 "metadata": {
  "kernelspec": {
   "display_name": ".venv",
   "language": "python",
   "name": "python3"
  },
  "language_info": {
   "codemirror_mode": {
    "name": "ipython",
    "version": 3
   },
   "file_extension": ".py",
   "mimetype": "text/x-python",
   "name": "python",
   "nbconvert_exporter": "python",
   "pygments_lexer": "ipython3",
   "version": "3.12.3"
  }
 },
 "nbformat": 4,
 "nbformat_minor": 2
}

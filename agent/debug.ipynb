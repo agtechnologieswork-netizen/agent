{
 "cells": [
  {
   "cell_type": "code",
   "execution_count": null,
   "metadata": {},
   "outputs": [],
   "source": []
  },
  {
   "cell_type": "code",
   "execution_count": 1,
   "metadata": {},
   "outputs": [],
   "source": [
    "from anthropic import AnthropicBedrock\n",
    "from application import Application\n",
    "from compiler.core import Compiler\n",
    "import tempfile\n",
    "from tracing_client import TracingClient\n",
    "\n",
    "compiler = Compiler(\"botbuild/tsp_compiler\", \"botbuild/app_schema\")\n",
    "client = AnthropicBedrock(aws_profile=\"dev\", aws_region=\"us-west-2\")\n",
    "loggingclient = TracingClient(client)\n",
    "\n"
   ]
  },
  {
   "cell_type": "code",
   "execution_count": 2,
   "metadata": {},
   "outputs": [],
   "source": [
    "tempdir = tempfile.TemporaryDirectory()\n",
    "application = Application(client, compiler, \"templates\", tempdir.name)"
   ]
  },
  {
   "cell_type": "code",
   "execution_count": 3,
   "metadata": {},
   "outputs": [],
   "source": [
    "application_description = \"\"\"\n",
    "generate a hello bot \n",
    "\"\"\".strip()"
   ]
  },
  {
   "cell_type": "code",
   "execution_count": 4,
   "metadata": {},
   "outputs": [
    {
     "name": "stderr",
     "output_type": "stream",
     "text": [
      "Langfuse client is disabled since no public_key was provided as a parameter or environment variable 'LANGFUSE_PUBLIC_KEY'. See our docs: https://langfuse.com/docs/sdk/python/low-level-sdk#initialize-client\n"
     ]
    },
    {
     "data": {
      "text/plain": [
       "TypespecOut(reasoning='For a hello bot, I expect simple greeting interactions where the bot responds to users. The main functionality would be:\\n1. Greeting users with customizable message\\n2. Storing user preferences for greetings\\n3. Basic user recognition\\n\\nThe LLM can extract:\\n\"Hi, I\\'m John\" -> setUser({name: \"John\"})\\n\"Set my greeting to Good morning!\" -> setGreeting({message: \"Good morning\"})\\n\"Hello\" -> greetUser() // LLM will use stored context about the user\\n\\nThe interface should be simple but allow for personalization.', typespec_definitions='model UserInfo {\\n    name: string;\\n    preferredGreeting: string;\\n    lastGreeted: utcDateTime;\\n}\\n\\nmodel GreetingMessage {\\n    message: string;\\n}\\n\\ninterface HelloBot {\\n    @llm_func(1)\\n    setUser(user: UserInfo): void;\\n\\n    @llm_func(1)\\n    setGreeting(greeting: GreetingMessage): void;\\n\\n    @llm_func(2)\\n    greetUser(): string;\\n}', llm_functions=['setUser', 'setGreeting', 'greetUser'], error_output=None)"
      ]
     },
     "execution_count": 4,
     "metadata": {},
     "output_type": "execute_result"
    }
   ],
   "source": [
    "typespec = application._make_typespec(application_description)\n",
    "typespec"
   ]
  },
  {
   "cell_type": "code",
   "execution_count": 5,
   "metadata": {},
   "outputs": [
    {
     "data": {
      "text/plain": [
       "TypescriptOut(reasoning=\"Based on the TypeSpec models and interface:\\n1. We need to create UserInfo type with string and date fields\\n2. GreetingMessage type with a message field\\n3. HelloBot interface with three methods marked as LLM functions\\n4. For TypeScript, we'll use Date object for utcDateTime\\n5. The interface methods should match the TypeSpec definitions\", typescript_schema='export interface UserInfo {\\n    name: string;\\n    preferredGreeting: string;\\n    lastGreeted: Date;\\n}\\n\\nexport interface GreetingMessage {\\n    message: string;\\n}\\n\\nexport interface HelloBot {\\n    setUser(user: UserInfo): void;\\n    setGreeting(greeting: GreetingMessage): void;\\n    greetUser(): string;\\n}', type_names=['UserInfo', 'GreetingMessage', 'HelloBot'], error_output=None)"
      ]
     },
     "execution_count": 5,
     "metadata": {},
     "output_type": "execute_result"
    }
   ],
   "source": [
    "typescript_schema = application._make_typescript_schema(typespec.typespec_definitions)\n",
    "typescript_schema"
   ]
  },
  {
   "cell_type": "code",
   "execution_count": 6,
   "metadata": {},
   "outputs": [
    {
     "data": {
      "text/plain": [
       "'I\\'ll analyze the TypeSpec models and interfaces to generate an appropriate Drizzle schema, taking into account the existing tables and following best practices.\\n\\n<reasoning>\\nThe TypeSpec defines:\\n1. UserInfo model with name, preferred greeting, and last greeted timestamp\\n2. GreetingMessage model with just a message field\\n3. HelloBot interface that manages user greetings\\n\\nWe need to create tables for:\\n- UserInfo (extending existing users table)\\n- GreetingMessage (for storing greeting templates)\\n- We can use the existing messages table for interaction history\\n</reasoning>\\n\\n<drizzle>\\nimport { pgTable, text, timestamp, varchar } from \"drizzle-orm/pg-core\";\\nimport { usersTable } from \"./common\";\\nimport { relations } from \"drizzle-orm\";\\n\\n// Extend user information\\nexport const userInfoTable = pgTable(\"user_info\", {\\n  userId: text(\"user_id\")\\n    .primaryKey()\\n    .references(() => usersTable.id),\\n  name: varchar(\"name\", { length: 255 }).notNull(),\\n  preferredGreeting: text(\"preferred_greeting\").notNull(),\\n  lastGreeted: timestamp(\"last_greeted\", { withTimezone: true }).notNull(),\\n});\\n\\n// Store greeting templates\\nexport const greetingTemplatesTable = pgTable(\"greeting_templates\", {\\n  id: text(\"id\").primaryKey().defaultRandom(),\\n  message: text(\"message\").notNull(),\\n  createdAt: timestamp(\"created_at\", { withTimezone: true })\\n    .defaultNow()\\n    .notNull(),\\n});\\n\\n// Define relationships\\nexport const userInfoRelations = relations(userInfoTable, ({ one }) => ({\\n  user: one(usersTable, {\\n    fields: [userInfoTable.userId],\\n    references: [usersTable.id],\\n  }),\\n}));\\n\\n// Create indexes for frequently accessed columns\\nexport const userInfoNameIndex = pgIndex(\"user_info_name_idx\", userInfoTable.name);\\nexport const userInfoLastGreetedIndex = pgIndex(\\n  \"user_info_last_greeted_idx\",\\n  userInfoTable.lastGreeted\\n);\\n</drizzle>\\n\\nThis schema:\\n1. Extends the existing users table with additional user information\\n2. Creates a separate table for greeting templates\\n3. Establishes proper relationships between tables\\n4. Includes appropriate indexes for performance\\n5. Uses appropriate data types and constraints\\n6. Follows PostgreSQL best practices\\n7. Can work alongside existing tables (users and messages)\\n\\nThe schema allows for:\\n- Storing user preferences and greeting history\\n- Managing greeting templates\\n- Efficient querying of user information\\n- Maintaining data integrity through relationships and constraints'"
      ]
     },
     "execution_count": 6,
     "metadata": {},
     "output_type": "execute_result"
    }
   ],
   "source": [
    "\n",
    "from policies import drizzle\n",
    "\n",
    "jinja_env= application.jinja_env\n",
    "content = jinja_env.from_string(drizzle.PROMPT).render(typespec_definitions=typespec.typespec_definitions)\n",
    "message = {\"role\": \"user\", \"content\": content}\n",
    "\n",
    "drizzle_client = TracingClient(client) \n",
    "response = drizzle_client.call_anthropic(\n",
    "            model=\"anthropic.claude-3-5-sonnet-20241022-v2:0\",\n",
    "            max_tokens=8192,\n",
    "            messages=[message],\n",
    "        )\n",
    "response.content[0].text"
   ]
  },
  {
   "cell_type": "code",
   "execution_count": 7,
   "metadata": {},
   "outputs": [
    {
     "data": {
      "text/plain": [
       "('The TypeSpec defines:\\n1. UserInfo model with name, preferred greeting, and last greeted timestamp\\n2. GreetingMessage model with just a message field\\n3. HelloBot interface that manages user greetings\\n\\nWe need to create tables for:\\n- UserInfo (extending existing users table)\\n- GreetingMessage (for storing greeting templates)\\n- We can use the existing messages table for interaction history',\n",
       " 'import { pgTable, text, timestamp, varchar } from \"drizzle-orm/pg-core\";\\nimport { usersTable } from \"./common\";\\nimport { relations } from \"drizzle-orm\";\\n\\n// Extend user information\\nexport const userInfoTable = pgTable(\"user_info\", {\\n  userId: text(\"user_id\")\\n    .primaryKey()\\n    .references(() => usersTable.id),\\n  name: varchar(\"name\", { length: 255 }).notNull(),\\n  preferredGreeting: text(\"preferred_greeting\").notNull(),\\n  lastGreeted: timestamp(\"last_greeted\", { withTimezone: true }).notNull(),\\n});\\n\\n// Store greeting templates\\nexport const greetingTemplatesTable = pgTable(\"greeting_templates\", {\\n  id: text(\"id\").primaryKey().defaultRandom(),\\n  message: text(\"message\").notNull(),\\n  createdAt: timestamp(\"created_at\", { withTimezone: true })\\n    .defaultNow()\\n    .notNull(),\\n});\\n\\n// Define relationships\\nexport const userInfoRelations = relations(userInfoTable, ({ one }) => ({\\n  user: one(usersTable, {\\n    fields: [userInfoTable.userId],\\n    references: [usersTable.id],\\n  }),\\n}));\\n\\n// Create indexes for frequently accessed columns\\nexport const userInfoNameIndex = pgIndex(\"user_info_name_idx\", userInfoTable.name);\\nexport const userInfoLastGreetedIndex = pgIndex(\\n  \"user_info_last_greeted_idx\",\\n  userInfoTable.lastGreeted\\n);')"
      ]
     },
     "execution_count": 7,
     "metadata": {},
     "output_type": "execute_result"
    }
   ],
   "source": [
    "from policies.drizzle import DrizzleTaskNode\n",
    "\n",
    "reasoning, drizzle_schema = DrizzleTaskNode.parse_output(response.content[0].text)\n",
    "reasoning, drizzle_schema\n"
   ]
  },
  {
   "cell_type": "code",
   "execution_count": 8,
   "metadata": {},
   "outputs": [
    {
     "data": {
      "text/plain": [
       "{'exit_code': 0,\n",
       " 'stdout': \"Reading config file '/app/drizzle.config.ts'\\nUsing 'pg' driver for database querying\\nsrc:\\ncommon\\ndb\\nhandlers\\nhelpers\\nlogic\\nmain.ts\\ntests\\n\\nsrc/common:\\ncrud.ts\\nhandler.ts\\nindex.ts\\nllm.ts\\nschema.ts\\n\\nsrc/db:\\nindex.ts\\nschema\\n\\nsrc/db/schema:\\napplication.ts\\ncommon.ts\\n\\nsrc/handlers:\\ndummy_handler.ts\\n\\nsrc/helpers:\\nreset.ts\\n\\nsrc/logic:\\nindex.ts\\nrouter.ts\\n\\nsrc/tests:\\nfeatures\\nhandlers\\n\\nsrc/tests/features:\\napplication.feature\\n\\nsrc/tests/handlers:\\ndummy_handler.test.ts\\n\",\n",
       " 'stderr': 'TypeError: (0 , import_pg_core.text)(...).primaryKey(...).defaultRandom is not a function\\n    at Object.<anonymous> (/app/src/db/schema/application.ts:17:31)\\n    at Module._compile (node:internal/modules/cjs/loader:1267:14)\\n    at Module._compile (/app/node_modules/drizzle-kit/bin.cjs:13803:30)\\n    at Module._extensions..js (node:internal/modules/cjs/loader:1321:10)\\n    at Object.newLoader [as .ts] (/app/node_modules/drizzle-kit/bin.cjs:13807:13)\\n    at Module.load (node:internal/modules/cjs/loader:1125:32)\\n    at Module._load (node:internal/modules/cjs/loader:965:12)\\n    at Module.require (node:internal/modules/cjs/loader:1149:19)\\n    at require (node:internal/modules/helpers:121:18)\\n    at prepareFromPgImports (/app/node_modules/drizzle-kit/bin.cjs:17939:20)\\n'}"
      ]
     },
     "execution_count": 8,
     "metadata": {},
     "output_type": "execute_result"
    }
   ],
   "source": [
    "\n",
    "drizzle_compiler = application.compiler\n",
    "feedback = drizzle_compiler.compile_drizzle(drizzle_schema)\n",
    "feedback"
   ]
  },
  {
   "cell_type": "code",
   "execution_count": 9,
   "metadata": {},
   "outputs": [],
   "source": [
    "dz = application._make_drizzle(typespec.typespec_definitions)\n",
    "dz"
   ]
  }
 ],
 "metadata": {
  "kernelspec": {
   "display_name": ".venv",
   "language": "python",
   "name": "python3"
  },
  "language_info": {
   "codemirror_mode": {
    "name": "ipython",
    "version": 3
   },
   "file_extension": ".py",
   "mimetype": "text/x-python",
   "name": "python",
   "nbconvert_exporter": "python",
   "pygments_lexer": "ipython3",
   "version": "3.12.3"
  }
 },
 "nbformat": 4,
 "nbformat_minor": 2
}

{
 "cells": [
  {
   "cell_type": "code",
   "execution_count": 1,
   "metadata": {},
   "outputs": [],
   "source": [
    "from langfuse import Langfuse\n",
    "from fsm_core.llm_common import get_sync_client\n",
    "from compiler.core import Compiler\n",
    "from application import Application"
   ]
  },
  {
   "cell_type": "code",
   "execution_count": 2,
   "metadata": {},
   "outputs": [
    {
     "name": "stderr",
     "output_type": "stream",
     "text": [
      "Langfuse client is disabled since no public_key was provided as a parameter or environment variable 'LANGFUSE_PUBLIC_KEY'. See our docs: https://langfuse.com/docs/sdk/python/low-level-sdk#initialize-client\n"
     ]
    }
   ],
   "source": [
    "langfuse_client = Langfuse()\n",
    "compiler = Compiler(\"botbuild/tsp_compiler\", \"botbuild/app_schema\")\n",
    "m_client = get_sync_client(\"bedrock\", client_params={\"aws_profile\":\"dev\", \"aws_region\": \"us-west-2\"})"
   ]
  },
  {
   "cell_type": "code",
   "execution_count": null,
   "metadata": {},
   "outputs": [],
   "source": [
    "from agent.application import InteractionMode\n",
    "builder = Application(m_client, compiler, interaction_mode=InteractionMode.INTERACTIVE)"
   ]
  },
  {
   "cell_type": "code",
   "execution_count": 4,
   "metadata": {},
   "outputs": [],
   "source": [
    "prepare_res = builder.prepare_bot([\"bot that greets me by name\"], bot_id=\"1337_420\", capabilities=[])"
   ]
  },
  {
   "cell_type": "code",
   "execution_count": 5,
   "metadata": {},
   "outputs": [
    {
     "data": {
      "text/plain": [
       "ApplicationPrepareOut(refined_description=RefineOut(refined_description='', error_output=None), capabilities=CapabilitiesOut(capabilities=[], error_output=None), typespec=TypespecOut(reasoning=\"The user requested a bot that greets them by name. This is a simple use case where the bot needs to:\\n1. Store and retrieve the user's name\\n2. Generate appropriate greetings based on the user's name\\n3. Potentially support different greeting styles or times of day\\n\\nFor this bot, we need:\\n- A model to represent the user's information (name)\\n- A model for greeting options (time of day, style)\\n- Functions to set the user's name and to generate greetings\\n\\nThe interface should support:\\n- Setting the user's name\\n- Getting a greeting with the user's name\\n- Possibly updating greeting preferences\", typespec_definitions='model UserInfo {\\n  name: string;\\n}\\n\\nmodel GreetingOptions {\\n  timeOfDay: string;\\n  style: string;\\n}\\n\\nmodel UpdateNameOptions {\\n  name: string;\\n}\\n\\ninterface GreetingBot {\\n  @scenario(\\n  \"\"\"\\n  Scenario: Setting a user\\'s name\\n  When the user says \"My name is John\"\\n  Then the system should extract \"John\" as the name\\n  And store it for future greetings\\n  Examples:\\n      | Input                      | Expected Name |\\n      | \"Call me Sarah\"            | \"Sarah\"       |\\n      | \"I am Robert Johnson\"      | \"Robert Johnson\" |\\n      | \"You can refer to me as Alex\" | \"Alex\"      |\\n  \"\"\")\\n  @llm_func(\"Store a user\\'s name for personalized greetings\")\\n  setUserName(options: UpdateNameOptions): void;\\n\\n  @scenario(\\n  \"\"\"\\n  Scenario: Greeting a user by name\\n  When the user requests a greeting\\n  Then the system should return a personalized greeting using their stored name\\n  Examples:\\n      | Stored Name | Time of Day | Expected Greeting               |\\n      | \"John\"      | \"morning\"   | \"Good morning, John!\"           |\\n      | \"Sarah\"     | \"evening\"   | \"Good evening, Sarah!\"          |\\n      | \"Alex\"      | \"afternoon\" | \"Good afternoon, Alex!\"         |\\n  \"\"\")\\n  @scenario(\\n  \"\"\"\\n  Scenario: Greeting with custom style\\n  When the user requests a greeting with a specific style\\n  Then the system should incorporate that style into the personalized greeting\\n  Examples:\\n      | Stored Name | Style       | Expected Greeting               |\\n      | \"John\"      | \"formal\"    | \"Greetings, Mr. John.\"          |\\n      | \"Sarah\"     | \"casual\"    | \"Hey Sarah! What\\'s up?\"         |\\n      | \"Alex\"      | \"funny\"     | \"Well hello there, Alex-a-rino!\"|\\n  \"\"\")\\n  @llm_func(\"Generate a personalized greeting based on the user\\'s name\")\\n  getGreeting(options: GreetingOptions): string;\\n}', llm_functions=[LLMFunction(name='setUserName', description=\"Store a user's name for personalized greetings\", scenario='Scenario: Setting a user\\'s name\\n  When the user says \"My name is John\"\\n  Then the system should extract \"John\" as the name\\n  And store it for future greetings\\n  Examples:\\n      | Input                      | Expected Name |\\n      | \"Call me Sarah\"            | \"Sarah\"       |\\n      | \"I am Robert Johnson\"      | \"Robert Johnson\" |\\n      | \"You can refer to me as Alex\" | \"Alex\"      |'), LLMFunction(name='getGreeting', description=\"Generate a personalized greeting based on the user's name\", scenario='Scenario: Greeting with custom style\\n  When the user requests a greeting with a specific style\\n  Then the system should incorporate that style into the personalized greeting\\n  Examples:\\n      | Stored Name | Style       | Expected Greeting               |\\n      | \"John\"      | \"formal\"    | \"Greetings, Mr. John.\"          |\\n      | \"Sarah\"     | \"casual\"    | \"Hey Sarah! What\\'s up?\"         |\\n      | \"Alex\"      | \"funny\"     | \"Well hello there, Alex-a-rino!\"|')], error_output=None), status='success')"
      ]
     },
     "execution_count": 5,
     "metadata": {},
     "output_type": "execute_result"
    }
   ],
   "source": [
    "prepare_res"
   ]
  },
  {
   "cell_type": "code",
   "execution_count": 6,
   "metadata": {},
   "outputs": [
    {
     "data": {
      "text/plain": [
       "'model UserInfo {\\n  name: string;\\n}\\n\\nmodel GreetingOptions {\\n  timeOfDay: string;\\n  style: string;\\n}\\n\\nmodel UpdateNameOptions {\\n  name: string;\\n}\\n\\ninterface GreetingBot {\\n  @scenario(\\n  \"\"\"\\n  Scenario: Setting a user\\'s name\\n  When the user says \"My name is John\"\\n  Then the system should extract \"John\" as the name\\n  And store it for future greetings\\n  Examples:\\n      | Input                      | Expected Name |\\n      | \"Call me Sarah\"            | \"Sarah\"       |\\n      | \"I am Robert Johnson\"      | \"Robert Johnson\" |\\n      | \"You can refer to me as Alex\" | \"Alex\"      |\\n  \"\"\")\\n  @llm_func(\"Store a user\\'s name for personalized greetings\")\\n  setUserName(options: UpdateNameOptions): void;\\n\\n  @scenario(\\n  \"\"\"\\n  Scenario: Greeting a user by name\\n  When the user requests a greeting\\n  Then the system should return a personalized greeting using their stored name\\n  Examples:\\n      | Stored Name | Time of Day | Expected Greeting               |\\n      | \"John\"      | \"morning\"   | \"Good morning, John!\"           |\\n      | \"Sarah\"     | \"evening\"   | \"Good evening, Sarah!\"          |\\n      | \"Alex\"      | \"afternoon\" | \"Good afternoon, Alex!\"         |\\n  \"\"\")\\n  @scenario(\\n  \"\"\"\\n  Scenario: Greeting with custom style\\n  When the user requests a greeting with a specific style\\n  Then the system should incorporate that style into the personalized greeting\\n  Examples:\\n      | Stored Name | Style       | Expected Greeting               |\\n      | \"John\"      | \"formal\"    | \"Greetings, Mr. John.\"          |\\n      | \"Sarah\"     | \"casual\"    | \"Hey Sarah! What\\'s up?\"         |\\n      | \"Alex\"      | \"funny\"     | \"Well hello there, Alex-a-rino!\"|\\n  \"\"\")\\n  @llm_func(\"Generate a personalized greeting based on the user\\'s name\")\\n  getGreeting(options: GreetingOptions): string;\\n}'"
      ]
     },
     "execution_count": 6,
     "metadata": {},
     "output_type": "execute_result"
    }
   ],
   "source": [
    "prepare_res.typespec.typespec_definitions"
   ]
  },
  {
   "cell_type": "code",
   "execution_count": 7,
   "metadata": {},
   "outputs": [
    {
     "data": {
      "text/plain": [
       "'<reasoning>The user requested a bot that greets them by name. This is a simple use case where the bot needs to:\\n1. Store and retrieve the user\\'s name\\n2. Generate appropriate greetings based on the user\\'s name\\n3. Potentially support different greeting styles or times of day\\n\\nFor this bot, we need:\\n- A model to represent the user\\'s information (name)\\n- A model for greeting options (time of day, style)\\n- Functions to set the user\\'s name and to generate greetings\\n\\nThe interface should support:\\n- Setting the user\\'s name\\n- Getting a greeting with the user\\'s name\\n- Possibly updating greeting preferences</reasoning><typespec>model UserInfo {\\n  name: string;\\n}\\n\\nmodel GreetingOptions {\\n  timeOfDay: string;\\n  style: string;\\n}\\n\\nmodel UpdateNameOptions {\\n  name: string;\\n}\\n\\ninterface GreetingBot {\\n  @scenario(\\n  \"\"\"\\n  Scenario: Setting a user\\'s name\\n  When the user says \"My name is John\"\\n  Then the system should extract \"John\" as the name\\n  And store it for future greetings\\n  Examples:\\n      | Input                      | Expected Name |\\n      | \"Call me Sarah\"            | \"Sarah\"       |\\n      | \"I am Robert Johnson\"      | \"Robert Johnson\" |\\n      | \"You can refer to me as Alex\" | \"Alex\"      |\\n  \"\"\")\\n  @llm_func(\"Store a user\\'s name for personalized greetings\")\\n  setUserName(options: UpdateNameOptions): void;\\n\\n  @scenario(\\n  \"\"\"\\n  Scenario: Greeting a user by name\\n  When the user requests a greeting\\n  Then the system should return a personalized greeting using their stored name\\n  Examples:\\n      | Stored Name | Time of Day | Expected Greeting               |\\n      | \"John\"      | \"morning\"   | \"Good morning, John!\"           |\\n      | \"Sarah\"     | \"evening\"   | \"Good evening, Sarah!\"          |\\n      | \"Alex\"      | \"afternoon\" | \"Good afternoon, Alex!\"         |\\n  \"\"\")\\n  @scenario(\\n  \"\"\"\\n  Scenario: Greeting with custom style\\n  When the user requests a greeting with a specific style\\n  Then the system should incorporate that style into the personalized greeting\\n  Examples:\\n      | Stored Name | Style       | Expected Greeting               |\\n      | \"John\"      | \"formal\"    | \"Greetings, Mr. John.\"          |\\n      | \"Sarah\"     | \"casual\"    | \"Hey Sarah! What\\'s up?\"         |\\n      | \"Alex\"      | \"funny\"     | \"Well hello there, Alex-a-rino!\"|\\n  \"\"\")\\n  @llm_func(\"Generate a personalized greeting based on the user\\'s name\")\\n  getGreeting(options: GreetingOptions): string;\\n}</typespec>'"
      ]
     },
     "execution_count": 7,
     "metadata": {},
     "output_type": "execute_result"
    }
   ],
   "source": [
    "reasoning = prepare_res.typespec.reasoning\n",
    "typespec_schema = prepare_res.typespec.typespec_definitions\n",
    "fake_msg = f\"<reasoning>{reasoning}</reasoning><typespec>{typespec_schema}</typespec>\"\n",
    "\n",
    "fake_msg"
   ]
  },
  {
   "cell_type": "code",
   "execution_count": null,
   "metadata": {},
   "outputs": [],
   "source": [
    "\n",
    "\n",
    "final_res = builder.update_bot(\n",
    "    typespec_schema=fake_msg,\n",
    "    bot_id=\"1337_420\",\n",
    "    capabilities=[],\n",
    ")"
   ]
  },
  {
   "cell_type": "code",
   "execution_count": null,
   "metadata": {},
   "outputs": [],
   "source": [
    "final_res"
   ]
  },
  {
   "cell_type": "code",
   "execution_count": null,
   "metadata": {},
   "outputs": [],
   "source": [
    "from core.interpolator import Interpolator\n",
    "\n",
    "import os\n",
    "\n",
    "# Create the botbuild directory if it doesn't exist\n",
    "if not os.path.exists(\"../botbuild\"):\n",
    "    os.makedirs(\"../botbuild\")\n",
    "\n",
    "interpolator = Interpolator(\".\")\n",
    "\n",
    "interpolator.bake(final_res, \"../../bot_result\")\n"
   ]
  },
  {
   "cell_type": "code",
   "execution_count": null,
   "metadata": {},
   "outputs": [],
   "source": []
  }
 ],
 "metadata": {
  "kernelspec": {
   "display_name": ".venv",
   "language": "python",
   "name": "python3"
  },
  "language_info": {
   "codemirror_mode": {
    "name": "ipython",
    "version": 3
   },
   "file_extension": ".py",
   "mimetype": "text/x-python",
   "name": "python",
   "nbconvert_exporter": "python",
   "pygments_lexer": "ipython3",
   "version": "3.12.3"
  }
 },
 "nbformat": 4,
 "nbformat_minor": 2
}

{
 "cells": [
  {
   "cell_type": "code",
   "execution_count": 1,
   "metadata": {},
   "outputs": [],
   "source": [
    "from anthropic import AnthropicBedrock\n",
    "from application import Application\n",
    "from compiler.core import Compiler\n",
    "import tempfile"
   ]
  },
  {
   "cell_type": "code",
   "execution_count": 2,
   "metadata": {},
   "outputs": [],
   "source": [
    "compiler = Compiler(\"botbuild/tsp_compiler\", \"botbuild/app_schema\")\n",
    "client = AnthropicBedrock(aws_profile=\"dev\", aws_region=\"us-west-2\")"
   ]
  },
  {
   "cell_type": "code",
   "execution_count": 3,
   "metadata": {},
   "outputs": [],
   "source": [
    "tempdir = tempfile.TemporaryDirectory()\n",
    "application = Application(client, compiler, \"templates\", tempdir.name)"
   ]
  },
  {
   "cell_type": "code",
   "execution_count": 4,
   "metadata": {},
   "outputs": [],
   "source": [
    "application_description = \"\"\"\n",
    "generate a bot that greets me\n",
    "\"\"\".strip()"
   ]
  },
  {
   "cell_type": "code",
   "execution_count": 5,
   "metadata": {},
   "outputs": [
    {
     "name": "stderr",
     "output_type": "stream",
     "text": [
      "Langfuse client is disabled since no public_key was provided as a parameter or environment variable 'LANGFUSE_PUBLIC_KEY'. See our docs: https://langfuse.com/docs/sdk/python/low-level-sdk#initialize-client\n"
     ]
    },
    {
     "name": "stdout",
     "output_type": "stream",
     "text": [
      "Compiling TypeSpec...\n",
      "Compiling Typescript Schema Definitions...\n",
      "Compiling Drizzle...\n",
      "Generating Router...\n",
      "Compiling Handlers...\n",
      "Generating Application...\n"
     ]
    }
   ],
   "source": [
    "my_bot = application.create_bot(application_description)"
   ]
  },
  {
   "cell_type": "code",
   "execution_count": 6,
   "metadata": {},
   "outputs": [
    {
     "data": {
      "text/plain": [
       "ApplicationOut(typespec=TypespecOut(reasoning='For a greeting bot, we need to handle basic greeting functionality. The main function would be to generate a greeting based on:\\n1. User\\'s name (if provided)\\n2. Time of day (morning/afternoon/evening)\\n3. Optional custom message\\n\\nThe LLM can extract these from natural language messages like:\\n\"Hi, I\\'m John\" -> greet({name: \"John\"})\\n\"Good morning\" -> greet({timeOfDay: \"morning\"})\\n\"Say hi to Mary with a special message\" -> greet({name: \"Mary\", message: \"special message\"})\\n\\nThe greeting function should take into account 1 previous message for context.', typespec_definitions='model GreetingRequest {\\n    name?: string;\\n    timeOfDay?: string;\\n    message?: string;\\n}\\n\\ninterface GreetingBot {\\n    @llm_func(1)\\n    greet(request: GreetingRequest): string;\\n}', llm_functions=['greet'], error_output=None), drizzle=DrizzleOut(reasoning=\"The application has a greeting system with:\\n1. A GreetingRequest model that contains optional fields for name, timeOfDay, and message\\n2. These requests should be stored to track interactions\\n3. It's good practice to include timestamps for when requests are made\\n4. We should generate unique IDs for each greeting request\", drizzle_schema='import { pgTable, text, timestamp, uuid } from \"drizzle-orm/pg-core\";\\n\\nexport const greetingRequestsTable = pgTable(\"greeting_requests\", {\\n  id: uuid(\"id\").primaryKey().defaultRandom(),\\n  name: text(\"name\"),\\n  time_of_day: text(\"time_of_day\"),\\n  message: text(\"message\"),\\n  created_at: timestamp(\"created_at\").notNull().defaultNow(),\\n  response: text(\"response\"),\\n});', error_output=None), router=RouterOut(functions=[{'name': 'greet', 'description': 'Generates a personalized greeting based on the provided name, time of day, and/or custom message. This function handles user requests for generating greetings, welcomes, and salutations.', 'examples': ['Say hello to John', 'Good morning everyone', 'Welcome Sarah to the team', 'Generate a greeting for the evening', 'Create a welcome message for Mike', 'Say hi']}], error_output=None), handlers={'greet': HandlerOut(handler='import { db } from \"../db\";\\nimport type { GreetingRequest } from \"../common/schema\";\\nimport { greetingRequestsTable } from \"../db/schema/application\";\\n\\nexport const handle = async (options: { request: GreetingRequest }): Promise<{ greeting: string }> => {\\n    // Generate greeting message based on request parameters\\n    const timeGreeting = options.request.timeOfDay \\n        ? `Good ${options.request.timeOfDay}` \\n        : \"Hello\";\\n        \\n    const nameGreeting = options.request.name \\n        ? `, ${options.request.name}` \\n        : \"\";\\n        \\n    const customMessage = options.request.message \\n        ? ` ${options.request.message}` \\n        : \"!\";\\n\\n    const greetingMessage = `${timeGreeting}${nameGreeting}${customMessage}`;\\n\\n    // Store greeting request and response in database\\n    await db.insert(greetingRequestsTable).values({\\n        name: options.request.name,\\n        time_of_day: options.request.timeOfDay,\\n        message: options.request.message,\\n        response: greetingMessage\\n    });\\n\\n    return {\\n        greeting: greetingMessage\\n    };\\n};', error_output=None)}, typescript_schema=TypescriptOut(reasoning='The TypeSpec defines:\\n1. A `GreetingRequest` model with optional properties (indicated by ?)\\n2. A `GreetingBot` interface with a greet function that accepts a GreetingRequest and returns a string\\n3. All properties in GreetingRequest are strings', typescript_schema='export interface GreetingRequest {\\n    name?: string;\\n    timeOfDay?: string;\\n    message?: string;\\n}\\n\\nexport interface GreetingBot {\\n    greet(request: GreetingRequest): string;\\n}', type_names=['GreetingRequest', 'GreetingBot'], error_output=None), gherkin=GherkinOut(reasoning=None, gherkin=None, error_output=None), application={'greet': {'module': 'greet'}})"
      ]
     },
     "execution_count": 6,
     "metadata": {},
     "output_type": "execute_result"
    }
   ],
   "source": [
    "my_bot"
   ]
  },
  {
   "cell_type": "code",
   "execution_count": 7,
   "metadata": {},
   "outputs": [
    {
     "data": {
      "text/plain": [
       "GherkinOut(reasoning=None, gherkin=None, error_output=None)"
      ]
     },
     "execution_count": 7,
     "metadata": {},
     "output_type": "execute_result"
    }
   ],
   "source": [
    "my_bot.gherkin"
   ]
  },
  {
   "cell_type": "code",
   "execution_count": 8,
   "metadata": {},
   "outputs": [
    {
     "data": {
      "text/plain": [
       "'/tmp/tmp7sme5xwd/generated/generation-1'"
      ]
     },
     "execution_count": 8,
     "metadata": {},
     "output_type": "execute_result"
    }
   ],
   "source": [
    "application.generation_dir"
   ]
  },
  {
   "cell_type": "code",
   "execution_count": 9,
   "metadata": {},
   "outputs": [
    {
     "name": "stdout",
     "output_type": "stream",
     "text": [
      "/tmp/tmp7sme5xwd/generated/generation-1/app_schema ~/neon/bot-new-1/agent\n"
     ]
    },
    {
     "name": "stdout",
     "output_type": "stream",
     "text": [
      "\u001b[37;40mnpm\u001b[0m \u001b[0m\u001b[31;40mERR!\u001b[0m \u001b[0m\u001b[35mcode\u001b[0m ENOENT\n",
      "\u001b[0m\u001b[37;40mnpm\u001b[0m \u001b[0m\u001b[31;40mERR!\u001b[0m \u001b[0m\u001b[35msyscall\u001b[0m open\n",
      "\u001b[0m\u001b[37;40mnpm\u001b[0m \u001b[0m\u001b[31;40mERR!\u001b[0m \u001b[0m\u001b[35mpath\u001b[0m /home/eugenek/neon/bot-new-1/agent/package.json\n",
      "\u001b[0m\u001b[37;40mnpm\u001b[0m \u001b[0m\u001b[31;40mERR!\u001b[0m \u001b[0m\u001b[35merrno\u001b[0m -2\n",
      "\u001b[0m\u001b[37;40mnpm\u001b[0m \u001b[0m\u001b[31;40mERR!\u001b[0m \u001b[0m\u001b[35menoent\u001b[0m ENOENT: no such file or directory, open '/home/eugenek/neon/bot-new-1/agent/package.json'\n",
      "\u001b[0m\u001b[37;40mnpm\u001b[0m \u001b[0m\u001b[31;40mERR!\u001b[0m \u001b[0m\u001b[35menoent\u001b[0m This is related to npm not being able to find a file.\n",
      "\u001b[0m\u001b[37;40mnpm\u001b[0m \u001b[0m\u001b[31;40mERR!\u001b[0m \u001b[0m\u001b[35menoent\u001b[0m \n",
      "\u001b[0m\n",
      "\u001b[37;40mnpm\u001b[0m \u001b[0m\u001b[31;40mERR!\u001b[0m\u001b[35m\u001b[0m A complete log of this run can be found in:\n",
      "\u001b[0m\u001b[37;40mnpm\u001b[0m \u001b[0m\u001b[31;40mERR!\u001b[0m\u001b[35m\u001b[0m     /home/eugenek/.npm/_logs/2025-02-17T12_21_03_124Z-debug-0.log\n",
      "\u001b[0m\n",
      "\u001b[41m                                                                               \u001b[0m\n",
      "\u001b[41m\u001b[37m                This is not the tsc command you are looking for                \u001b[0m\n",
      "\u001b[41m                                                                               \u001b[0m\n",
      "\n",
      "To get access to the TypeScript compiler, \u001b[34mtsc\u001b[0m, from the command line either:\n",
      "\n",
      "- Use \u001b[1mnpm install typescript\u001b[0m to first add TypeScript to your project \u001b[1mbefore\u001b[0m using npx\n",
      "- Use \u001b[1myarn\u001b[0m to avoid accidentally running code from un-installed packages\n",
      "/bin/bash: line 1: popd: directory stack empty\n"
     ]
    }
   ],
   "source": [
    "!pushd {application.generation_dir}/app_schema\n",
    "!npm install\n",
    "!npx tsc src/main.ts\n",
    "!popd\n"
   ]
  },
  {
   "cell_type": "code",
   "execution_count": 10,
   "metadata": {},
   "outputs": [
    {
     "data": {
      "text/plain": [
       "TypespecOut(reasoning='For a greeting bot, I expect:\\n1. The bot should be able to greet users with personalized messages\\n2. The greeting should be contextual based on time of day (morning/afternoon/evening)\\n3. LLM can extract name and potentially preferred greeting style from messages like:\\n   \"Hi, I\\'m John\" -> greet({name: \"John\"})\\n   \"Hello, call me Sarah\" -> greet({name: \"Sarah\"})\\nThe interface should be simple as the main functionality is just greeting.\\nWe\\'ll need:\\n- greet function that takes name and returns appropriate greeting\\n- The time of day can be inferred by the system, so no need for explicit time parameter', typespec_definitions='model GreetingRequest {\\n    name: string;\\n    style?: string;  // formal/casual/friendly etc.\\n}\\n\\ninterface GreetingBot {\\n    @llm_func(1)\\n    greet(request: GreetingRequest): string;\\n}', llm_functions=['greet'], error_output=None)"
      ]
     },
     "execution_count": 10,
     "metadata": {},
     "output_type": "execute_result"
    }
   ],
   "source": [
    "typespec = application._make_typespec(application_description)\n",
    "typespec"
   ]
  },
  {
   "cell_type": "code",
   "execution_count": 11,
   "metadata": {},
   "outputs": [
    {
     "data": {
      "text/plain": [
       "TypescriptOut(reasoning=\"The application consists of:\\n1. A request model for greetings that includes a required name and an optional style\\n2. An interface for a greeting bot that processes these requests\\nThe optional parameter in TypeSpec is denoted with '?', which translates directly to TypeScript syntax\", typescript_schema=\"export interface GreetingRequest {\\n    name: string;\\n    style?: string;\\n}\\n\\n// Note: The @llm_func decorator from TypeSpec is typically not needed in the TypeScript\\n// implementation, as it's more of a runtime/implementation detail\\nexport interface GreetingBot {\\n    greet(request: GreetingRequest): Promise<string>;\\n}\", type_names=['GreetingRequest', 'GreetingBot'], error_output=None)"
      ]
     },
     "execution_count": 11,
     "metadata": {},
     "output_type": "execute_result"
    }
   ],
   "source": [
    "typescript_schema = application._make_typescript_schema(typespec.typespec_definitions)\n",
    "typescript_schema"
   ]
  },
  {
   "cell_type": "code",
   "execution_count": 12,
   "metadata": {},
   "outputs": [
    {
     "ename": "AttributeError",
     "evalue": "'TypespecOut' object has no attribute 'typescript_schema'",
     "output_type": "error",
     "traceback": [
      "\u001b[0;31m---------------------------------------------------------------------------\u001b[0m",
      "\u001b[0;31mAttributeError\u001b[0m                            Traceback (most recent call last)",
      "Cell \u001b[0;32mIn[12], line 1\u001b[0m\n\u001b[0;32m----> 1\u001b[0m drizzle \u001b[38;5;241m=\u001b[39m application\u001b[38;5;241m.\u001b[39m_make_drizzle(\u001b[43mtypespec\u001b[49m\u001b[38;5;241;43m.\u001b[39;49m\u001b[43mtypescript_schema\u001b[49m)\n\u001b[1;32m      2\u001b[0m drizzle\n",
      "\u001b[0;31mAttributeError\u001b[0m: 'TypespecOut' object has no attribute 'typescript_schema'"
     ]
    }
   ],
   "source": [
    "drizzle = application._make_drizzle(typespec.typescript_schema)\n",
    "drizzle"
   ]
  },
  {
   "cell_type": "code",
   "execution_count": null,
   "metadata": {},
   "outputs": [],
   "source": [
    "drizzle.error_output, drizzle.reasoning, drizzle.drizzle_schema"
   ]
  },
  {
   "cell_type": "code",
   "execution_count": null,
   "metadata": {},
   "outputs": [],
   "source": [
    "router = application._make_router(typespec.data.output.typespec_definitions)\n",
    "router.score, router.data.output"
   ]
  },
  {
   "cell_type": "code",
   "execution_count": null,
   "metadata": {},
   "outputs": [],
   "source": [
    "handlers = application._make_handlers(\n",
    "    typespec.data.output.llm_functions,\n",
    "    typespec.data.output.typespec_definitions,\n",
    "    typescript_schema.data.output.typescript_schema,\n",
    "    drizzle.data.output.drizzle_schema,\n",
    ")"
   ]
  },
  {
   "cell_type": "code",
   "execution_count": null,
   "metadata": {},
   "outputs": [],
   "source": [
    "for name, handler in handlers.items():\n",
    "    print(name, handler.score, handler.depth, handler.data.output)\n",
    "    if handler.score != 1:\n",
    "        print(handler.data.output.feedback[\"stdout\"])"
   ]
  }
 ],
 "metadata": {
  "kernelspec": {
   "display_name": ".venv",
   "language": "python",
   "name": "python3"
  },
  "language_info": {
   "codemirror_mode": {
    "name": "ipython",
    "version": 3
   },
   "file_extension": ".py",
   "mimetype": "text/x-python",
   "name": "python",
   "nbconvert_exporter": "python",
   "pygments_lexer": "ipython3",
   "version": "3.12.3"
  }
 },
 "nbformat": 4,
 "nbformat_minor": 2
}
